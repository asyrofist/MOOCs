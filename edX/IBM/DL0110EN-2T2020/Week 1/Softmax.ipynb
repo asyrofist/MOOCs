{
 "cells": [
  {
   "cell_type": "markdown",
   "metadata": {},
   "source": [
    "# Softmax\n",
    "\n",
    "We use the Softmax function when we have a dataset that consists of inputs which can be classified into one of multiple output classes. Up until now, we have classified our data in PyTorch as either belonging to one of the two classes, *i.e.*, class `0` or class `1`. Now, we'll look at how we can use Softmax to classify our input data into one of the many classes belonging to the output.\n",
    "\n",
    "$$\n",
    "z = xW + b\n",
    "$$\n",
    "\n",
    "Below we show how the directed graph of the Softmax function looks like. The graph is identical to that of a multi output linear regression.\n",
    "\n",
    "<img src=\"images/softmax.svg\" width=\"30%\"/>\n",
    "\n",
    "The model is identical to multiple output linear regression, but instead of `Y` we use `Z`. For classification we are interested in the column indexes that pertains to the maximum value of `Z`.\n",
    "\n",
    "<img src=\"images/zxwb.svg\" width=\"50%\"/>\n",
    "\n",
    "We can apply the Softmax function to multiple input samples as well.\n",
    "\n",
    "<img src=\"images/zxwb_multiple.svg\" width=\"50%\"/>\n",
    "\n",
    "Let's talk about implementing the Softmax function in PyTorch. As we saw previously with logistic regression, we can create a custom module for Softmax using the nn dot module package in PyTorch. Here's how we would implement the Softmax function in PyTorch if we were implementing it from scratch. If you notice carefully, this implementation is very similar to a custom logistic regression. The only difference is, instead of 1 in out parameter, we are now using an `out_size` parameter in the constructor of this class. The parameter corresponds to the number of classes in the output. "
   ]
  },
  {
   "cell_type": "code",
   "execution_count": 19,
   "metadata": {},
   "outputs": [],
   "source": [
    "import torch\n",
    "import torch.nn as nn\n",
    "from torch.nn import Linear\n",
    "\n",
    "torch.manual_seed(1)\n",
    "\n",
    "class Softmax(nn.Module):\n",
    "    def __init__(self, in_size, out_size):\n",
    "        super(Softmax, self).__init__()\n",
    "        self.linear = nn.Linear(in_size, out_size)\n",
    "\n",
    "    def forward(self, x):\n",
    "        out = self.linear(x)\n",
    "        return out"
   ]
  },
  {
   "cell_type": "markdown",
   "metadata": {},
   "source": [
    "Let's try to use the Softmax class we just wrote. In the Softmax constructor for our model, we pass in 2 as the first parameter since we have a 2 dimensional input sample and 3 as the second parameter since we have 3 output classes. We have our input tensor with two dimensions, which we input to our model. We call the `max` function on `z`, where the argument of 1 indicates that we want to get the maximum value from `z` with respect to axis 1. In simple terms, this means we want the index pertaining to the `max` value from `z` with respect to each column. Since `z` only has one row, that means comparing all the columns values of `z` for only this one row."
   ]
  },
  {
   "cell_type": "code",
   "execution_count": 20,
   "metadata": {},
   "outputs": [
    {
     "name": "stdout",
     "output_type": "stream",
     "text": [
      "Z matrix:\n",
      "tensor([[-0.4053,  0.8864,  0.2807]], grad_fn=<AddmmBackward>)\n",
      "\n",
      "Index with maximum value: tensor([1])\n"
     ]
    }
   ],
   "source": [
    "model = Softmax(2, 3)\n",
    "x = torch.tensor([[1.0,2.0]])\n",
    "z = model(x)\n",
    "_, yhat = z.max(1)\n",
    "print('Z matrix:')\n",
    "print(z)\n",
    "print()\n",
    "print('Index with maximum value: {}'.format(yhat))"
   ]
  },
  {
   "cell_type": "markdown",
   "metadata": {},
   "source": [
    "We see the column with index 1 corresponds to the largest value in `z`. In the output we get the column index corresponding to the largest value in `z`, which in this case is 1. This would represent the class of the sample `x`.\n",
    "\n",
    "Let's look at the case when we have multiple multi dimensional inputs. We can represent this scenario as follows. We pass in `X` to our Softmax model and get `Z` as the output. Here we have the column indexes side by side with the actual values of `z`. We call the max function on `z` passing one as the argument, which will find the maximum index value with respect to the columns for each row in `z`. So for all samples, the maximum index corresponds to column 1. As a result each value in `yhat` would represent the class of each of the corresponding rows in `X`."
   ]
  },
  {
   "cell_type": "code",
   "execution_count": 21,
   "metadata": {},
   "outputs": [
    {
     "name": "stdout",
     "output_type": "stream",
     "text": [
      "Z matrix:\n",
      "tensor([[-0.0932,  0.5545, -0.1433],\n",
      "        [-0.4053,  0.8864,  0.2807],\n",
      "        [-0.7174,  1.2183,  0.7048]], grad_fn=<AddmmBackward>)\n",
      "\n",
      "Index with maximum value: tensor([1, 1, 1])\n"
     ]
    }
   ],
   "source": [
    "X = torch.tensor([[1.0, 1.0],\n",
    "                  [1.0, 2.0],\n",
    "                  [1.0, 3.0]])\n",
    "Z = model(X)\n",
    "_, yhat = Z.max(1)\n",
    "\n",
    "print('Z matrix:')\n",
    "print(Z)\n",
    "print()\n",
    "print('Index with maximum value: {}'.format(yhat))"
   ]
  },
  {
   "cell_type": "markdown",
   "metadata": {},
   "source": [
    "## Softmax Using Lines to Classify Data\n",
    "\n",
    "Now, we talk about the Softmax function and understand its internal workings. First we'll start discussing the Softmax function in 1D and then we’ll cover the 2D case. This will give you an intuition of how the Softmax function generalizes to multiple dimensions. Just like logistic regression, we'll have integer classes but instead of just two classes. We could have multiple classes, and in this case we have four.\n",
    "\n",
    "$$\n",
    "y = \\left [ \\begin{matrix}\n",
    "2 \\\\\n",
    "1 \\\\\n",
    "4 \\\\\n",
    "0 \\\\\n",
    "\\end{matrix} \\right ]\n",
    "$$\n",
    "\n",
    "We'll also have feature vectors or tensors and each sample. Each sample will correspond to a different row in the matrix or tensor $X$. Just like logistic regression the Softmax function will use different lines to classify data.\n",
    "\n",
    "$$\n",
    "X = \\left [ \\begin{matrix}\n",
    "4.9 & 3 & 1.4 & 0.2 \\\\\n",
    "4.1 & 1 & 1.4 & 0.2 \\\\\n",
    "1.1 & 2.1 & 3 & -1  \\\\\n",
    "4.3 & 1.9 & 1 & 7.9 \\\\\n",
    "\\end{matrix} \\right ]\n",
    "$$\n",
    "\n",
    "Let's start with an example to understand how the Softmax function works. In this example we have three classes and a one-dimensional feature vector $x$. $y=0$ is denoted by the blue points, $y=1$ is denoted by the red points, and $y=2$ is denoted by the green points.\n",
    "\n",
    "<img src=\"images/plot.svg\" width=\"50%\"/>\n",
    "\n",
    "Now, it is pretty evident from this plot that any point in the left region will be classified as blue, points in the center region, will be classified as red, and points in the right region, will be classified as green.\n",
    "\n",
    "<img src=\"images/plot_regions.svg\" width=\"50%\"/>\n",
    "\n",
    "Let's see how we can use different lines to classify these points. Here we have three different lines each having their corresponding weights and bias terms. Let's look at the outputs of these lines and see what happens when we plug in different values for $x$.\n",
    "\n",
    "<img src=\"images/plot_lines.svg\" width=\"50%\"/>\n",
    "\n",
    "If we plug a value of $x$ in the first region, it turns out the output of the line $z$ zero will be greater than the red and green lines. From the image below it is clearly evident the output of the red line is lesser than the blue line. Thus, we can conclude that for values of $x$ in this region, $z_0$ is greater than $z_1$ and $z_2$.\n",
    "\n",
    "<img src=\"images/plot_blue.svg\" width=\"50%\"/>\n",
    "\n",
    "Similarly, if we plug a value of $x$ for the center region, the output of $z_1$ will be greater than the other lines. Thus, we can conclude that, the output of $z_1$ will be greater than $z_0$ and $z_2$ for values of $x$ in this region.\n",
    "\n",
    "<img src=\"images/plot_red.svg\" width=\"50%\"/>\n",
    "\n",
    "Finally if we're in the green region, the output of $z_2$ will be larger than any of the other lines. Thus the output of $z_2$ will be greater than $z_0$ and $z_1$ for values of $x$ in this region.\n",
    "\n",
    "<img src=\"images/plot_green.svg\" width=\"50%\"/>\n",
    "\n",
    "Before we continue let's review the `argmax` function. The argmax function returns the index corresponding to the largest value in a sequence of numbers. Below, the largest value in $z$ is 100, and the corresponding index is 0. Thus, the `argmax` function will return zero.\n",
    "\n",
    "$$\n",
    "Z = [100, 0.2, 0, 2, 3, 2, 0, 3, 0, 2] \\\\\n",
    "\\hat{y} = \\text{argmax}_i{z_i} \\\\\n",
    "\\hat{y} = 0\n",
    "$$\n",
    "\n",
    "In this example, the largest value of $z$ is 10, and the corresponding index is 7, so the `argmax` function will return 7.\n",
    "\n",
    "$$\n",
    "Z = [1, 3, 2, 4, 3, 2, 0, 10, 9, 7] \\\\\n",
    "\\hat{y} = \\text{argmax}_i{z_i} \\\\\n",
    "\\hat{y} = 7\n",
    "$$\n",
    "\n",
    "Now, let's combine the argmax function and the different lines we had from earlier for fully understanding the working of the Softmax function. Below, we have the three lines along with the actual values for the weights and bias parameters.\n",
    "\n",
    "<img src=\"images/plot_example.svg\" width=\"50%\"/>\n",
    "\n",
    "So let's say we have a sample of $x=-1.5$. Plugging in this value of $x$ in each line, we get an output for each line. For the green line we can't really see the output since it's negative. We store these outputs in the following table with the index $i$ corresponding to the line number and apply the `argmax` function to the table.\n",
    "\n",
    "|     | $z_0$ | $z_1$ | $z_2$ |\n",
    "| :-: | :---: | :---: | :---: |\n",
    "|  i  |   0   |   1   |   2   |\n",
    "|     |  2.33 |  1.15 | -3.30 |\n",
    "\n",
    "Since the largest value corresponds to $z_0$. The `argmax` function returns zero and $\\hat{y}=0$. That's the SoftMax prediction for that sample.\n",
    "\n",
    "Let's look at another example. This time the value of $x=0.5$. Plugging in the values of $x$ in the different lines and storing the outputs in a table.\n",
    "\n",
    "|     | $z_0$ | $z_1$ | $z_2$ |\n",
    "| :-: | :---: | :---: | :---: |\n",
    "|  i  |   0   |   1   |   2   |\n",
    "|     | -1.25 |  1.36 |  0.64 |\n",
    "\n",
    "Applying the `argmax` function we notice that this time the largest output corresponds to index 1 and thus $\\hat{y}=1$. So Softmax will classify this sample as class 1.\n",
    "\n",
    "Finally, let's select the value of $x=1.5$. Plugging in the values of $x$ in the different lines and storing the outputs in a table.\n",
    "\n",
    "|     | $z_0$ | $z_1$ | $z_2$ |\n",
    "| :-: | :---: | :---: | :---: |\n",
    "|  i  |   0   |   1   |   2   |\n",
    "|     | -3.05 |  1.46 |  2.60 |\n",
    "\n",
    "Applying the `argmax` function we notice that this time the largest output corresponds to index 2 and thus $\\hat{y}=2$. So Softmax will classify this sample as class 2.\n",
    "\n",
    "Now, let's cover the Softmax function for the general case where we will have multi dimensional inputs. We'll use the MNIST dataset for explaining how Softmax works for the general case. The MNIST dataset is used for classifying handwritten digits into different classes ranging from 0 to 9.\n",
    "\n",
    "<img src=\"images/mnist.svg\" width=\"30%\"/>\n",
    "\n",
    "For each handwritten image we are going to concatenate it to a vector as follows.\n",
    "\n",
    "<img src=\"images/mnist_data.svg\" width=\"30%\"/>\n",
    "\n",
    "Since each image is a greyscale image, the intensity values for each pixel can range from 0 to 255. Further, each image in the MNIST dataset comprises of 784 pixels, thus our vector has 784 values in it. To visualize the softmax function, we'll consider vectors in 2 dimensions. Visualizing and plotting 784 dimensions would be extremely difficult. To visualize Softmax in 2D, you can think of the samples as vectors.\n",
    "\n",
    "<img src=\"images/plot_2d.svg\" width=\"30%\"/>\n",
    "\n",
    "Below, we have three weight parameters $w_0$, $w_1$ and $w_2$, the vectors values are shown in the table. \n",
    "\n",
    "| $i$ |                           $w$                               | $z_i = w_i x$ |\n",
    "| :-: | :---------------------------------------------------------: | :-----------: |\n",
    "|  1  | $\\left [ \\frac{1}{\\sqrt{2}}, \\frac{1}{\\sqrt{2}} \\right ]$   |               |\n",
    "|  2  | $\\left [ -\\frac{1}{\\sqrt{2}}, \\frac{1}{\\sqrt{2}} \\right ]$  |               |\n",
    "|  3  |                                                $[ 0, -1 ]$  |               |\n",
    "\n",
    "These vectors represent the parameters of Softmax in 2D. The Softmax function is used for finding the points nearest to each parameter vector. So anything in the second quadrant will be classified as blue because its nearest to the vector $w_1$.\n",
    "Similarly, anything in the first quadrant will be classified as red because it's nearest to the vector $w_0$. We can do the same for the green parameter.\n",
    "\n",
    "Let's look at few examples. For the sake of simplicity,\n",
    "we'll use the $x_1$ vector to represent the number \"0\" in 2 dimensions. \n",
    "\n",
    "<img src=\"images/argmax_zero.svg\" width=\"30%\"/>\n",
    "\n",
    "The Softmax function will first perform the dot product of $x_1$ with each of the $w$ vectors. It will then call the argmax function, which will return 0 and Softmax will classify this sample as class 0.\n",
    "\n",
    "| $i$ |                        $w$                                 |     $z_i = w_i x$     |\n",
    "| :-: | :--------------------------------------------------------: | :-------------------: |\n",
    "|  1  |  $\\left [ \\frac{1}{\\sqrt{2}}, \\frac{1}{\\sqrt{2}} \\right ]$ |  $\\frac{1}{\\sqrt{2}}$ |\n",
    "|  2  | $\\left [ -\\frac{1}{\\sqrt{2}}, \\frac{1}{\\sqrt{2}} \\right ]$ | $-\\frac{1}{\\sqrt{2}}$ |\n",
    "|  3  |                                                $[ 0, -1 ]$ |                     0 |\n",
    "\n",
    "Intuitively as well we can see the sample $x_1$ is nearest to $w_0$ compared to $w_1$ and $w_2$. \n",
    "\n",
    "Let's look at another vector $x_2$ which represents the number 1 in 2 dimensions.\n",
    "\n",
    "<img src=\"images/argmax_one.svg\" width=\"30%\"/>\n",
    "\n",
    "Computing the dot product, and using the `argmax` function on the computed values, we see that we will classify this sample belonging to class 1. \n",
    "\n",
    "| $i$ |                        $w$                                 |     $z_i=w_ix$      |\n",
    "| :-: | :--------------------------------------------------------: | :--------------------: |\n",
    "|  1  |  $\\left [ \\frac{1}{\\sqrt{2}}, \\frac{1}{\\sqrt{2}} \\right ]$ | $-\\frac{1}{\\sqrt{2}} $ |\n",
    "|  2  | $\\left [ -\\frac{1}{\\sqrt{2}}, \\frac{1}{\\sqrt{2}} \\right ]$ | $\\frac{1}{\\sqrt{2}}$   |\n",
    "|  3  |                                                $[ 0, -1 ]$ |                     0  |\n",
    "\n",
    "Mathematically, the dot product for the vectors is calculated by performing matrix multiplication for each vector. \n",
    "\n",
    "$$\n",
    "\\begin{matrix}\n",
    "[z_0 & z_1 & z_2 ]\n",
    "\\end{matrix} = \\begin{matrix}\n",
    "[ x_1 & x_2 ]\n",
    "\\end{matrix} \\left [ \\begin{matrix}\n",
    "\\frac{1}{\\sqrt{2}} & -\\frac{1}{\\sqrt{2}} & 0 \\\\\n",
    "\\frac{1}{\\sqrt{2}} & \\frac{1}{\\sqrt{2}} & 1 \\\\\n",
    "\\end{matrix} \\right ] + \\begin{matrix}\n",
    "[ b_0 & b_1 & b_2 ]\n",
    "\\end{matrix}\n",
    "$$\n",
    "\n",
    "The reason the function is called Softmax since the actual distances, *i.e.*, dot products for each input vector with the parameters is converted to probabilities using probability functions, similar to logistic regression.\n",
    "\n",
    "$$\n",
    "\\text{Softmax} = \\frac{e^{z_i}}{\\sum\\limits_{j=1}^{K} e^{z_j}}\n",
    "$$"
   ]
  },
  {
   "cell_type": "markdown",
   "metadata": {},
   "source": [
    "## Softmax PyTorch\n",
    "\n",
    "Now, we look at how we can start using the Softmax function in PyTorch for performing classification. The essential steps for performing any kind of classification in Pytorch are as follows:\n",
    "- First, we need to load our data. \n",
    "- Next, we create our model.\n",
    "- Next we train the model on training data;\n",
    "- Finally we view the results by using our model to classify test data.\n",
    "\n",
    "Let's begin by loading our data. We'll import the common modules used before, and further we'll also include `torchvision.transforms` and `torchvision.datasets`. Transforms provides us with a lot of useful transformation functions that can be used for computer vision. Datasets has many useful pre-built datasets that can be used with our classification models."
   ]
  },
  {
   "cell_type": "code",
   "execution_count": 2,
   "metadata": {},
   "outputs": [],
   "source": [
    "import torch\n",
    "import torch.nn as nn\n",
    "import torchvision.transforms as transforms\n",
    "import torchvision.datasets as dsets"
   ]
  },
  {
   "cell_type": "markdown",
   "metadata": {},
   "source": [
    "So, we load the MNIST dataset. We have a training dataset and a validation dataset for our input data. We use our validation dataset as the test dataset for our classification models. So, for our training dataset, we specify the train parameter equal to `True` while loading the data. We also specify the transform parameter as `transforms.toTensor()` and by specifying this all the MNIST images will be loaded as PyTorch tensors. We do the same for the validation dataset. "
   ]
  },
  {
   "cell_type": "code",
   "execution_count": 49,
   "metadata": {},
   "outputs": [
    {
     "name": "stdout",
     "output_type": "stream",
     "text": [
      "Train shape: Dataset MNIST\n",
      "    Number of datapoints: 60000\n",
      "    Root location: ./data\n",
      "    Split: Train\n",
      "    StandardTransform\n",
      "Transform: ToTensor()\n",
      "Test shape: Dataset MNIST\n",
      "    Number of datapoints: 10000\n",
      "    Root location: ./data\n",
      "    Split: Test\n",
      "    StandardTransform\n",
      "Transform: ToTensor()\n"
     ]
    }
   ],
   "source": [
    "train_dataset = dsets.MNIST(root='./data', train=True, download=True, transform=transforms.ToTensor())\n",
    "validation_dataset = dsets.MNIST(root='./data', train=False, download=True, transform=transforms.ToTensor())\n",
    "print('Train shape: {}'.format(train_dataset))\n",
    "print('Test shape: {}'.format(validation_dataset))"
   ]
  },
  {
   "cell_type": "markdown",
   "metadata": {},
   "source": [
    "The first element of the train dataset contains a tuple. The first element of the tuple is the actual MNIST image loaded as a tensor, and the second element of the tuple is the actual class of the image, which in this case is 5. Similarly, the second element of the training dataset is also a tuple containing the image and the class of the image. Thus, all elements of the training dataset will be in this form."
   ]
  },
  {
   "cell_type": "code",
   "execution_count": 15,
   "metadata": {},
   "outputs": [
    {
     "data": {
      "image/png": "[encoded data removed]",
      "text/plain": [
       "<Figure size 720x216 with 16 Axes>"
      ]
     },
     "metadata": {},
     "output_type": "display_data"
    }
   ],
   "source": [
    "import matplotlib.pyplot as plt\n",
    "\n",
    "plt.figure(figsize=(10,3))\n",
    "for i in range(0, 16):\n",
    "    plt.subplot(2, 8, i+1) #rows, columns\n",
    "    img, y = train_dataset[i]\n",
    "    plt.imshow(img.numpy().reshape(28, 28), cmap='gray')\n",
    "    plt.xlabel(str(y))\n",
    "    plt.xticks([])\n",
    "    plt.yticks([])\n",
    "plt.show()"
   ]
  },
  {
   "cell_type": "markdown",
   "metadata": {},
   "source": [
    "Now, let's take a closer look at a single tuple of the training dataset. The first element of the tuple is a 28 by 28 float tensor of the image and the second element contains a long tensor which is the actual class of the image. In this case the image is 5 so the second element of the tuple will be a 5."
   ]
  },
  {
   "cell_type": "code",
   "execution_count": 26,
   "metadata": {},
   "outputs": [
    {
     "data": {
      "image/png": "[encoded data removed]",
      "text/plain": [
       "<Figure size 432x288 with 1 Axes>"
      ]
     },
     "metadata": {
      "needs_background": "light"
     },
     "output_type": "display_data"
    }
   ],
   "source": [
    "def show_data(data_sample):\n",
    "    plt.imshow(data_sample[0].numpy().reshape(28, 28), cmap='gray')\n",
    "    plt.title('y = '+ str(data_sample[1]))\n",
    "show_data(train_dataset[0])"
   ]
  },
  {
   "cell_type": "markdown",
   "metadata": {},
   "source": [
    "Now let's talk about creating a model for performing classification. We'll use our Softmax classifier that we created previously."
   ]
  },
  {
   "cell_type": "code",
   "execution_count": 27,
   "metadata": {},
   "outputs": [],
   "source": [
    "class SoftMax(nn.Module):\n",
    "    def __init__(self, in_size, out_size):\n",
    "        super(SoftMax, self).__init__()\n",
    "        self.linear = nn.Linear(in_size, out_size)\n",
    "\n",
    "    def forward(self, x):\n",
    "        out = self.linear(x)\n",
    "        return out"
   ]
  },
  {
   "cell_type": "markdown",
   "metadata": {},
   "source": [
    "We'll concatenate our 28 by 28 images to a 1D vector, thus, our images that is 28 by 28 dimensions will be converted to 28x28 before the SoftMax classifier. Also, since we have 10 output classes our output dimension will be 10."
   ]
  },
  {
   "cell_type": "code",
   "execution_count": 50,
   "metadata": {},
   "outputs": [
    {
     "name": "stdout",
     "output_type": "stream",
     "text": [
      "W: torch.Size([10, 784])\n",
      "b: torch.Size([10])\n"
     ]
    }
   ],
   "source": [
    "input_dim = 28*28\n",
    "output_dim = 10\n",
    "\n",
    "model = SoftMax(input_dim, output_dim)\n",
    "print('W:', list(model.parameters())[0].size())\n",
    "print('b:', list(model.parameters())[1].size())"
   ]
  },
  {
   "cell_type": "markdown",
   "metadata": {},
   "source": [
    "As learnt previously, the Softmax classifier uses parameter vectors for classification. Since we have 10 output classes we'll have 10 weight parameters and 10 bias parameters for Softmax. Each parameter will be 784 dimensions long. As initially all the parameters are random, the visualization of the parameters looks like random noise. \n",
    "\n",
    "Next, we specify our loss criterion function as cross entropy loss. In PyTorch, when the loss criteria is specified as cross entropy loss,\n",
    "PyTorch will automatically perform Softmax classification based upon its inbuilt functionality. Another note, the input for the loss criterion here needs to be a long tensor with dimension of $N$. We also have to specify our optimizer and learning rate for our model, as well as a few other parameters such as the number of epochs, the misclassified samples and the correctly classified samples."
   ]
  },
  {
   "cell_type": "code",
   "execution_count": 51,
   "metadata": {},
   "outputs": [],
   "source": [
    "criterion = nn.CrossEntropyLoss()\n",
    "optimizer = torch.optim.SGD(model.parameters(), lr=0.01)\n",
    "n_epochs = 100"
   ]
  },
  {
   "cell_type": "markdown",
   "metadata": {},
   "source": [
    "So we create our train loader and our batch size will be 100. Similarly, we define our validation loader and our batch size will be 5000\n",
    "and again this is technically our test data. "
   ]
  },
  {
   "cell_type": "code",
   "execution_count": 52,
   "metadata": {},
   "outputs": [],
   "source": [
    "train_loader = torch.utils.data.DataLoader(dataset=train_dataset, batch_size=100)\n",
    "validation_loader = torch.utils.data.DataLoader(dataset=validation_dataset, batch_size=5000)"
   ]
  },
  {
   "cell_type": "markdown",
   "metadata": {},
   "source": [
    "Now, let's train our model. The code for training the model is below. As you can see, everything looks identical except for the view method. What it does is that for each element in the training batch it converts the rectangle tensors in a batch to a row tensor. In a single epoch, we first train the model with the `train_loader`. Then, we test our model with the validation dataset. We calculate the `max` of the predicted output on the validation data. If we look at our predicted class y hat, we'll get the largest element of Z and y test will be our actual classes. We compare each element of y hat with the corresponding element of \"y test\". We get a binary vector, which contains 1 at the index. If there's a match at the corresponding elements of y hat and \"y test\". Otherwise it contains a zero if there isn't a match. We sum all the values in this binary vector. We convert the result to accuracy and store it."
   ]
  },
  {
   "cell_type": "code",
   "execution_count": 53,
   "metadata": {},
   "outputs": [
    {
     "name": "stderr",
     "output_type": "stream",
     "text": [
      "[100 %] Time elapsed: 00:14:28 | ETA: 00:00:00\n",
      "Total time elapsed: 00:14:28\n"
     ]
    }
   ],
   "source": [
    "import progressbar\n",
    "pbar = progressbar.ProgressBar(n_epochs)\n",
    "\n",
    "N_test = len(validation_dataset)\n",
    "loss_epoch = []\n",
    "accuracy_list = []\n",
    "for epoch in range(n_epochs):\n",
    "    for x, y in train_loader:\n",
    "        optimizer.zero_grad()\n",
    "        z = model(x.view(-1, 28*28))\n",
    "        loss = criterion(z, y)\n",
    "        loss.backward()\n",
    "        optimizer.step()\n",
    "    loss_epoch.append(loss)\n",
    "    \n",
    "    correct = 0\n",
    "    for x_test, y_test in validation_loader:\n",
    "        z = model(x_test.view(-1, 28*28))\n",
    "        _, yhat = torch.max(z.data, 1)\n",
    "        correct = correct + (yhat == y_test).sum().item()\n",
    "    accuracy = correct / float(N_test)\n",
    "    accuracy_list.append(accuracy)\n",
    "    \n",
    "    pbar.update()"
   ]
  },
  {
   "cell_type": "code",
   "execution_count": 54,
   "metadata": {},
   "outputs": [
    {
     "data": {
      "image/png": "[encoded data removed]",
      "text/plain": [
       "<Figure size 720x360 with 1 Axes>"
      ]
     },
     "metadata": {
      "needs_background": "light"
     },
     "output_type": "display_data"
    }
   ],
   "source": [
    "plt.figure(figsize=(10,5))\n",
    "plt.plot(accuracy_list)\n",
    "plt.xlabel('Epochs')\n",
    "plt.ylabel('Accuracy')\n",
    "plt.title('Accuracy in test set')\n",
    "plt.show()"
   ]
  },
  {
   "cell_type": "code",
   "execution_count": 55,
   "metadata": {},
   "outputs": [
    {
     "data": {
      "image/png": "[encoded data removed]",
      "text/plain": [
       "<Figure size 720x360 with 1 Axes>"
      ]
     },
     "metadata": {
      "needs_background": "light"
     },
     "output_type": "display_data"
    }
   ],
   "source": [
    "plt.figure(figsize=(10,5))\n",
    "plt.plot(loss_epoch)\n",
    "plt.xlabel('Epochs')\n",
    "plt.ylabel('Loss')\n",
    "plt.title('Loss of training set')\n",
    "plt.show()"
   ]
  }
 ],
 "metadata": {
  "kernelspec": {
   "display_name": "Python 3",
   "language": "python",
   "name": "python3"
  },
  "language_info": {
   "codemirror_mode": {
    "name": "ipython",
    "version": 3
   },
   "file_extension": ".py",
   "mimetype": "text/x-python",
   "name": "python",
   "nbconvert_exporter": "python",
   "pygments_lexer": "ipython3",
   "version": "3.6.10"
  }
 },
 "nbformat": 4,
 "nbformat_minor": 4
}
