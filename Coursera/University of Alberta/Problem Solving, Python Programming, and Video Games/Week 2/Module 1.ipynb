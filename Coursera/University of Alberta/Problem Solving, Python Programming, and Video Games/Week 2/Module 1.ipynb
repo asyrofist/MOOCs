{
 "cells": [
  {
   "cell_type": "markdown",
   "metadata": {},
   "source": [
    "# Design Hacking: Version 1"
   ]
  },
  {
   "cell_type": "markdown",
   "metadata": {},
   "source": [
    "## Algorithms for Computational Problem-Solving\n",
    "\n",
    "Computational problem-solving, also called computational thinking, uses three kinds of techniques to solve problems: *problem decomposition*, *algorithms*, and *abstraction*. A process or **algorithm** is a sequence of actions that solves a problem or create something, which we call an artifact. \n",
    "\n",
    "Below, there is a game creation process diagram, where each sub-task is a part of the computational problem. The first sub-task is **understand game**, where you need to understand what game you are trying to make, *i.e.*, knowing what happens, where it happens, when it happens, and why it happens. \n",
    "\n",
    "<img src=\"https://cdn.rawgit.com/rogergranada/MOOCs/master/Coursera/University%20of%20Alberta/Problem%20Solving%2C%20Python%20Programming%2C%20and%20Video%20Games/Week%202/images/create_game_1.svg\" width=\"80%\"/>\n",
    "\n",
    "Understand game can be divided into two sub-tasks: *observe game* and *play game*. *Observe game* provides a broad but superficial knowledge of the problem, letting you to create an initial impression about that problem. *Play game* allows a deeper personal understanding of a problem by engaging with it. After playing the game, it is important to describe it to another person. Explaining the problem to others allows you to gain a deeper understanding of the problem in many different contexts."
   ]
  },
  {
   "cell_type": "markdown",
   "metadata": {},
   "source": [
    "## Observing Game\n",
    "\n",
    "The first step for problem solving is to observe the game while it is being played. From this observation, questions may be arised, such as \"how does it flow?\", \"How many attempts can the user do?\", etc. Below, we show the game being played. \n",
    "\n",
    "<img src=\"images/game_demo.gif\" width=\"50%\" align=\"center\"/>\n",
    "\n",
    "**Observations of the game**: The game asks the player to guess a password. There are a maximum of four guess attempts. The game checks the exact placement of letters in the guess against the secret password, and displays a hint. If you are successful, the game congratulates you. What else did you see? Can you think of a situation that didn't happen in the video but could happen in the game? For example, what happens when the player makes too many incorrect guesses? Now it is your turn to play the game. Play several times to gain a deeper understanding of hacking."
   ]
  },
  {
   "cell_type": "markdown",
   "metadata": {},
   "source": [
    "# Quiz\n",
    "\n",
    "**1. Which of these scenarios uses a process, instead of unplanned decisions?**\n",
    "\n",
    "&#9745; Given five tasks to accomplish, perform them in the order from the easiest to the most difficult<br>\n",
    "&#9745; Given five tasks to accomplish, perform them in the order from the most difficult to the easiest<br>\n",
    "&#9744; To exit a maze, whenever you have a choice of paths, pick one without thinking about it<br>\n",
    "&#9745; To exit a maze, whenever you have a choice of paths, always follow the left hand path that you have not already traversed\n",
    "\n",
    "**2. Which of these examples uses all three steps of experiential decomposition?**\n",
    "\n",
    "&#9744; Learn to play a video game by trying the game and then watching strategy videos to improve your gameplay<br>\n",
    "&#9745; Learn how to solve physics problems by reading some example problems and solutions, solving some problems, and then creating some new problems.<br>\n",
    "&#9744; Learn to play a board game by reading the rules and then playing it with experienced players<br>\n",
    "&#9744; Learn to lift weights by having a personal trainer show you how it is done<br>\n",
    "&#9745; Learn to swim by watching someone swim, then mimicking their actions in the water, then explaining how you swim to a friend<br>\n",
    "&#9744; Learn to play a board game by reading the rules and then playing it with other beginners<br>\n",
    "&#9744; Learn how to do arithmetic by listening to an explanation and then trying some problems\n"
   ]
  },
  {
   "cell_type": "code",
   "execution_count": null,
   "metadata": {},
   "outputs": [],
   "source": [
    "&#9744;"
   ]
  }
 ],
 "metadata": {
  "kernelspec": {
   "display_name": "Python 3",
   "language": "python",
   "name": "python3"
  },
  "language_info": {
   "codemirror_mode": {
    "name": "ipython",
    "version": 3
   },
   "file_extension": ".py",
   "mimetype": "text/x-python",
   "name": "python",
   "nbconvert_exporter": "python",
   "pygments_lexer": "ipython3",
   "version": "3.6.10"
  }
 },
 "nbformat": 4,
 "nbformat_minor": 2
}
