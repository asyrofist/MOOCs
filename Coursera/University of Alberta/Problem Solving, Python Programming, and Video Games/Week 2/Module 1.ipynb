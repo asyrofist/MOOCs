{
 "cells": [
  {
   "cell_type": "markdown",
   "metadata": {},
   "source": [
    "# Design Hacking: Version 1"
   ]
  },
  {
   "cell_type": "markdown",
   "metadata": {},
   "source": [
    "## Algorithms for Computational Problem-Solving\n",
    "\n",
    "Computational problem-solving, also called computational thinking, uses three kinds of techniques to solve problems: *problem decomposition*, *algorithms*, and *abstraction*. A process or **algorithm** is a sequence of actions that solves a problem or create something, which we call an artifact. \n",
    "\n",
    "Below, there is a game creation process diagram, where each sub-task is a part of the computational problem. The first sub-task is **understand game**, where you need to understand what game you are trying to make, *i.e.*, knowing what happens, where it happens, when it happens, and why it happens. \n",
    "\n",
    "<img src=\"https://cdn.rawgit.com/rogergranada/MOOCs/master/Coursera/University%20of%20Alberta/Problem%20Solving%2C%20Python%20Programming%2C%20and%20Video%20Games/Week%202/images/create_game_1.svg\" width=\"80%\"/>\n",
    "\n",
    "Understand game can be divided into two sub-tasks: *observe game* and *play game*. *Observe game* provides a broad but superficial knowledge of the problem, letting you to create an initial impression about that problem. *Play game* allows a deeper personal understanding of a problem by engaging with it. After playing the game, it is important to describe it to another person. Explaining the problem to others allows you to gain a deeper understanding of the problem in many different contexts."
   ]
  },
  {
   "cell_type": "markdown",
   "metadata": {},
   "source": [
    "## Observing Game\n",
    "\n",
    "The first step for problem solving is to observe the game while it is being played. From this observation, questions may be arised, such as \"how does it flow?\", \"How many attempts can the user do?\", etc. Below, we show the game being played. \n",
    "\n",
    "<img src=\"images/game_demo.gif\" width=\"50%\" align=\"center\"/>\n",
    "\n",
    "**Observations of the game**: The game asks the player to guess a password. There are a maximum of four guess attempts. The game checks the exact placement of letters in the guess against the secret password, and displays a hint. If you are successful, the game congratulates you. What else did you see? Can you think of a situation that didn't happen in the video but could happen in the game? For example, what happens when the player makes too many incorrect guesses? Now it is your turn to play the game. Play several times to gain a deeper understanding of hacking."
   ]
  },
  {
   "cell_type": "markdown",
   "metadata": {},
   "source": [
    "## Create Version\n",
    "\n",
    "The next task in the game creation process is **Create Version**. The circular arrow before *create version* indicates that you must do this task one or more times - indicating that the game is divided into many versions as needed. Each version solves a small problem, instead of trying to solve a big problem at once. To decide what each version will add to the game, we use a kind of problem decomposition called *Feature Selection*. Thus, each version of the game has its own features (e.g., the first version has few features such as show the list of passwords, or guess the correct password, while the subsequent versions adds a few more features until the last version that has the complete game), where the features for each version should require approximately the same amount of effort to implement.\n",
    "\n",
    "<img src=\"https://cdn.rawgit.com/rogergranada/MOOCs/master/Coursera/University%20of%20Alberta/Problem%20Solving%2C%20Python%20Programming%2C%20and%20Video%20Games/Week%202/images/create_game_2.svg\" width=\"80%\"/>\n",
    "\n",
    "We can divide the process of Create Version into subtasks as a problem refinement. Thus, we divide the *Create Version* task into three tasks: *Create Design*, *Create Program* and *Reflect*, where each subtask creates a problem solution that is more precise than the previous one. *Create Design* converts our understanding of the game into a precise algorithm representing the version of the game. *Create Program* converts the algorithm into a precise program, while *Reflect* assesses your knowledge of the programming language techniques you applied, evaluates your solution and identifies improvements for the next version.\n",
    "\n",
    "When in *Create Design*, we decompose this task into subtasks that are easier to solve. The division is composed into *Understand version*, *Create version test plan* and *Create algorithm*. *Understand version* is similar to the understand game task, where in *Observe game version* we see how the game works and *Play game version*, we play the game. The next step is *Create version description*, where we produce a written description of the game version that should explain what the game does including its features and player actions. The description is imprecise because it provides the goals of our implementation, but not the details of the implementation itself. \n",
    "\n",
    "The next task in *Create design* is *Create version test plan*, which creates a test plan that checks if the feature set is implemented correctly. This artifact is more precise than the game description because it more explicitly considers multiple gameplay scenarios. The description describes all possible outcomes but the tests prescribe which sequence of player actions result in which game outcomes. \n",
    "\n",
    "Finally, *Create algorithm* produces the most precise artifact of the design, which corresponds to a sequence of steps that prescribe how the code should be written. It is more precise than the tests since the algorithm is closer to the code, each step corresponds to a few lines of code. However, an algorithm should be independent of any specific programming language. So, an algorithm is less precise than the code that implements it."
   ]
  },
  {
   "cell_type": "markdown",
   "metadata": {},
   "source": [
    "## Hacking Version 1\n",
    "\n",
    "This is the first version of the Hacking game. This version is very simple and works in the terminal like the animation below:\n",
    "\n",
    "<img src=\"images/hacking_1.gif\" width=\"50%\" align=\"center\"/>"
   ]
  },
  {
   "cell_type": "markdown",
   "metadata": {},
   "source": [
    "## Create Version Description\n",
    "\n",
    "Create version description is the last subtask of *Understand version*. A description of a game is an explanation of what happens as the game is played and should include aspects, such as what the game looks like, how it changes, and how it responds to player actions. Reading your game description should give the reader a complete idea of how to play the game. \n",
    "\n",
    "We can divide the description into two parts: *Objects and Actions*, and *Attributes*. *Objects and Actions* describes elements of the game, such as \"The game displays a header\", while *Attributes* describes features of the objects, such as \"It consists of two content lines followed by a blank line\". A complete description includes the sequence of objects and actions along with their correct attributes.\n",
    "\n",
    "For the version 1 of the game, we have the following *Objects and Actions*, and *Attributes*:\n",
    "\n",
    "| Objects and Actions                                 | Attributes                                                   |\n",
    "| --------------------------------------------------- | ------------------------------------------------------------ |\n",
    "| The game displays a header                          | It consists of two content lines followed by a blank line    |\n",
    "| The game displays a password list                   | The first content line indicates debug mode                  |\n",
    "| The game prompts for a guess                        | The second content line indicates 1 attempt left             |\n",
    "| The player enters a guess and presses the enter key | It is the top line of the game output                        |\n",
    "| The game displays a failure outcome                 | It consists of 13 content lines followed by a blank line     |\n",
    "| The player presses the enter key to end the program | Each content line contains one password                      |\n",
    "|                                                     | It is directly below the header                              |\n",
    "|                                                     | It indicates the player should enter a password              |\n",
    "|                                                     | It is directly below the password list                       |\n",
    "|                                                     | It contains three content lines separated by two blank lines |\n",
    "|                                                     | The first and the second content lines indicate failure      |\n",
    "|                                                     | The third content line is a prompt to press enter for exit   |\n",
    "|                                                     | It is directly below the prompt for guess                    |\n",
    "\n"
   ]
  },
  {
   "cell_type": "markdown",
   "metadata": {},
   "source": [
    "# Quiz\n",
    "\n",
    "**1. Which of these scenarios uses a process, instead of unplanned decisions?**\n",
    "\n",
    "&#9745; Given five tasks to accomplish, perform them in the order from the easiest to the most difficult.<br>\n",
    "&#9745; Given five tasks to accomplish, perform them in the order from the most difficult to the easiest.<br>\n",
    "&#9744; To exit a maze, whenever you have a choice of paths, pick one without thinking about it.<br>\n",
    "&#9745; To exit a maze, whenever you have a choice of paths, always follow the left hand path that you have not already traversed.\n",
    "\n",
    "**2. Which of these examples uses all three steps of experiential decomposition?**\n",
    "\n",
    "&#9744; Learn to play a video game by trying the game and then watching strategy videos to improve your gameplay.<br>\n",
    "&#9745; Learn how to solve physics problems by reading some example problems and solutions, solving some problems, and then creating some new problems.<br>\n",
    "&#9744; Learn to play a board game by reading the rules and then playing it with experienced players.<br>\n",
    "&#9744; Learn to lift weights by having a personal trainer show you how it is done.<br>\n",
    "&#9745; Learn to swim by watching someone swim, then mimicking their actions in the water, then explaining how you swim to a friend.<br>\n",
    "&#9744; Learn to play a board game by reading the rules and then playing it with other beginners.<br>\n",
    "&#9744; Learn how to do arithmetic by listening to an explanation and then trying some problems.\n"
   ]
  },
  {
   "cell_type": "markdown",
   "metadata": {},
   "source": [
    "**3. Which of these features are in the full Hacking game?**\n",
    "\n",
    "&#9744; A lower case letter in a guess matches the same letter in the password, even though the password uses upper case letters.<br>\n",
    "&#9744; If the player makes too many incorrect guesses, a new password list is displayed and the player must start over.<br>\n",
    "&#9745; There is a pause after each line of text is displayed.<br>\n",
    "&#9744; Each time the game is played, a random password is selected from the list of displayed passwords.<br>\n",
    "&#9745; The game prompts for a password guess.<br>\n",
    "&#9745; All text is displayed in green on black.<br>\n",
    "&#9745; The game displays a password list.<br>\n",
    "&#9744; The game displays how many unsuccessful guesses were made.<br>\n",
    "&#9745; The game clears the window before displaying the outcome message.<br>\n",
    "&#9745; The game displays some symbolic characters on each password line.<br>\n",
    "&#9744; If the player makes an incorrect password guess, then a new set of passwords is displayed.<br>\n",
    "&#9745; The game displays the number of guesses remaining as attempts left.<br>\n",
    "&#9744; Clicking on the close icon in the title bar closes the game window.<br>\n",
    "&#9744; Each password line contains a 13 letter password and 7 symbols.<br>\n",
    "&#9745; The game opens a window with title Hacking.<br>\n",
    "&#9745; The game displays a success outcome if the player guess is correct.<br>\n",
    "&#9745; When an incorrect password is entered, the game provides a hint.<br>\n",
    "&#9744; The player has at most three guesses to guess a password.<br>\n",
    "&#9745; When an incorrect password is entered, the game decrements the attempts left.<br>\n",
    "&#9745; The game displays a header message that includes the words DEBUG MODE.<br>\n",
    "&#9745; The player has at most 4 guesses to guess a password.<br>\n",
    "&#9745; The window can't be closed until the player has guessed the password or failed on all attempts.<br>\n",
    "&#9745; The game displays a failure outcome if the players final guess is incorrect.<br>\n",
    "&#9745; The game displays a lockout warning when the player has only one guess attempt left."
   ]
  },
  {
   "cell_type": "markdown",
   "metadata": {},
   "source": [
    "**4. Which of these Hacking features (if any) does \"The outcome relies on the guess.\" depend on?**\n",
    "\n",
    "&#9745; The game displays an outcome.<br>\n",
    "&#9745; The player enters a guess.<br>\n",
    "&#9744; Four guesses are allowed.<br>\n",
    "&#9744; Passwords are not embedded in lines with symbols.<br>\n",
    "&#9744; The game uses graphics in a window.<br>\n",
    "&#9744; The game displays a hint about correct letters.<br>\n",
    "&#9744; None of the above.\n",
    "\n",
    "**5. Here is a list of some of the features from a game. Select any feature that depends on other features from this particular list.**\n",
    "\n",
    "&#9744; A white snowman with 10 parts appears in the window.<br>\n",
    "&#9745; Each dash is white.<br>\n",
    "&#9745; If the player selects a letter that is in the word, the letter appears on the appropriate dash.<br>\n",
    "&#9744; The window background is black.<br>\n",
    "&#9745; If the player selects a letter that is not in the word, the letter is crossed out in the letter list and one of the snowman parts melts and disappears.<br>\n",
    "&#9744; The game displays a row of dashes, where each dash represents one letter from a word.\n",
    "\n",
    "**6. A full game has 10 features and we want to implement this game using 3 versions. A senior designer has estimated the effort required for each feature and has determined which features depend on other features. Assign each feature to a version so that the effort used to create each version is as balanced as possible and so that no feature appears in a version before any features it depends on.**\n",
    "\n",
    "| Feature | Estimated effort | Depends on these features |\n",
    "| ------- | ---------------- | ------------------------- |\n",
    "|    A    |        2         | None                      |\n",
    "|    B    |        2         | F, I                      |\n",
    "|    C    |        3         | None                      |\n",
    "|    D    |        1         | C, E                      |\n",
    "|    E    |        4         | None                      |\n",
    "|    F    |        4         | A, C                      |\n",
    "|    G    |        2         | F, I                      |\n",
    "|    H    |        3         | E, F                      |\n",
    "|    I    |        4         | A, E                      |\n",
    "|    J    |        2         | I, E                      |\n",
    "\n",
    "For each version, express your answer as a sequence of feature letters, separated by blanks. For example:\n",
    "\n",
    "A G H\n",
    "\n",
    "For example, the features in version 1 cannot be:\n",
    "\n",
    "A E H\n",
    "\n",
    "since H depends on F, so F must be included in a version before H or in the same version as H. As another example, the features for version 2 cannot be:\n",
    "\n",
    "E F I\n",
    "\n",
    "since the total effort for this version would be: 4 + 4 + 4 = 12, which is much more effort than 1/3 of the total effort required for all features in the 3 versions.\n",
    "\n",
    "What features should be in Version 1?<br>\n",
    "*Answer:* A C E\n",
    "\n",
    "**7. Using the features from Question 3, what features should be in Version 2?**\n",
    "\n",
    "*Answer:* F I D\n",
    "\n",
    "**8. Using the features from Question 3, what features should be in Version 3?**\n",
    "\n",
    "*Answer:* B G H J\n",
    "\n",
    "**SOLUTION:** Below, there is an image with the corresponding dependences between features and their estimated effort between parentheses. As the sum of the efforts equals 27 and we want three versions, we should have ideally an effort of nine each version. Drawing the dependences, we can see that each row sums nine, and thus, each version should contain the elements in each row.\n",
    "\n",
    "<img src=\"images/feature_effort.svg\" width=\"30%\" align=\"center\"/>\n"
   ]
  },
  {
   "cell_type": "markdown",
   "metadata": {},
   "source": [
    "**9. Which of these features are in Hacking Version 1?**\n",
    "\n",
    "&#9744; There is a pause after each line of text is displayed.<br>\n",
    "&#9744; The game opens a window with title Hacking.<br>\n",
    "&#9744; The game displays a lockout warning when the player has only one guess attempt left.<br>\n",
    "&#9745; The game prompts for a password guess.<br>\n",
    "&#9745; The game displays the number of guesses remaining as attempts left.<br>\n",
    "&#9744; The game clears the window before displaying the outcome message.<br>\n",
    "&#9744; The player has at most 4 guesses to guess a password.<br>\n",
    "&#9745; The game displays a header message that includes the words DEBUG MODE.<br>\n",
    "&#9744; All text is displayed in green on black.<br>\n",
    "&#9744; When an incorrect password is entered, the game decrements the attempts left.<br>\n",
    "&#9745; The game displays a failure outcome if the players final guess is incorrect.<br>\n",
    "&#9745; The game displays a password list.<br>\n",
    "&#9744; When an incorrect password is entered, the game provides a hint.<br>\n",
    "&#9744; The game displays a success outcome if the player guess is correct.<br>\n",
    "&#9744; The game displays some symbolic characters on each password line."
   ]
  }
 ],
 "metadata": {
  "kernelspec": {
   "display_name": "Python 3",
   "language": "python",
   "name": "python3"
  },
  "language_info": {
   "codemirror_mode": {
    "name": "ipython",
    "version": 3
   },
   "file_extension": ".py",
   "mimetype": "text/x-python",
   "name": "python",
   "nbconvert_exporter": "python",
   "pygments_lexer": "ipython3",
   "version": "3.6.10"
  }
 },
 "nbformat": 4,
 "nbformat_minor": 2
}
