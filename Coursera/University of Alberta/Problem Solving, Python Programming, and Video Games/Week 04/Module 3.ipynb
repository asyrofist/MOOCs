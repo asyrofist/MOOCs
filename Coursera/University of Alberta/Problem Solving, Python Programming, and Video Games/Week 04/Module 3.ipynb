{
 "cells": [
  {
   "cell_type": "markdown",
   "metadata": {},
   "source": [
    "# Module 3: Hacking Version 2"
   ]
  },
  {
   "cell_type": "markdown",
   "metadata": {},
   "source": [
    "## Solution Issues in Hacking Version 1\n",
    "\n",
    "Every time you finish a game version, you need to decide what to add or improve upon for your next version. This process is called *identify solution issues*. Solution issues are disparities between the solution you are seeking and the design and code you have written. Identifying these solution issues is key to improving your code, and adding or modifying features in a measured and systematic way. \n",
    "\n",
    "From Hacking version 1, we can see only a few similarities to the complete game. It displays the heading and the passwords, allows you to input a guess, and reports that the game has failed. We can recognize at least five different solution issues with Hacking Version 1. \n",
    "\n",
    "1. Code quality *e.g.*, not using multiple calls to the print function\n",
    "2. Displays success when the user has input the correct password\n",
    "3. Allow the user to perform multiple guesses before the game ends\n",
    "4. Show random symbolic character decorations for passwords \n",
    "5. Convert the game to a graphic based (*i.e.*, open a window and draw graphical objects in the window). \n",
    "\n",
    "For the second version of hacking, the only solution improvements you will make are replacing text with graphics, and displaying the players guess. "
   ]
  },
  {
   "cell_type": "markdown",
   "metadata": {},
   "source": [
    "## Observe Hacking Version 2\n",
    "\n",
    "As the game starts, you can see that hacking version 2 looks quite different from hacking version one, a new graphical window opens with the title hacking, and a black background. The text is green, but the content of the text is the same as hacking version 1 - the same actions. When entering `HUNTING` as password, the screen clears and the correct password is displayed but a failure message appears. It looks like the image below.\n",
    "\n",
    "<img src=\"https://cdn.rawgit.com/rogergranada/MOOCs/master/Coursera/University%20of%20Alberta/Problem%20Solving%2C%20Python%20Programming%2C%20and%20Video%20Games/Week%2004/images/hacking_2_game.gif\" width=\"50%\"/>"
   ]
  },
  {
   "cell_type": "markdown",
   "metadata": {},
   "source": [
    "## Describe Hacking Version 2\n",
    "\n",
    "\n",
    "As we are updating our game with new attributes, we modify the version 1 description to create a version 2 description. For creating the description for hacking version 2, we have to remove elements (objects, attributes, and actions) that are not used in version 2. For example, the version 1 description indicates that the location of the header is the top line of game output. In version 2 since the header is displayed at the top of the window. Now, we can add elements in version 2, such as the appearance of the game - which uses a graphical window instead of a text-based shell. \n",
    "\n",
    "Recall that every display object has five attributes: *content*, *location*, *size*, *color*, and *timing*. The *content* of each object does not change when we go from text to graphics. So the description of the content attributes will remain the same. When making a graphical game, you must describe the *location* of all objects in the window because you will need to specify these locations in your program. In a text-based game, each print col argument was displayed on a consecutive line without specifying location. The attribute *size* means font size (small, medium, and large) in the descriptions. For *colour*, the version 2 of the game shows green on black. The last attribute is *timing*, which in version 2 is the temporal attribute to display each line.\n",
    "\n",
    "Organizing the objects, actions and attributes according to the sequence of events in the game, we can generate the following description of the version 2 of the game.\n",
    "\n",
    "<img src=\"https://cdn.rawgit.com/rogergranada/MOOCs/master/Coursera/University%20of%20Alberta/Problem%20Solving%2C%20Python%20Programming%2C%20and%20Video%20Games/Week%2004/images/description_version_2.svg\" width=\"40%\"/>"
   ]
  },
  {
   "cell_type": "markdown",
   "metadata": {},
   "source": [
    "## Regression Testing and Deleting Obsolete Tests\n",
    "\n",
    "For the version 2 of the game, we have to update the test plan, since it allows us to keep track of the progress of our game as we add functionality. When we add a feature, we have to perform **regression testing**, *i.e.*, retest all of the functionality implemented in the previous version that is still relevant in the current version. Organizing the actions and questions according to the sequence of events in the game, we can generate the following test plan for the version 2 of the game.\n",
    "\n",
    "<img src=\"https://raw.githubusercontent.com/rogergranada/MOOCs/master/Coursera/University%20of%20Alberta/Problem%20Solving%2C%20Python%20Programming%2C%20and%20Video%20Games/Week%2004/images/testplan_version_2.svg\" width=\"80%\"/>"
   ]
  },
  {
   "cell_type": "markdown",
   "metadata": {},
   "source": [
    "## Create Algorithm for Hacking Version 2\n",
    "\n",
    "Since version 2 of the algorithm includes all the algorithm steps from version 1, we have only to add the new steps. In version 2, we will add graphical features using a graphics library instead of built-in functions to display text. Details such as the color of the text are included in the description, but they are too precise to be included in any algorithm. However, we will need these details when you write your code. The endgame algorithm step includes the *display failure outcome* and *prompt for end steps* that were included in the previous version. Now, we have to expand the *display failure* outcome step to use its own panel. Adding the new steps, we can generate the following algorithm based on the descriptions.\n",
    "\n",
    "<img src=\"https://raw.githubusercontent.com/rogergranada/MOOCs/master/Coursera/University%20of%20Alberta/Problem%20Solving%2C%20Python%20Programming%2C%20and%20Video%20Games/Week%2004/images/algorithm_version_2.svg\" width=\"100%\"/>"
   ]
  },
  {
   "cell_type": "markdown",
   "metadata": {},
   "source": [
    "## Python Assignment Statement\n",
    "\n",
    "An *assignment statement* is used to evaluate an expression and bind an identifier to the result object and has the following syntax diagram. \n",
    "\n",
    "<img src=\"https://raw.githubusercontent.com/rogergranada/MOOCs/master/Coursera/University%20of%20Alberta/Problem%20Solving%2C%20Python%20Programming%2C%20and%20Video%20Games/Week%2004/images/assignment_statement.svg\" width=\"40%\"/>\n",
    "\n",
    "An assignment statement consists of a target, an assignment symbol, and an expression. The simplest form of target is an identifier. The assignment symbol is a delimiter token consisting of a single equal (`=`) sign. The semantics of an assignment statement whose target is an identifier are: \n",
    "\n",
    "1. evaluate the expression to obtain a result object\n",
    "2. if the identifier is not in the namespace, add it to the namespace\n",
    "3. bind the identifier to this result object"
   ]
  },
  {
   "cell_type": "markdown",
   "metadata": {},
   "source": [
    "## Python Binary Expression and Operator Token\n",
    "\n",
    "An **operator** is used to compute a result object from one or more operands. There are only 19 operator tokens as listed in the table below, where `O<number>` is the header of the table.\n",
    "\n",
    "| O1 | O2 | O3 | O4 | O5 | O6 | O7 |\n",
    "| -- | -- | -- | -- | -- | -- | -- |\n",
    "| +  | -  | *  | ** | /  | // | %  |\n",
    "| << | >> | &  | \\| | ^  | ~  |    |\n",
    "| <  | >  | <= | >= | == | != |    |\n",
    "\n",
    "\n",
    "Some mathematical operators are represented by the same operator token in Python. Some are represented by different operator tokens and some are not represented by any operator token. For example, `+` and `-` signs are the same in Python as in mathematics, but in mathematics, we use a `x` symbol to represent multiplication, while in Python, we use the `*` symbol. The mathematical comparison &#8804; sign is represented by two symbols (`<=`) in Python. On the other hand, the factorial operator uses an exclamation mark (`!`) in mathematics, but there is no factorial operator token in Python. \n",
    "\n",
    "A **binary expression** is used to apply an operator function to two operand objects. It is represented as the image below and the function that is applied depends both on the *binary operator* and the *type* of the first operand. The semantics of a binary expression are: \n",
    "\n",
    "1. Evaluate the left expression to get the first operand object\n",
    "2. Evaluate the right expression to get the second operand object\n",
    "3. Identify the operator function based on the binary operator and the type of the two operands\n",
    "4. Apply the binary operator's function\n",
    "\n",
    "<img src=\"https://raw.githubusercontent.com/rogergranada/MOOCs/master/Coursera/University%20of%20Alberta/Problem%20Solving%2C%20Python%20Programming%2C%20and%20Video%20Games/Week%2004/images/binary_expression.svg\" width=\"80%\"/>"
   ]
  },
  {
   "cell_type": "markdown",
   "metadata": {},
   "source": [
    "## Python Import Statement and Keyword Token\n",
    "\n",
    "An **import statement** allows us to use functions, types and other objects from a library *module*. A *module* is a Python program with it's own statements and namespace. A module provides functions, types, and other kinds of objects that you can use in your program. The standard library includes many modules, *e.g.* the `time` module of the standard library. An **import statement** imports identifiers from a module into your programs namespace so that you can use the objects the identifiers are bound to. There are several different syntactic forms for an import statement and below, we can see the `from` form of the import statement. \n",
    "\n",
    "<img src=\"https://raw.githubusercontent.com/rogergranada/MOOCs/master/Coursera/University%20of%20Alberta/Problem%20Solving%2C%20Python%20Programming%2C%20and%20Video%20Games/Week%2004/images/import_statement.svg\" width=\"80%\"/>\n",
    "\n",
    "For a better understand of the syntax diagram, we first introduce the keyword token. There are 33 **keywords** in Python as presented in the table below, where `K<number>` is the header of the table.\n",
    "\n",
    "|   K1   |    K2    |   K3    |    K4    |   K5   |\n",
    "| ------ | -------- | ------- | -------- | ------ | \n",
    "| False  | class    | finally | is       | return |\n",
    "| None   | continue | for     | lambda   | try    |\n",
    "| True   | def      | from    | nonlocal | while  |\n",
    "| and    | del      | global  | not      | with   |\n",
    "| as     | elif     | if      | or       | yield  |\n",
    "| assert | else     | import  | pass     |        |\n",
    "| break  | except   | in      | raise    |        |\n",
    "\n",
    "\n",
    "A *keyword* looks like an identifier, but is a reserved word that cannot be used as an identifier. Trying to use a *keyword* as an *identifier* results in a syntax error. The semantics of the import statement follows the steps below:\n",
    "\n",
    "1. Use the module name to find the module\n",
    "2. Evaluate the module's statement, which binds the name\n",
    "3. Dereference the imported identifiers in the module's namespace to find the objects they are bound to\n",
    "4. If any imported identifier is not in the program's namespace, add it\n",
    "5. Bind the imported identifiers in the program's namespace to the module's object"
   ]
  },
  {
   "cell_type": "markdown",
   "metadata": {},
   "source": [
    "## Python Multi-argument Function Call\n",
    "\n",
    "Now, we generalize the syntax and semantics of the function call expression to support multiple arguments instead of zero or one argument. Different functions actually support different numbers of arguments and many Python functions can accept a variable number of arguments. Here is a simplified syntax diagram for the non-terminal argument list state that supports one or more argument expressions. \n",
    "\n",
    "<img src=\"https://raw.githubusercontent.com/rogergranada/MOOCs/master/Coursera/University%20of%20Alberta/Problem%20Solving%2C%20Python%20Programming%2C%20and%20Video%20Games/Week%2004/images/argument_list.svg\" width=\"80%\"/>\n",
    "\n",
    "We now change the semantic rule to support multiple arguments. The new semantic rule for the **function call** is as follows:\n",
    "\n",
    "1. Evaluate the identifier to obtain a function object\n",
    "2. If there is an argument list, evaluate it to obtain an argument object list, otherwise create an empty argument object list\n",
    "3. Pass the argument object list to the function\n",
    "4. Evaluate the function code to obtain a result object\n",
    "\n",
    "In step 2, we have the **argument list**. Thus, we have the following semantic rule to it:\n",
    "\n",
    "1. Evaluate each expression from left to right and add the object to an argument object list in order"
   ]
  },
  {
   "cell_type": "markdown",
   "metadata": {},
   "source": [
    "## Python Method Call and Attribute Reference\n",
    "\n",
    "Every program has a namespace that binds identifiers to objects. In addition, most objects have their own namespaces. A name in an object's namespace is called an **attribute**. A new kind of expression, called an **attribute reference**, is used to access an object whose name is in the object's namespace. For example, every string object has an attribute named `lower` that is bound to a method object. Below, we show the new syntax diagram for an expression that contains an attribute reference along with the syntax diagram for an attribute reference.\n",
    "\n",
    "<img src=\"https://raw.githubusercontent.com/rogergranada/MOOCs/master/Coursera/University%20of%20Alberta/Problem%20Solving%2C%20Python%20Programming%2C%20and%20Video%20Games/Week%2004/images/attribute_identifier.svg\" width=\"80%\"/>\n",
    "\n",
    "Below, the semantics of an attribute reference. \n",
    "\n",
    "1. Evaluate the expression to get an object\n",
    "2. If the attribute is in the namespace of the object, return the object it is bound to, otherwise report an attribute error\n",
    "\n",
    "In order to use the attribute reference, we generalize the syntax of `function calls` to include `method calls` as shown in the image above, where we replace the `identifier` to an `expression`. We also update the semantic rules for the **function call** as:\n",
    "\n",
    "1. Evaluate the expression to obtain a function object\n",
    "2. If there is an argument list, evaluate it to obtain an argument object list, otherwise create an empty argument object list\n",
    "3. If the function object is a method object, add its special argument object list to the start of the argument object list\n",
    "4. Pass the argument object list to a function\n",
    "5. Evaluate the function code to obtain a result object"
   ]
  },
  {
   "cell_type": "markdown",
   "metadata": {},
   "source": [
    "## Program Hacking Version 2\n",
    "\n",
    "For Hacking version 2, we import the `uagame.py` that contains a class to manage windows. The methods implemented in `uagame.py` are as follows:\n",
    "\n",
    "```\n",
    "class Window:\n",
    "    # A Window represents a display window with a title bar,\n",
    "    # close box and interior drawing surface.\n",
    "\n",
    "   Window(title, width, height):\n",
    "        # Create and open a window to draw in.\n",
    "        # - title is the str title of the window\n",
    "        # - width is the int pixel width of the window\n",
    "        # - height is the int pixel height of the window\n",
    "        \n",
    "    close():\n",
    "        # Close the window\n",
    "\n",
    "    set_font_name(name):\n",
    "        # Set the name of the window font used to draw strings\n",
    "        # - name is the str name of the font\n",
    "        \n",
    "    set_font_size(point_size):\n",
    "        # Set the point size of the window font used to draw strings\n",
    "        # - point_size is the int point size of the font\n",
    "\n",
    "    set_font_color(color_string):\n",
    "        # Set the font color used to draw in the window\n",
    "        # - color_string is the str name of the font color\n",
    "    \n",
    "    set_bg_color(color_string):\n",
    "        # Set the background color used to draw in the window\n",
    "        # - color_string is the str name of the background color\n",
    "\n",
    "    get_font_color():\n",
    "        # Return a str that represents the current window \n",
    "        # font color\n",
    " \n",
    "    get_bg_color():\n",
    "        # Return a str that represents the current window \n",
    "        # background color\n",
    "\n",
    "    get_width():\n",
    "        # Return the int pixel width of the window's drawable\n",
    "        # interior surface\n",
    "\n",
    "    get_height(self):\n",
    "        # Return the int pixel height of the window's drawable\n",
    "        # interior surface\n",
    "\n",
    "    clear():\n",
    "        # Erase the window contents\n",
    "\n",
    "    get_font_height():\n",
    "        # Return the int pixel height of the current font.\n",
    "     \n",
    "    get_surface():\n",
    "        # Return the Pygame.Surface object that represents the\n",
    "        # interior drawing surface of the window\n",
    "\n",
    "    draw_string(string, x, y):\n",
    "        # Draw a string in the window using the current font and\n",
    "        # colors\n",
    "        # - string is the str object to draw\n",
    "        # - x is the int x coord of the upper left corner of the\n",
    "        #   string in the window\n",
    "        # - y is the int y coord of the upper left corner of the\n",
    "        #   string in the window\n",
    "\n",
    "    input_string(prompt, x, y):\n",
    "        # Draw a prompt string in the window using the current font\n",
    "        # and colors. Check keys pressed by the user until an enter\n",
    "        # key is pressed and return the sequence of key presses as a\n",
    "        # str object.\n",
    "        # - prompt is the str to display\n",
    "        # - x is the int x coord of the upper left corner of the\n",
    "        #   string in the window\n",
    "        # - y is the int y coord of the upper left corner of the\n",
    "        #   string in the window\n",
    "\n",
    "    get_string_width(string):\n",
    "        # Return the int pixel width of the string using the current\n",
    "        # font.\n",
    "        # - string is the str object\n",
    "     \n",
    "    update():\n",
    "        # Update the window by copying all drawn objects from the\n",
    "        # frame buffer to the display.\n",
    "```"
   ]
  },
  {
   "cell_type": "markdown",
   "metadata": {},
   "source": [
    "## Review Code for Hacking Version 2\n",
    "\n",
    "In the first version of hacking, we had one software quality test composed by **Comments**. The program must have a descriptive comment at the beginning, and it must have inline comments at the start of each logical block of code. For version two, we add a second software quality test that deals with the names of your identifiers. \n",
    "\n",
    "1. **Comments**<br>\n",
    "<ensp>1.1. Program comments<br>\n",
    "<ensp>&nbsp;&nbsp;&nbsp;&nbsp;1.1.1. Is there one at the start of the program?<br>\n",
    "<ensp>&nbsp;&nbsp;&nbsp;&nbsp;1.1.2. Does it indicate what the program does?<br>\n",
    "<ensp>1.2 Block comment (comment on its own line)<br>\n",
    "<ensp>&nbsp;&nbsp;&nbsp;&nbsp;1.2.1 Is there one at the start of each group of statements that completes a logical task?\n",
    "\n",
    "2. **Identifiers/Names**<br>\n",
    "<ensp>2.1 Are they descriptive of their use?<br>\n",
    "<ensp>2.2 Do they use `lower_case_with_underscores`?"
   ]
  },
  {
   "cell_type": "markdown",
   "metadata": {},
   "source": [
    "---\n",
    "# Quiz"
   ]
  },
  {
   "cell_type": "markdown",
   "metadata": {},
   "source": [
    "In this course two broad categories of solution issues are examined, *code quality* and *missing features*.\n",
    "\n",
    "**1. Is multiple print statements a code quality issue or a missing feature issue?**\n",
    "\n",
    "&#9745; Code quality<br>\n",
    "&#9744; Missing feature\n",
    "\n",
    "**2. Is textual game output a code quality issue or a missing feature issue?**\n",
    "\n",
    "&#9744; Code quality<br>\n",
    "&#9745; Missing feature\n",
    "\n",
    "**3. Is outputting failure on a successful guess a code quality issue or a missing feature issue?**\n",
    "\n",
    "&#9744; Code quality<br>\n",
    "&#9745; Missing feature\n",
    "\n",
    "**4. Is a missing program comment a code quality issue or a missing feature issue?**\n",
    "\n",
    "&#9745; Code quality<br>\n",
    "&#9744; Missing feature\n",
    "\n",
    "**5. Are missing symbolic characters in password lines a code quality issue or a missing feature issue?**\n",
    "\n",
    "&#9744; Code quality<br>\n",
    "&#9745; Missing feature"
   ]
  },
  {
   "cell_type": "markdown",
   "metadata": {},
   "source": [
    "## Understanding Hacking 2\n",
    "\n",
    "**1. Which of these features are present in Hacking Version 2, but not present in Hacking Version 1?**\n",
    "\n",
    "&#9744; The game displays a lockout warning when the player has only one guess attempt left.<br>\n",
    "&#9744; When an incorrect password is entered, the game decrements the attempts left.<br>\n",
    "&#9744; The player has at most 4 guesses to guess a password.<br>\n",
    "&#9744; The game prompts for a password guess.<br>\n",
    "&#9744; The game displays the number of guesses remaining as attempts left.<br>\n",
    "&#9744; When an incorrect password is entered, the game provides a hint.<br>\n",
    "&#9745; The game opens a window with title Hacking.<br>\n",
    "&#9744; The game displays a failure outcome if the players final guess is incorrect.<br>\n",
    "&#9744; The game displays a success outcome if the player guess is correct.<br>\n",
    "&#9745; The game clears the window before displaying the outcome message.<br>\n",
    "&#9745; All text is displayed in green on black.<br>\n",
    "&#9744; The game displays some symbolic characters on each password line.<br>\n",
    "&#9745; There is a pause after each line of text is displayed.<br>\n",
    "&#9744; The game displays a password list.<br>\n",
    "&#9744; The game displays a header message that includes the words DEBUG MODE."
   ]
  },
  {
   "cell_type": "markdown",
   "metadata": {},
   "source": [
    "## Delete Obsolete Tests for Hacking Version 2\n",
    "\n",
    "**1. To modify a question block from version 1, the question block must first be deleted and then a replacement question block must be added. Select all of the questions whose question block should be deleted so its question block can be modified.**\n",
    "\n",
    "&#9745; Does the game display a header?<br>\n",
    "&#9745; Does the game display a password list?<br>\n",
    "&#9745; Does the game prompt for a guess?<br>\n",
    "&#9745; Does the game display a failure outcome?<br>\n",
    "&#9744; Does the program end?"
   ]
  },
  {
   "cell_type": "markdown",
   "metadata": {},
   "source": [
    "## Lexical Analysis (review)\n",
    "\n",
    "For the next questions, use the following statement:\n",
    "\n",
    "```\n",
    "color2you = guess_color('red')+23\n",
    "```\n",
    "\n",
    "You must choose from these token kinds:\n",
    "\n",
    "**identifier, delimiter, literal string, literal integer,literal float or UNKNOWN**\n",
    "\n",
    "**1. What is the 1st token and its token kind?**\n",
    "\n",
    "**Answer:** `color2you identifier`\n",
    "\n",
    "**2. What is the 2nd token and its token kind?**\n",
    "\n",
    "**Answer:** `= delimiter`\n",
    "\n",
    "**3. What is the 3rd token and its token kind?**\n",
    "\n",
    "**Answer:** `guess_color identifier`\n",
    "\n",
    "**4. What is the 4th token and its token kind?**\n",
    "\n",
    "**Answer:** `( delimiter`\n",
    "\n",
    "**5. What is the 5th token and token kind?**\n",
    "\n",
    "**Answer:** `'red' literal string`\n",
    "\n",
    "**6. What is the 6th token and its token kind?**\n",
    "\n",
    "**Answer:** `) delimiter`\n",
    "\n",
    "**7. What is the 7th token and its token kind?**\n",
    "\n",
    "**Answer:** `+ UNKNOWN`\n",
    "\n",
    "**8. What is the 8th token and token kind?**\n",
    "\n",
    "**Answer:** `23 literal integer`"
   ]
  },
  {
   "cell_type": "markdown",
   "metadata": {},
   "source": [
    "---\n",
    "The next questions on syntax analysis on a syntactically valid Python statement, uses the current syntax diagrams.\n",
    "\n",
    "<img src=\"https://raw.githubusercontent.com/rogergranada/MOOCs/master/Coursera/University%20of%20Alberta/Problem%20Solving%2C%20Python%20Programming%2C%20and%20Video%20Games/Week%2004/images/syntax_statements.svg\" width=\"100%\"/>\n",
    "\n",
    "Each diagram is labeled with abbreviations you must use in the answers. The abbreviation on the left of a diagram denotes the diagram itself. For example, ``ex`` denotes the expression diagram. The abbreviations inside the diagram denote accepting states for that diagram. For example, ``id`` denotes the identifier accepting state in the expression diagram.\n",
    "\n",
    "If a syntax diagram is started, a left angle bracket indicates that it has started and its two letter abbreviation indicates which rule. For example, starting the expression diagram is denoted by ``<ex``. When a syntax diagram is completed, this is indicated by its two letter abbreviation, followed by a right angle bracket. However, every syntax diagram completes at an accepting state so the ``@`` character and the two letter abbreviation for the accepting state are appended. For example, completing the expression diagram at the identifier accepting state is denoted by ``ex>@id``.\n",
    "\n",
    "For example, the following statement:\n",
    "\n",
    "```\n",
    "print('hello')\n",
    "```\n",
    "\n",
    "Has the following solution:\n",
    "\n",
    "```\n",
    "<st            # trying to match print('hello')\n",
    "  <es          # trying to match print('hello')\n",
    "    <ex        # trying to match print('hello')\n",
    "      <fc      # trying to match print('hello')\n",
    "        <ex    # trying to match 'hello'\n",
    "        ex>@li # matches 'hello'\n",
    "      fc>@rp   # matches print('hello')\n",
    "    ex>@fc     # matches print('hello')\n",
    "  es>@ex       # matches print('hello')\n",
    "st>@es         # matches print('hello')\n",
    "```\n",
    "---"
   ]
  },
  {
   "cell_type": "markdown",
   "metadata": {},
   "source": [
    "## Syntax Analysis (statement and assignment statement)\n",
    "\n",
    "This Python statement has valid syntax.\n",
    "\n",
    "```\n",
    "my_string = str(14)\n",
    "```\n",
    "\n",
    "**1. What is the first syntax diagram that is started?**\n",
    "\n",
    "**Answer:** `<st`\n",
    "\n",
    "**2. What is the next syntax diagram that is started or completed?**\n",
    "\n",
    "**Answer:** `<as`\n",
    "\n",
    "**3. What is the next syntax diagram that is started or completed?**\n",
    "\n",
    "**Answer:** `<ex`\n",
    "\n",
    "**4. What is the next syntax diagram that is started or completed?**\n",
    "\n",
    "**Answer:** `<fc`\n",
    "\n",
    "**5. What is the next syntax diagram that is started or completed?**\n",
    "\n",
    "**Answer:** `<ex`\n",
    "\n",
    "**6. What is the next syntax diagram that is started or completed?**\n",
    "\n",
    "**Answer:** `ex>@li`\n",
    "\n",
    "**7. What is the next syntax diagram that is started or completed?**\n",
    "\n",
    "**Answer:** `fc>@rp`\n",
    "\n",
    "**8. What is the next syntax diagram that is started or completed?**\n",
    "\n",
    "**Answer:** `ex>@fc`\n",
    "\n",
    "**9. What is the next syntax diagram that is started or completed?**\n",
    "\n",
    "**Answer:** `as>@ex`\n",
    "\n",
    "**10. What is the next syntax diagram that is started or completed?**\n",
    "\n",
    "**Answer:** `st>@as`\n",
    "\n",
    "The full answer is shown below:\n",
    "\n",
    "```\n",
    "<st            # trying to match my_string = str(14)\n",
    "  <as          # trying to match my_string = str(14)\n",
    "    <ex        # trying to match str(14)\n",
    "      <fc      # trying to match str(14)\n",
    "        <ex    # trying to match 14\n",
    "        ex>@li # matches 14\n",
    "      fc>@rp   # matches str(14)\n",
    "    ex>@fc     # matches str(14)\n",
    "  as>@ex       # matches my_string = str(14)\n",
    "st>@as         # matches my_string = str(14)\n",
    "```"
   ]
  },
  {
   "cell_type": "markdown",
   "metadata": {},
   "source": [
    "---\n",
    "The next questions perform semantic analysis on a semantically valid Python statement, using the current semantic rules. Each rule is labeled with a two letter abbreviation you must use in your answers. For example, `id` denotes the identifier rule.\n",
    "\n",
    "Some semantic rules do not use other semantic rules. If such a rule is applied, a left angle bracket indicates that a rule has started, its two letter abbreviation indicates which rule, and a right angle bracket indicates that the rule has also completed. For example, the identifier rule does not use other rules, so its application is denoted by `<id>`.\n",
    "\n",
    "Some semantic rules use other semantic rules. If such a rule is applied, a left angle bracket indicates that a rule has started, and its two letter abbreviation indicates which rule. However, since this rule uses other rules, no right angle bracket is used yet to indicate that the rule has completed. Other rules must be started and completed before this rule is completed. For example the function call rule, uses at least one other semantic rule, so its start is denoted by `<fc`. When a semantic rule that uses other semantic rules is completed, its two letter abbreviation indicates which rule, and a right angle bracket indicates that it has completed. For example the function call rule, uses at least one other semantic rule, so its completion is denoted by `fc>`.\n",
    "\n",
    "For example, the following statement:\n",
    "\n",
    "```\n",
    "print('hello')\n",
    "```\n",
    "\n",
    "generates the following semantic analysis.\n",
    "\n",
    "```\n",
    "<fc    # starting print('hello')\n",
    "  <id> # evaluated print\n",
    "  <li> # evaluated 'hello'\n",
    "fc>    # evaluated print('hello')\n",
    "```\n",
    "---"
   ]
  },
  {
   "cell_type": "markdown",
   "metadata": {},
   "source": [
    "## Semantic Analysis (assignment statement)\n",
    "\n",
    "This Python statement has valid semantics:\n",
    "\n",
    "```\n",
    "my_string = str(14)\n",
    "```\n",
    "\n",
    "**1. What is the first semantic rule that is started?**\n",
    "\n",
    "**Answer:** `<as`\n",
    "\n",
    "**2. What is the next semantic rule that is started, applied or completed?**\n",
    "\n",
    "**Answer:** `<fc`\n",
    "\n",
    "**3. What is the next semantic rule that is started, applied or completed?**\n",
    "\n",
    "**Answer:** `<id>`\n",
    "\n",
    "**4. What is the next semantic rule that is started, applied or completed?**\n",
    "\n",
    "**Answer:** `<li>`\n",
    "\n",
    "**5. What is the next semantic rule that is started, applied or completed?**\n",
    "\n",
    "**Answer:** `fc>`\n",
    "\n",
    "**6. What is the next semantic rule that is started, applied or completed?**\n",
    "\n",
    "**Answer:** `as>`\n",
    "\n",
    "The complete answer is described below:\n",
    "\n",
    "```\n",
    "<as      # starting my_string = str(14)\n",
    "  <fc    # starting str(14)\n",
    "    <id> # evaluated str to get function str\n",
    "    <id> # evaluated 14 to get int 14\n",
    "  fc>    # evaluated str(14) to get str 14\n",
    "as>      # evaluated my_string = str(14)\n",
    "```"
   ]
  },
  {
   "cell_type": "markdown",
   "metadata": {},
   "source": [
    "## Evaluation (assignment statement)\n",
    "\n",
    "In the next questions, you will be given a program and user input:\n",
    "\n",
    "If the program runs without errors, type what the program displays into the answer field. Or, if there is a syntax error, only type *syntax error* followed by a space, the word line, another space, and then the line number where the syntax error occurs. For example: `syntax error line 4` Or, if there is a *semantic error*, type what the program displays before the semantic error and then type semantic error followed by a space, the word line, another space, and then the line number where the semantic error occurs. For example: `semantic error line 4`\n",
    "If the program displays multiple lines, put the the vertical bar character `|` between the output lines with no extra spaces on either side of the bar. For example, if the program displays *hello* on the first line and *bye* on the second line, the correct answer would be `hello|bye` (there are no spaces on either side of the vertical bar). If the program displays *hello* on the first line and then a *semantic error* occurs on line 4, the correct answer would be `hello|semantic error line 4`.\n",
    "\n",
    "**1. Given this Python program:**\n",
    "\n",
    "```\n",
    "your_string = input('Enter a number >')\n",
    "print(your_string)\n",
    "your_int = int(your_string)\n",
    "print(your_int)\n",
    "\n",
    "```\n",
    "**What is the outcome if the user inputs:** `7`\n",
    "\n",
    "**Answer:** `7|7`"
   ]
  },
  {
   "cell_type": "code",
   "execution_count": 3,
   "metadata": {},
   "outputs": [
    {
     "name": "stdout",
     "output_type": "stream",
     "text": [
      "Enter a number >7\n",
      "7\n",
      "7\n"
     ]
    }
   ],
   "source": [
    "your_string = input('Enter a number >')\n",
    "print(your_string)\n",
    "your_int = int(your_string)\n",
    "print(your_int)"
   ]
  },
  {
   "cell_type": "markdown",
   "metadata": {},
   "source": [
    "**2. Given this Python program:**\n",
    "\n",
    "```\n",
    "your_string = input('Enter a number >')\n",
    "print(your_string)\n",
    "'your_int' = int(your_string)\n",
    "print('your_int')\n",
    "```\n",
    "**What is the outcome if the user inputs:** `7`\n",
    "\n",
    "**Answer:** `syntax error line 3`"
   ]
  },
  {
   "cell_type": "code",
   "execution_count": 4,
   "metadata": {},
   "outputs": [
    {
     "ename": "SyntaxError",
     "evalue": "can't assign to literal (<ipython-input-4-ee006255ef3a>, line 3)",
     "output_type": "error",
     "traceback": [
      "\u001b[0;36m  File \u001b[0;32m\"<ipython-input-4-ee006255ef3a>\"\u001b[0;36m, line \u001b[0;32m3\u001b[0m\n\u001b[0;31m    'your_int' = int(your_string)\u001b[0m\n\u001b[0m                                 ^\u001b[0m\n\u001b[0;31mSyntaxError\u001b[0m\u001b[0;31m:\u001b[0m can't assign to literal\n"
     ]
    }
   ],
   "source": [
    "your_string = input('Enter a number >')\n",
    "print(your_string)\n",
    "'your_int' = int(your_string)\n",
    "print('your_int')"
   ]
  },
  {
   "cell_type": "markdown",
   "metadata": {},
   "source": [
    "**3. Given this Python program:**\n",
    "\n",
    "```\n",
    "your_string = input('Enter a number >')\n",
    "print(your_string)\n",
    "your_int = int(your_string)\n",
    "print(your_int)\n",
    "```\n",
    "**What is the outcome if the user inputs:** `seven`\n",
    "\n",
    "**Answer:** `seven|semantic error line 3`"
   ]
  },
  {
   "cell_type": "code",
   "execution_count": 5,
   "metadata": {},
   "outputs": [
    {
     "name": "stdout",
     "output_type": "stream",
     "text": [
      "Enter a number >seven\n",
      "seven\n"
     ]
    },
    {
     "ename": "ValueError",
     "evalue": "invalid literal for int() with base 10: 'seven'",
     "output_type": "error",
     "traceback": [
      "\u001b[0;31m---------------------------------------------------------------------------\u001b[0m",
      "\u001b[0;31mValueError\u001b[0m                                Traceback (most recent call last)",
      "\u001b[0;32m<ipython-input-5-66bb2544808c>\u001b[0m in \u001b[0;36m<module>\u001b[0;34m\u001b[0m\n\u001b[1;32m      1\u001b[0m \u001b[0myour_string\u001b[0m \u001b[0;34m=\u001b[0m \u001b[0minput\u001b[0m\u001b[0;34m(\u001b[0m\u001b[0;34m'Enter a number >'\u001b[0m\u001b[0;34m)\u001b[0m\u001b[0;34m\u001b[0m\u001b[0;34m\u001b[0m\u001b[0m\n\u001b[1;32m      2\u001b[0m \u001b[0mprint\u001b[0m\u001b[0;34m(\u001b[0m\u001b[0myour_string\u001b[0m\u001b[0;34m)\u001b[0m\u001b[0;34m\u001b[0m\u001b[0;34m\u001b[0m\u001b[0m\n\u001b[0;32m----> 3\u001b[0;31m \u001b[0myour_int\u001b[0m \u001b[0;34m=\u001b[0m \u001b[0mint\u001b[0m\u001b[0;34m(\u001b[0m\u001b[0myour_string\u001b[0m\u001b[0;34m)\u001b[0m\u001b[0;34m\u001b[0m\u001b[0;34m\u001b[0m\u001b[0m\n\u001b[0m\u001b[1;32m      4\u001b[0m \u001b[0mprint\u001b[0m\u001b[0;34m(\u001b[0m\u001b[0myour_int\u001b[0m\u001b[0;34m)\u001b[0m\u001b[0;34m\u001b[0m\u001b[0;34m\u001b[0m\u001b[0m\n",
      "\u001b[0;31mValueError\u001b[0m: invalid literal for int() with base 10: 'seven'"
     ]
    }
   ],
   "source": [
    "your_string = input('Enter a number >')\n",
    "print(your_string)\n",
    "your_int = int(your_string)\n",
    "print(your_int)"
   ]
  },
  {
   "cell_type": "markdown",
   "metadata": {},
   "source": [
    "**4. Given this Python program:**\n",
    "\n",
    "```\n",
    "your_string = input('Enter a number >')\n",
    "print(your_string)\n",
    "your_int = int(your_string)\n",
    "print('your_int')\n",
    "```\n",
    "**What is the outcome if the user inputs:** `7`\n",
    "\n",
    "**Answer:** `7|your_int`"
   ]
  },
  {
   "cell_type": "code",
   "execution_count": 6,
   "metadata": {},
   "outputs": [
    {
     "name": "stdout",
     "output_type": "stream",
     "text": [
      "Enter a number >7\n",
      "7\n",
      "your_int\n"
     ]
    }
   ],
   "source": [
    "your_string = input('Enter a number >')\n",
    "print(your_string)\n",
    "your_int = int(your_string)\n",
    "print('your_int')"
   ]
  },
  {
   "cell_type": "markdown",
   "metadata": {},
   "source": [
    "**5. Given this Python program:**\n",
    "\n",
    "```\n",
    "your_string = input('Enter a number >')\n",
    "print(your_string)\n",
    "your_int = int(your_string)\n",
    "print(your_int)\n",
    "```\n",
    "**What is the outcome if the user inputs:** `7.0`\n",
    "\n",
    "**Answer:** `7.0|semantic error line 3`"
   ]
  },
  {
   "cell_type": "code",
   "execution_count": 7,
   "metadata": {},
   "outputs": [
    {
     "name": "stdout",
     "output_type": "stream",
     "text": [
      "Enter a number >7.0\n",
      "7.0\n"
     ]
    },
    {
     "ename": "ValueError",
     "evalue": "invalid literal for int() with base 10: '7.0'",
     "output_type": "error",
     "traceback": [
      "\u001b[0;31m---------------------------------------------------------------------------\u001b[0m",
      "\u001b[0;31mValueError\u001b[0m                                Traceback (most recent call last)",
      "\u001b[0;32m<ipython-input-7-66bb2544808c>\u001b[0m in \u001b[0;36m<module>\u001b[0;34m\u001b[0m\n\u001b[1;32m      1\u001b[0m \u001b[0myour_string\u001b[0m \u001b[0;34m=\u001b[0m \u001b[0minput\u001b[0m\u001b[0;34m(\u001b[0m\u001b[0;34m'Enter a number >'\u001b[0m\u001b[0;34m)\u001b[0m\u001b[0;34m\u001b[0m\u001b[0;34m\u001b[0m\u001b[0m\n\u001b[1;32m      2\u001b[0m \u001b[0mprint\u001b[0m\u001b[0;34m(\u001b[0m\u001b[0myour_string\u001b[0m\u001b[0;34m)\u001b[0m\u001b[0;34m\u001b[0m\u001b[0;34m\u001b[0m\u001b[0m\n\u001b[0;32m----> 3\u001b[0;31m \u001b[0myour_int\u001b[0m \u001b[0;34m=\u001b[0m \u001b[0mint\u001b[0m\u001b[0;34m(\u001b[0m\u001b[0myour_string\u001b[0m\u001b[0;34m)\u001b[0m\u001b[0;34m\u001b[0m\u001b[0;34m\u001b[0m\u001b[0m\n\u001b[0m\u001b[1;32m      4\u001b[0m \u001b[0mprint\u001b[0m\u001b[0;34m(\u001b[0m\u001b[0myour_int\u001b[0m\u001b[0;34m)\u001b[0m\u001b[0;34m\u001b[0m\u001b[0;34m\u001b[0m\u001b[0m\n",
      "\u001b[0;31mValueError\u001b[0m: invalid literal for int() with base 10: '7.0'"
     ]
    }
   ],
   "source": [
    "your_string = input('Enter a number >')\n",
    "print(your_string)\n",
    "your_int = int(your_string)\n",
    "print(your_int)"
   ]
  },
  {
   "cell_type": "markdown",
   "metadata": {},
   "source": [
    "**6. Given this Python program:**\n",
    "\n",
    "```\n",
    "your_string = input('Enter a number >')\n",
    "print(your_string)\n",
    "your_int = int(your_string)\n",
    "print(your_int]\n",
    "```\n",
    "**What is the outcome if the user inputs:** `seven`\n",
    "\n",
    "**Answer:** `syntax error line 4`"
   ]
  },
  {
   "cell_type": "code",
   "execution_count": 8,
   "metadata": {},
   "outputs": [
    {
     "ename": "SyntaxError",
     "evalue": "invalid syntax (<ipython-input-8-a798b62cd348>, line 4)",
     "output_type": "error",
     "traceback": [
      "\u001b[0;36m  File \u001b[0;32m\"<ipython-input-8-a798b62cd348>\"\u001b[0;36m, line \u001b[0;32m4\u001b[0m\n\u001b[0;31m    print(your_int]\u001b[0m\n\u001b[0m                  ^\u001b[0m\n\u001b[0;31mSyntaxError\u001b[0m\u001b[0;31m:\u001b[0m invalid syntax\n"
     ]
    }
   ],
   "source": [
    "your_string = input('Enter a number >')\n",
    "print(your_string)\n",
    "your_int = int(your_string)\n",
    "print(your_int]"
   ]
  },
  {
   "cell_type": "markdown",
   "metadata": {},
   "source": [
    "**7. Given this Python program that uses the [built-in ord function](https://docs.python.org/3.4/library/functions.html):**\n",
    "\n",
    "```\n",
    "x = 'a'\n",
    "y = ord(x)\n",
    "z = print(y)\n",
    "```\n",
    "**What is the identifier** z **bound to after all statements in the program have been evaluated?**\n",
    "\n",
    "**Answer:** `None`"
   ]
  },
  {
   "cell_type": "code",
   "execution_count": 12,
   "metadata": {},
   "outputs": [
    {
     "name": "stdout",
     "output_type": "stream",
     "text": [
      "97\n",
      "Value of z: None\n"
     ]
    }
   ],
   "source": [
    "x = 'a'\n",
    "y = ord(x)\n",
    "z = print(y)\n",
    "#check value of z\n",
    "print('Value of z:', z)"
   ]
  },
  {
   "cell_type": "markdown",
   "metadata": {},
   "source": [
    "## Programming (assignment statement)\n",
    "\n",
    "**1. Write a program that prompts the user to enter an integer and displays the absolute value of that integer on one line and then the original integer on the next line.**\n",
    "\n",
    "For example, here is a sample program run:\n",
    "\n",
    "```\n",
    "Enter an integer >-25\n",
    "25\n",
    "-25\n",
    "```"
   ]
  },
  {
   "cell_type": "code",
   "execution_count": 13,
   "metadata": {},
   "outputs": [
    {
     "name": "stdout",
     "output_type": "stream",
     "text": [
      "Enter an integer >-25\n",
      "25\n",
      "-25\n"
     ]
    }
   ],
   "source": [
    "value = input('Enter an integer >')\n",
    "print(abs(int(value)))\n",
    "print(value)"
   ]
  },
  {
   "cell_type": "markdown",
   "metadata": {},
   "source": [
    "---\n",
    "For the next questions, you should use the following lexical rules:\n",
    "\n",
    "**identifier**: starts with a letter or underscore, and is followed by zero or more letters, underscores, or digits<br>\n",
    "**literal string**: starts with a quote, followed by zero or more non-quote characters, and ends with a quote<br>\n",
    "**literal integer**: one or more digits<br>\n",
    "**literal float**: one dot, one or more digits and no other characters<br>\n",
    "**longest token rule**: when creating a token, create the longest token possible<br>\n",
    "**whitespace rule**: for whitespace not at the start of a line:\n",
    "- If whitespace is inside a literal string it is part of the literal string\n",
    "- Otherwise, it ends the current token and no token is created for it\n",
    "\n",
    "**Lexical table for delimiter** R(number) is only the header of the table.\n",
    "\n",
    "| R1 | R2  | R3 | R4  | R5  | R6  |  \n",
    "| -- | --- | -- | --- | --- | --- | \n",
    "| (  | )   | [  | ]   | {   | }   | \n",
    "| ,  | :   | .  | ;   | @   | =   |\n",
    "| += | -=  | *= | /=  | //= | %=  |\n",
    "| &= | \\|= | ^= | >>= | <<= | **= |\n",
    "\n",
    "**Lexical table for operators** O(number) is only the header of the table.\n",
    "\n",
    "| O1 | O2 | O3 | O4 | O5 | O6 | O7 |\n",
    "| -- | -- | -- | -- | -- | -- | -- |\n",
    "| +  | -  | *  | ** | /  | // | %  |\n",
    "| << | >> | &  | \\| | ^  | ~  |    |\n",
    "| <  | >  | <= | >= | == | != |    |\n",
    "\n",
    "---"
   ]
  },
  {
   "cell_type": "markdown",
   "metadata": {},
   "source": [
    "## Lexical Analysis (operator)\n",
    "\n",
    "For each token in the character sequence below, type the token and its token kind in one answer field separated by a single space. Enter the tokens in the order that they would be created by the Python interpreter.\n",
    "\n",
    "If you encounter a character that does not match the lexical rules or tables for any of these token kinds, type that single character followed by a space and then type `UNKNOWN` as its token kind. Start tokenizing again after this single character.\n",
    "\n",
    "Given this statement,\n",
    "\n",
    "```\n",
    "answer = 341 / '51' != <> $7.00\n",
    "```\n",
    "\n",
    "You must choose from these token kinds:\n",
    "\n",
    "*identifier, delimiter, operator, literal string, literal integer,literal float or UNKNOWN*\n",
    "\n",
    "**1. What is the 1st token and token kind?**<br>\n",
    "**Answer:** `answer identifier`\n",
    "\n",
    "**2. What is the 2nd token and token kind?**<br>\n",
    "**Answer:** `= operator`\n",
    "\n",
    "**3. What is the 3rd token and token kind?**<br>\n",
    "**Answer:** `341 literal integer`\n",
    "\n",
    "**4. What is the 4th token and token kind?**<br>\n",
    "**Answer:** `/ operator`\n",
    "\n",
    "**5. What is the 5th token and token kind?**<br>\n",
    "**Answer:** `'51' literal string`\n",
    "\n",
    "**6. What is the 6th token and token kind?**<br>\n",
    "**Answer:** `!= operator`\n",
    "\n",
    "**7. What is the 7th token and token kind?**<br>\n",
    "**Answer:** `< operator`\n",
    "\n",
    "**8. What is the 8th token and token kind?**<br>\n",
    "**Answer:** `> operator`\n",
    "\n",
    "**9. What is the 9th token and token kind?**<br>\n",
    "**Answer:** `$ UNKNOWN`\n",
    "\n",
    "**10. What is the 10th token and token kind?**<br>\n",
    "**Answer:** `7.00 literal float`"
   ]
  },
  {
   "cell_type": "markdown",
   "metadata": {},
   "source": [
    "## Syntax Analysis (binary expression and binary operator)\n",
    "\n",
    "For the next questions, consider the following diagrams for syntax analysis.\n",
    "\n",
    "<img src=\"https://raw.githubusercontent.com/rogergranada/MOOCs/master/Coursera/University%20of%20Alberta/Problem%20Solving%2C%20Python%20Programming%2C%20and%20Video%20Games/Week%2004/images/syntax_statements_2.svg\" width=\"100%\"/>\n",
    "\n",
    "This Python statement has valid syntax.\n",
    "\n",
    "```\n",
    "my_string = str(14 // my_int)\n",
    "```\n",
    "When you start using a syntax diagram, type a left angle bracket and the two letter abbreviation for the syntax diagram. Every syntax diagram that is started must be completed at one of its accepting states, after all the syntax diagrams it has started for its non-terminals are completed. When an accepting state in a syntax diagram is matched, type the abbreviated name of the syntax diagram, followed by a right angle bracket, followed by an `@` character and the two letter abbreviation of the accepting state to indicate that the syntax diagram is complete at that accepting state. Note that this applies to all of the following questions.\n",
    "\n",
    "**1. What is the first syntax diagram that is started?**<br>\n",
    "**Answer:** `<st`\n",
    "\n",
    "**2. What is the next syntax diagram that is started or completed?**<br>\n",
    "**Answer:** `<as`\n",
    "\n",
    "**3. What is the next syntax diagram that is started or completed?**<br>\n",
    "**Answer:** `<ex`\n",
    "\n",
    "**4. What is the next syntax diagram that is started or completed?**<br>\n",
    "**Answer:** `<fc`\n",
    "\n",
    "**5. What is the next syntax diagram that is started or completed?**<br>\n",
    "**Answer:** `<ex`\n",
    "\n",
    "**6. What is the next syntax diagram that is started or completed?**<br>\n",
    "**Answer:** `<be`\n",
    "\n",
    "**7. What is the next syntax diagram that is started or completed?**<br>\n",
    "**Answer:** `<ex`\n",
    "\n",
    "**8. What is the next syntax diagram that is started or completed?**<br>\n",
    "**Answer:** `ex>li`\n",
    "\n",
    "**9. What is the next syntax diagram that is started or completed?**<br>\n",
    "**Answer:** `<bo`\n",
    "\n",
    "**10. What is the next syntax diagram that is started or completed?**<br>\n",
    "**Answer:** `bo>@ot `\n",
    "\n",
    "**11. What is the next syntax diagram that is started or completed?**<br>\n",
    "**Answer:** `<ex`\n",
    "\n",
    "**12. What is the next syntax diagram that is started or completed?**<br>\n",
    "**Answer:** `ex>@id`\n",
    "\n",
    "**13. What is the next syntax diagram that is started or completed?**<br>\n",
    "**Answer:** `be>@ex`\n",
    "\n",
    "**14. What is the next syntax diagram that is started or completed?**<br>\n",
    "**Answer:** `ex>@be`\n",
    "\n",
    "**15. What is the next syntax diagram that is started or completed?**<br>\n",
    "**Answer:** `fc>@rp`\n",
    "\n",
    "**16. What is the next syntax diagram that is started or completed?**<br>\n",
    "**Answer:** `ex>@fc`\n",
    "\n",
    "**17. What is the next syntax diagram that is started or completed?**<br>\n",
    "**Answer:** `as>@ex`\n",
    "\n",
    "**18. What is the next syntax diagram that is started or completed?**<br>\n",
    "**Answer:** `st>@as`\n",
    "\n",
    "The complete answer is below:\n",
    "\n",
    "```\n",
    "<st                # trying to match my_string = str(14 // my_int)\n",
    "  <as              # trying to match my_string = str(14 // my_int)\n",
    "    <ex            # trying to match str(14 // my_int)\n",
    "      <fc          # trying to match str(14 // my_int)\n",
    "        <ex        # trying to match 14 // my_int\n",
    "          <be      # trying to match 14 // my_int\n",
    "            <ex    # trying to match 14\n",
    "            ex>@li # matches 14\n",
    "            <bo    # trying to match //\n",
    "            bo>@ot # matches //\n",
    "            <ex    # trying to match my_int\n",
    "            ex>@id # matches my_int\n",
    "          be>@ex   # matches 14 // my_int\n",
    "        ex>@be     # matches 14 // my_int\n",
    "      fc>@rp       # matches str(14 // my_int)\n",
    "    ex>@fc         # matches str(14 // my_int)\n",
    "  as>@ex           # matches str(14 // my_int)\n",
    "st>@as             # matches my_string = str(14 // my_int)\n",
    "```\n",
    "\n",
    "A visualization of the solution of this problem can be seen in the image below:\n",
    "\n",
    "<img src=\"https://raw.githubusercontent.com/rogergranada/MOOCs/master/Coursera/University%20of%20Alberta/Problem%20Solving%2C%20Python%20Programming%2C%20and%20Video%20Games/Week%2004/images/syntax_statements_question.svg\" width=\"100%\"/>"
   ]
  },
  {
   "cell_type": "markdown",
   "metadata": {},
   "source": [
    "## Semantic Analysis (binary expression)\n",
    "\n",
    "After the identifier `my_int` is bound to the integer object `7`, the interpreter evaluates this statement which has valid semantics:\n",
    "\n",
    "```\n",
    "my_string = str(14 // my_int)\n",
    "```\n",
    "Note that the following instructions apply to subsequent questions. When the interpreter starts applying a semantic rule that uses other semantic rules, type a left angle bracket and the two letter abbreviation for the rule. For example, if the function call rule is started, type `<fc`. When a previously started semantic rule is completed, type its two letter abbreviation followed by a right angle bracket. For example when the function call rule is completed, type `fc>`. When a semantic rule that does not use any other semantic rules is applied, type a left angle bracket, the two letter abbreviation for the rule and a right angle bracket. For example, if the identifier rule is applied, type `<id>`.\n",
    "\n",
    "**1. What is the first semantic rule that is started?**<br>\n",
    "**Answer:** `<as`\n",
    "\n",
    "**2. What is the next semantic rule that is started, applied or completed?**<br>\n",
    "**Answer:** `<fc`\n",
    "\n",
    "**3. What is the next semantic rule that is started, applied or completed?**<br>\n",
    "**Answer:** `<id>`\n",
    "\n",
    "**4. What is the next semantic rule that is started, applied or completed?**<br>\n",
    "**Answer:** `<be`\n",
    "\n",
    "**5. What is the next semantic rule that is started, applied or completed?**<br>\n",
    "**Answer:** `<li>`\n",
    "\n",
    "**6. What is the next semantic rule that is started, applied or completed?**<br>\n",
    "**Answer:** `<id>`\n",
    "\n",
    "**7. What is the next semantic rule that is started, applied or completed?**<br>\n",
    "**Answer:** `be>`\n",
    "\n",
    "**8. What is the next semantic rule that is started, applied or completed?**<br>\n",
    "**Answer:** `fc>`\n",
    "\n",
    "**9. What is the next semantic rule that is started, applied or completed?**<br>\n",
    "**Answer:** `as>`\n",
    "\n",
    "The complete answer is described below:\n",
    "\n",
    "```\n",
    "<as        # assignment statement: my_string = str(14 // my_int<7>)\n",
    "  <fc      # function call: str(14 // my_int<7>)\n",
    "    <id>   # evaluated str to obtain function str\n",
    "    <be    # binary expression: 14 // my_int<7>\n",
    "      <li> # 14\n",
    "      <id> # my_int<7>\n",
    "    be>    # evaluated 14 // my_int<7> to obtain <2>\n",
    "  fc>      # evaluated str(14 // my_int<7>) to obtain <'2'>\n",
    "as>        # evaluated my_string = str(14 // my_int) to obtain my_string<'2'>\n",
    "```"
   ]
  },
  {
   "cell_type": "markdown",
   "metadata": {},
   "source": [
    "## Evaluation (binary expression and operator)\n",
    "\n",
    "For questions 1 through 6, you will be given a program and user input:\n",
    "\n",
    "If the program runs without errors, type what the program displays into the answer field. Or, if there is a syntax error, only type *syntax error* followed by a space, the word line, another space, and then the line number where the syntax error occurs. For example: `syntax error line 4`. \n",
    "\n",
    "Or, if there is a semantic error, type what the program displays before the semantic error and then type *semantic error* followed by a space, the word line, another space, and then the line number where the semantic error occurs. For example: `semantic error line 4`. \n",
    "\n",
    "If the program displays multiple lines, put the the vertical bar character `|` between the output lines with no extra spaces on either side of the bar. For example, if the program displays *hello* on the first line and *bye* on the second line, the correct answer would be `hello|bye` (there are no spaces on either side of the vertical bar). If the program displays hello on the first line and then a semantic error occurs on line 4, the correct answer would be `hello|semantic error line 4`.\n",
    "\n",
    "**1. Given this Python program:**\n",
    "\n",
    "```\n",
    "your_string = input('Enter a number >')\n",
    "print(your_string)\n",
    "your_int = int(your_string)\n",
    "answer = your_int * 4\n",
    "print(answer)\n",
    "```\n",
    "**What is the outcome if the user inputs:** `7`\n",
    "\n",
    "**Answer:** `7|28`"
   ]
  },
  {
   "cell_type": "code",
   "execution_count": 14,
   "metadata": {},
   "outputs": [
    {
     "name": "stdout",
     "output_type": "stream",
     "text": [
      "Enter a number >7\n",
      "7\n",
      "28\n"
     ]
    }
   ],
   "source": [
    "your_string = input('Enter a number >')\n",
    "print(your_string)\n",
    "your_int = int(your_string)\n",
    "answer = your_int * 4\n",
    "print(answer)"
   ]
  },
  {
   "cell_type": "markdown",
   "metadata": {},
   "source": [
    "**2. Given this Python program:**\n",
    "\n",
    "```\n",
    "your_string = input('Enter a number >')\n",
    "print(your_string)\n",
    "your_int = int(your_string)\n",
    "answer = your_int * * 4\n",
    "print(answer)\n",
    "```\n",
    "**What is the outcome if the user inputs:** `7`\n",
    "\n",
    "**Answer:** `syntax error line 4`"
   ]
  },
  {
   "cell_type": "code",
   "execution_count": 15,
   "metadata": {},
   "outputs": [
    {
     "ename": "SyntaxError",
     "evalue": "invalid syntax (<ipython-input-15-b8be398feb9d>, line 4)",
     "output_type": "error",
     "traceback": [
      "\u001b[0;36m  File \u001b[0;32m\"<ipython-input-15-b8be398feb9d>\"\u001b[0;36m, line \u001b[0;32m4\u001b[0m\n\u001b[0;31m    answer = your_int * * 4\u001b[0m\n\u001b[0m                        ^\u001b[0m\n\u001b[0;31mSyntaxError\u001b[0m\u001b[0;31m:\u001b[0m invalid syntax\n"
     ]
    }
   ],
   "source": [
    "your_string = input('Enter a number >')\n",
    "print(your_string)\n",
    "your_int = int(your_string)\n",
    "answer = your_int * * 4\n",
    "print(answer)"
   ]
  },
  {
   "cell_type": "markdown",
   "metadata": {},
   "source": [
    "**3. Given this Python program:**\n",
    "\n",
    "```\n",
    "your_string = input('Enter a number >')\n",
    "print(your_string)\n",
    "your_int = int(your_string)\n",
    "answer = your_int * 4\n",
    "print(your_answer)\n",
    "```\n",
    "**What is the outcome if the user inputs:** `7`\n",
    "\n",
    "**Answer:** `7|semantic error line 5`"
   ]
  },
  {
   "cell_type": "code",
   "execution_count": 16,
   "metadata": {},
   "outputs": [
    {
     "name": "stdout",
     "output_type": "stream",
     "text": [
      "Enter a number >7\n",
      "7\n"
     ]
    },
    {
     "ename": "NameError",
     "evalue": "name 'your_answer' is not defined",
     "output_type": "error",
     "traceback": [
      "\u001b[0;31m---------------------------------------------------------------------------\u001b[0m",
      "\u001b[0;31mNameError\u001b[0m                                 Traceback (most recent call last)",
      "\u001b[0;32m<ipython-input-16-8a73001abaa9>\u001b[0m in \u001b[0;36m<module>\u001b[0;34m\u001b[0m\n\u001b[1;32m      3\u001b[0m \u001b[0myour_int\u001b[0m \u001b[0;34m=\u001b[0m \u001b[0mint\u001b[0m\u001b[0;34m(\u001b[0m\u001b[0myour_string\u001b[0m\u001b[0;34m)\u001b[0m\u001b[0;34m\u001b[0m\u001b[0;34m\u001b[0m\u001b[0m\n\u001b[1;32m      4\u001b[0m \u001b[0manswer\u001b[0m \u001b[0;34m=\u001b[0m \u001b[0myour_int\u001b[0m \u001b[0;34m*\u001b[0m \u001b[0;36m4\u001b[0m\u001b[0;34m\u001b[0m\u001b[0;34m\u001b[0m\u001b[0m\n\u001b[0;32m----> 5\u001b[0;31m \u001b[0mprint\u001b[0m\u001b[0;34m(\u001b[0m\u001b[0myour_answer\u001b[0m\u001b[0;34m)\u001b[0m\u001b[0;34m\u001b[0m\u001b[0;34m\u001b[0m\u001b[0m\n\u001b[0m",
      "\u001b[0;31mNameError\u001b[0m: name 'your_answer' is not defined"
     ]
    }
   ],
   "source": [
    "your_string = input('Enter a number >')\n",
    "print(your_string)\n",
    "your_int = int(your_string)\n",
    "answer = your_int * 4\n",
    "print(your_answer)"
   ]
  },
  {
   "cell_type": "markdown",
   "metadata": {},
   "source": [
    "**4. Given this Python program:**\n",
    "\n",
    "```\n",
    "your_string = input('Enter a number >')\n",
    "print(your_string)\n",
    "your_int = int(your_string)\n",
    "answer = your_int + your_string\n",
    "print(answer)\n",
    "```\n",
    "**What is the outcome if the user inputs:** `7`\n",
    "\n",
    "**Answer:** `7|semantic error line 4`"
   ]
  },
  {
   "cell_type": "code",
   "execution_count": 17,
   "metadata": {},
   "outputs": [
    {
     "name": "stdout",
     "output_type": "stream",
     "text": [
      "Enter a number >7\n",
      "7\n"
     ]
    },
    {
     "ename": "TypeError",
     "evalue": "unsupported operand type(s) for +: 'int' and 'str'",
     "output_type": "error",
     "traceback": [
      "\u001b[0;31m---------------------------------------------------------------------------\u001b[0m",
      "\u001b[0;31mTypeError\u001b[0m                                 Traceback (most recent call last)",
      "\u001b[0;32m<ipython-input-17-3d921ea71c7b>\u001b[0m in \u001b[0;36m<module>\u001b[0;34m\u001b[0m\n\u001b[1;32m      2\u001b[0m \u001b[0mprint\u001b[0m\u001b[0;34m(\u001b[0m\u001b[0myour_string\u001b[0m\u001b[0;34m)\u001b[0m\u001b[0;34m\u001b[0m\u001b[0;34m\u001b[0m\u001b[0m\n\u001b[1;32m      3\u001b[0m \u001b[0myour_int\u001b[0m \u001b[0;34m=\u001b[0m \u001b[0mint\u001b[0m\u001b[0;34m(\u001b[0m\u001b[0myour_string\u001b[0m\u001b[0;34m)\u001b[0m\u001b[0;34m\u001b[0m\u001b[0;34m\u001b[0m\u001b[0m\n\u001b[0;32m----> 4\u001b[0;31m \u001b[0manswer\u001b[0m \u001b[0;34m=\u001b[0m \u001b[0myour_int\u001b[0m \u001b[0;34m+\u001b[0m \u001b[0myour_string\u001b[0m\u001b[0;34m\u001b[0m\u001b[0;34m\u001b[0m\u001b[0m\n\u001b[0m\u001b[1;32m      5\u001b[0m \u001b[0mprint\u001b[0m\u001b[0;34m(\u001b[0m\u001b[0manswer\u001b[0m\u001b[0;34m)\u001b[0m\u001b[0;34m\u001b[0m\u001b[0;34m\u001b[0m\u001b[0m\n",
      "\u001b[0;31mTypeError\u001b[0m: unsupported operand type(s) for +: 'int' and 'str'"
     ]
    }
   ],
   "source": [
    "your_string = input('Enter a number >')\n",
    "print(your_string)\n",
    "your_int = int(your_string)\n",
    "answer = your_int + your_string\n",
    "print(answer)"
   ]
  },
  {
   "cell_type": "markdown",
   "metadata": {},
   "source": [
    "**5. Given this Python program:**\n",
    "\n",
    "```\n",
    "your_string = input('Enter a number >')\n",
    "print(your_string)\n",
    "your_int = int(your_string + your_string)\n",
    "answer = your_int * 4\n",
    "print(answer)\n",
    "\n",
    "```\n",
    "**What is the outcome if the user inputs:** `7`\n",
    "\n",
    "**Answer:** `7|308`"
   ]
  },
  {
   "cell_type": "code",
   "execution_count": 18,
   "metadata": {},
   "outputs": [
    {
     "name": "stdout",
     "output_type": "stream",
     "text": [
      "Enter a number >7\n",
      "7\n",
      "308\n"
     ]
    }
   ],
   "source": [
    "your_string = input('Enter a number >')\n",
    "print(your_string)\n",
    "your_int = int(your_string + your_string)\n",
    "answer = your_int * 4\n",
    "print(answer)"
   ]
  },
  {
   "cell_type": "markdown",
   "metadata": {},
   "source": [
    "**6. Given this Python program:**\n",
    "\n",
    "```\n",
    "your_string = input('Enter a number >')\n",
    "print(your_string)\n",
    "your_int = int(your_string)\n",
    "answer = your_string * 4\n",
    "print(answer)\n",
    "```\n",
    "**What is the outcome if the user inputs:** `7`\n",
    "\n",
    "*Hint*: Before answering this question, look carefully at the semantics of the [binary * operator](https://docs.python.org/3.4/reference/expressions.html#binary-arithmetic-operations) as described in the Python documentation.\n",
    "\n",
    "**Answer:** `7|7777`"
   ]
  },
  {
   "cell_type": "code",
   "execution_count": 19,
   "metadata": {},
   "outputs": [
    {
     "name": "stdout",
     "output_type": "stream",
     "text": [
      "Enter a number >7\n",
      "7\n",
      "7777\n"
     ]
    }
   ],
   "source": [
    "your_string = input('Enter a number >')\n",
    "print(your_string)\n",
    "your_int = int(your_string)\n",
    "answer = your_string * 4\n",
    "print(answer)"
   ]
  },
  {
   "cell_type": "markdown",
   "metadata": {},
   "source": [
    "**7. Consider the following Python program:**\n",
    "\n",
    "```\n",
    "z = 3 + 4\n",
    "y = z + 5\n",
    "z = 2 + y + z\n",
    "```\n",
    "**What is the identifier** z **bound to after all statements in the program have been evaluated?**<br>\n",
    "**Answer:** `21`"
   ]
  },
  {
   "cell_type": "code",
   "execution_count": 20,
   "metadata": {},
   "outputs": [
    {
     "name": "stdout",
     "output_type": "stream",
     "text": [
      "21\n"
     ]
    }
   ],
   "source": [
    "z = 3 + 4\n",
    "y = z + 5\n",
    "z = 2 + y + z\n",
    "print(z)"
   ]
  },
  {
   "cell_type": "markdown",
   "metadata": {},
   "source": [
    "## Programming (binary expression and operator)\n",
    "\n",
    "**1. Write a program that prompts the user to enter two integers, one per prompt. The program should then display the result of dividing the first number by the second number, using integer division so that the answer is an integer quotient, and a remainder.**\n",
    "\n",
    "For example, here is a sample program run:\n",
    "\n",
    "```\n",
    "Enter an integer >17\n",
    "Enter an integer >3\n",
    "17 divided by 3 is 5 remainder 2\n",
    "```"
   ]
  },
  {
   "cell_type": "code",
   "execution_count": 23,
   "metadata": {},
   "outputs": [
    {
     "name": "stdout",
     "output_type": "stream",
     "text": [
      "Enter an integer >17\n",
      "Enter an integer >3\n",
      "17 divided by 3 is 5 remainder 2\n"
     ]
    }
   ],
   "source": [
    "value1 = input('Enter an integer >')\n",
    "value2 = input('Enter an integer >')\n",
    "value1_int = int(value1)\n",
    "value2_int = int(value2)\n",
    "total = value1_int / value2_int\n",
    "rest = value1_int % value2_int\n",
    "print(value1 + ' divided by ' + value2 + ' is ' + str(int(total)) + ' remainder ' + str(rest))"
   ]
  },
  {
   "cell_type": "markdown",
   "metadata": {},
   "source": [
    "## Lexical Analysis (keyword)\n",
    "\n",
    "For each token in the character sequence below, type the token and its token kind in one answer field separated by a single space. Enter the tokens in the order that they would be created by the Python interpreter.\n",
    "\n",
    "If you encounter a character that does not match the lexical rules or tables for any of these token kinds, type that single character followed by a space and then type **UNKNOWN** as its token kind. Start tokenizing again after this single character.\n",
    "\n",
    "The next questions use the following information. Given this statement,\n",
    "\n",
    "```\n",
    "pass(int) *= and 3.9//None\n",
    "```\n",
    "you must choose from these token kinds:\n",
    "\n",
    "*identifier, delimiter, operator, keyword, literal string, literal integer, literal float, or UNKNOWN*\n",
    "\n",
    "**1. What is the 1st token and its token kind?**<br>\n",
    "**Answer:** `pass keyword`\n",
    "\n",
    "**2. What is the 2nd token and its token kind?**<br>\n",
    "**Answer:** `( delimiter`\n",
    "\n",
    "**3. What is the 3rd token and its token kind?**<br>\n",
    "**Answer:** `int identifier`\n",
    "\n",
    "**4. What is the 4th token and its token kind?**<br>\n",
    "**Answer:** `) delimiter`\n",
    "\n",
    "**5. What is the 5th token and its token kind?**<br>\n",
    "**Answer:** `*= delimiter`\n",
    "\n",
    "**6. What is the 6th token and its token kind?**<br>\n",
    "**Answer:** `and keyword`\n",
    "\n",
    "**7. What is the 7th token and its token kind?**<br>\n",
    "**Answer:** `3.9 literal float`\n",
    "\n",
    "**8. What is the 8th token and its token kind?**<br>\n",
    "**Answer:** `// operator`\n",
    "\n",
    "**9. What is the 9th token and its token kind?**<br>\n",
    "**Answer:** `None keyword`"
   ]
  },
  {
   "cell_type": "markdown",
   "metadata": {},
   "source": [
    "## Syntax Analysis (import statement and module)\n",
    "\n",
    "For the next questions, use the following information. This Python statement has valid syntax.\n",
    "\n",
    "```\n",
    "from turtle import forward, backward, color\n",
    "```\n",
    "\n",
    "When you start using a syntax diagram, type a left angle bracket and the two letter abbreviation for the syntax diagram. Every syntax diagram that is started must be completed at one of its accepting states, after all the syntax diagrams it has started for its non-terminals are completed. When an accepting state in a syntax diagram is matched, type the abbreviated name of the syntax diagram, followed by a right angle bracket, followed by an `@` character and the two letter abbreviation of the accepting state to indicate that the syntax diagram is complete at that accepting state. Note that this applies to all of the following questions.\n",
    "\n",
    "**1. What is the first syntax diagram that is started?**<br>\n",
    "**Answer:** `<st`\n",
    "\n",
    "**2. What is the next syntax diagram that is started or completed?**<br>\n",
    "**Answer:** `<is`\n",
    "\n",
    "**3. What is the next syntax diagram that is started or completed?**<br>\n",
    "**Answer:** `<mo`\n",
    "\n",
    "**4. What is the next syntax diagram that is started or completed?**<br>\n",
    "**Answer:** `mo>@id`\n",
    "\n",
    "**5. What is the next syntax diagram that is started or completed?**<br>\n",
    "**Answer:** `is>@id`\n",
    "\n",
    "**6. What is the next syntax diagram that is started or completed?**<br>\n",
    "**Answer:** `st>@is`\n",
    "\n",
    "The complete answer is displayed below:\n",
    "\n",
    "```\n",
    "<st        # trying to match from turtle import forward, backward, color\n",
    "  <is      # trying to match from turtle import forward, backward, color\n",
    "    <mo    # trying to match from turtle\n",
    "    mo>@id # matches turtle\n",
    "  is>@id   # matches color\n",
    "st>@is     # matches from turtle import forward, backward, color\n",
    "```"
   ]
  },
  {
   "cell_type": "markdown",
   "metadata": {},
   "source": [
    "## Semantic Analysis (import statement)\n",
    "\n",
    "The next questions use the following information. The interpreter evaluatesthis statement which has valid semantics:\n",
    "\n",
    "```\n",
    "from turtle import forward, backward, color\n",
    "```\n",
    "When the interpreter starts applying a semantic rule that uses other semantic rules, type a left angle bracket and the two letter abbreviation for the rule. For example, if the function call rule is started, type `<fc`. When a previously started semantic rule is completed, type its two letter abbreviation followed by a right angle bracket. For example when the function call rule is completed, type `fc>`. When a semantic rule that does not use any other semantic rules is applied, type a left angle bracket, the two letter abbreviation for the rule and a right angle bracket. For example, if the identifier rule is applied, type `<id>`.\n",
    "\n",
    "**1. What is the first semantic rule that is started?**<br>\n",
    "**Answer:** `<is`\n",
    "\n",
    "**2. What is the next semantic rule that is started, applied or completed?**<br>\n",
    "**Answer:** `<id>`\n",
    "\n",
    "**3. What is the next semantic rule that is started, applied or completed?**<br>\n",
    "**Answer:** `<id>`\n",
    "\n",
    "**4. What is the next semantic rule that is started, applied or completed?**<br>\n",
    "**Answer:** `<id>`\n",
    "\n",
    "**5. What is the next semantic rule that is started, applied or completed?**<br>\n",
    "**Answer:** `is>`\n",
    "\n",
    "The complete answer is below:\n",
    "\n",
    "```\n",
    "<is    # import statement: from turtle import forward, backward, color\n",
    "  <id> # evaluated forward \n",
    "  <id> # evaluated backward\n",
    "  <id> # evaluated color\n",
    "is>    # evaluated from turtle import forward, backward, color\n",
    "```"
   ]
  },
  {
   "cell_type": "markdown",
   "metadata": {},
   "source": [
    "## Evaluation (import statement and keyword)\n",
    "\n",
    "For questions 1 through 5, you will be given a program and user input:\n",
    "\n",
    "If the program runs without errors, type what the program displays into the answer field.\n",
    "Or, if there is a syntax error, only type syntax error followed by a space, the word line, another space, and then the line number where the syntax error occurs. For example: `syntax error line 4`.\n",
    "\n",
    "Or, if there is a semantic error, type what the program displays before the semantic error and then type semantic error followed by a space, the word line, another space, and then the line number where the semantic error occurs. For example: `semantic error line 4`\n",
    "\n",
    "If the program displays multiple lines, put the the vertical bar character | between the output lines with no extra spaces on either side of the bar. For example, if the program displays hello on the first line and bye on the second line, the correct answer would be `hello|bye` (there are no spaces on either side of the vertical bar). If the program displays hello on the first line and then a semantic error occurs on line 4, the correct answer would be `hello|semantic error line 4`.\n",
    "\n",
    "**1. Given this Python program:**\n",
    "\n",
    "```\n",
    "your_string = input('Enter a number >')\n",
    "your_int = int(your_string)\n",
    "your_sqrt = sqrt(your_int)\n",
    "print(your_sqrt)\n",
    "```\n",
    "\n",
    "**What is the outcome if the user inputs:** `9`<br>\n",
    "**Answer:** `semantic error line 3`"
   ]
  },
  {
   "cell_type": "code",
   "execution_count": 24,
   "metadata": {},
   "outputs": [
    {
     "name": "stdout",
     "output_type": "stream",
     "text": [
      "Enter a number >9\n"
     ]
    },
    {
     "ename": "NameError",
     "evalue": "name 'sqrt' is not defined",
     "output_type": "error",
     "traceback": [
      "\u001b[0;31m---------------------------------------------------------------------------\u001b[0m",
      "\u001b[0;31mNameError\u001b[0m                                 Traceback (most recent call last)",
      "\u001b[0;32m<ipython-input-24-757910401fb9>\u001b[0m in \u001b[0;36m<module>\u001b[0;34m\u001b[0m\n\u001b[1;32m      1\u001b[0m \u001b[0myour_string\u001b[0m \u001b[0;34m=\u001b[0m \u001b[0minput\u001b[0m\u001b[0;34m(\u001b[0m\u001b[0;34m'Enter a number >'\u001b[0m\u001b[0;34m)\u001b[0m\u001b[0;34m\u001b[0m\u001b[0;34m\u001b[0m\u001b[0m\n\u001b[1;32m      2\u001b[0m \u001b[0myour_int\u001b[0m \u001b[0;34m=\u001b[0m \u001b[0mint\u001b[0m\u001b[0;34m(\u001b[0m\u001b[0myour_string\u001b[0m\u001b[0;34m)\u001b[0m\u001b[0;34m\u001b[0m\u001b[0;34m\u001b[0m\u001b[0m\n\u001b[0;32m----> 3\u001b[0;31m \u001b[0myour_sqrt\u001b[0m \u001b[0;34m=\u001b[0m \u001b[0msqrt\u001b[0m\u001b[0;34m(\u001b[0m\u001b[0myour_int\u001b[0m\u001b[0;34m)\u001b[0m\u001b[0;34m\u001b[0m\u001b[0;34m\u001b[0m\u001b[0m\n\u001b[0m\u001b[1;32m      4\u001b[0m \u001b[0mprint\u001b[0m\u001b[0;34m(\u001b[0m\u001b[0myour_sqrt\u001b[0m\u001b[0;34m)\u001b[0m\u001b[0;34m\u001b[0m\u001b[0;34m\u001b[0m\u001b[0m\n",
      "\u001b[0;31mNameError\u001b[0m: name 'sqrt' is not defined"
     ]
    }
   ],
   "source": [
    "your_string = input('Enter a number >')\n",
    "your_int = int(your_string)\n",
    "your_sqrt = sqrt(your_int)\n",
    "print(your_sqrt)"
   ]
  },
  {
   "cell_type": "markdown",
   "metadata": {},
   "source": [
    "**2. Given this Python program:**\n",
    "\n",
    "```\n",
    "from math 'import' sqrt\n",
    "your_string = input('Enter a number >')\n",
    "your_int = int(your_string)\n",
    "your_sqrt = sqrt(your_int)\n",
    "print(your_sqrt)\n",
    "```\n",
    "\n",
    "**What is the outcome if the user inputs:** `9`<br>\n",
    "**Answer:** `syntax error line 1`"
   ]
  },
  {
   "cell_type": "code",
   "execution_count": 25,
   "metadata": {},
   "outputs": [
    {
     "ename": "SyntaxError",
     "evalue": "invalid syntax (<ipython-input-25-2d586e74fbdd>, line 1)",
     "output_type": "error",
     "traceback": [
      "\u001b[0;36m  File \u001b[0;32m\"<ipython-input-25-2d586e74fbdd>\"\u001b[0;36m, line \u001b[0;32m1\u001b[0m\n\u001b[0;31m    from math 'import' sqrt\u001b[0m\n\u001b[0m                     ^\u001b[0m\n\u001b[0;31mSyntaxError\u001b[0m\u001b[0;31m:\u001b[0m invalid syntax\n"
     ]
    }
   ],
   "source": [
    "from math 'import' sqrt\n",
    "your_string = input('Enter a number >')\n",
    "your_int = int(your_string)\n",
    "your_sqrt = sqrt(your_int)\n",
    "print(your_sqrt)"
   ]
  },
  {
   "cell_type": "markdown",
   "metadata": {},
   "source": [
    "**3. Given this Python program:**\n",
    "\n",
    "```\n",
    "from math import sqrt, degrees, exp, gamma\n",
    "your_string = input('Enter a number >')\n",
    "your_int = int(your_string)\n",
    "your_sqrt = sqrt(your_int)\n",
    "print(your_sqrt)\n",
    "```\n",
    "\n",
    "**What is the outcome if the user inputs:** `9`<br>\n",
    "**Answer:** `3.0`"
   ]
  },
  {
   "cell_type": "code",
   "execution_count": 26,
   "metadata": {},
   "outputs": [
    {
     "name": "stdout",
     "output_type": "stream",
     "text": [
      "Enter a number >9\n",
      "3.0\n"
     ]
    }
   ],
   "source": [
    "from math import sqrt, degrees, exp, gamma\n",
    "your_string = input('Enter a number >')\n",
    "your_int = int(your_string)\n",
    "your_sqrt = sqrt(your_int)\n",
    "print(your_sqrt)"
   ]
  },
  {
   "cell_type": "markdown",
   "metadata": {},
   "source": [
    "**4. Given this Python program:**\n",
    "\n",
    "```\n",
    "from math import sqrt,\n",
    "your_string = input('Enter a number >')\n",
    "your_int = int(your_string)\n",
    "your_sqrt = sqrt(your_int)\n",
    "print(your_sqrt)\n",
    "```\n",
    "\n",
    "**What is the outcome if the user inputs:** `9`<br>\n",
    "**Answer:** `syntax error line 1`"
   ]
  },
  {
   "cell_type": "code",
   "execution_count": 27,
   "metadata": {},
   "outputs": [
    {
     "ename": "SyntaxError",
     "evalue": "trailing comma not allowed without surrounding parentheses (<ipython-input-27-ca2f2a169da3>, line 1)",
     "output_type": "error",
     "traceback": [
      "\u001b[0;36m  File \u001b[0;32m\"<ipython-input-27-ca2f2a169da3>\"\u001b[0;36m, line \u001b[0;32m1\u001b[0m\n\u001b[0;31m    from math import sqrt,\u001b[0m\n\u001b[0m                    ^\u001b[0m\n\u001b[0;31mSyntaxError\u001b[0m\u001b[0;31m:\u001b[0m trailing comma not allowed without surrounding parentheses\n"
     ]
    }
   ],
   "source": [
    "from math import sqrt,\n",
    "your_string = input('Enter a number >')\n",
    "your_int = int(your_string)\n",
    "your_sqrt = sqrt(your_int)\n",
    "print(your_sqrt)"
   ]
  },
  {
   "cell_type": "markdown",
   "metadata": {},
   "source": [
    "**5. Given this Python program:**\n",
    "\n",
    "```\n",
    "import math sqrt\n",
    "your_string = input('Enter a number >')\n",
    "print(your_string)\n",
    "your_int = int(your_string)\n",
    "your_sqrt = sqrt(your_int)\n",
    "print(your_sqrt)\n",
    "```\n",
    "**What is the outcome if the user inputs:** `9`<br>\n",
    "**Answer:** `syntax error line 1`"
   ]
  },
  {
   "cell_type": "code",
   "execution_count": 28,
   "metadata": {},
   "outputs": [
    {
     "ename": "SyntaxError",
     "evalue": "invalid syntax (<ipython-input-28-8fbc27e889a2>, line 1)",
     "output_type": "error",
     "traceback": [
      "\u001b[0;36m  File \u001b[0;32m\"<ipython-input-28-8fbc27e889a2>\"\u001b[0;36m, line \u001b[0;32m1\u001b[0m\n\u001b[0;31m    import math sqrt\u001b[0m\n\u001b[0m                   ^\u001b[0m\n\u001b[0;31mSyntaxError\u001b[0m\u001b[0;31m:\u001b[0m invalid syntax\n"
     ]
    }
   ],
   "source": [
    "import math sqrt\n",
    "your_string = input('Enter a number >')\n",
    "print(your_string)\n",
    "your_int = int(your_string)\n",
    "your_sqrt = sqrt(your_int)\n",
    "print(your_sqrt)"
   ]
  },
  {
   "cell_type": "markdown",
   "metadata": {},
   "source": [
    "## Programming (import statement and keyword)\n",
    "\n",
    "Write a program that prompts the user to enter a number of degrees. The program should then use the **sin** function from the `math` library to compute and display the **sin** of the angle. Since the `sin` function expects its argument to be an angle in radians instead of degrees you must convert from degrees to radians before calling the sin function. Look in the math module for a function that converts an angle from degrees to radians and import and use that function as well.\n",
    "\n",
    "For example, here is a sample program run:\n",
    "\n",
    "```\n",
    "Enter an angle in degrees >30\n",
    "The sin of 30 degrees is 0.49999999999999994\n",
    "```"
   ]
  },
  {
   "cell_type": "code",
   "execution_count": 34,
   "metadata": {},
   "outputs": [
    {
     "name": "stdout",
     "output_type": "stream",
     "text": [
      "Enter an angle in degrees >30\n",
      "The sin of 30 degrees is 0.49999999999999994\n"
     ]
    }
   ],
   "source": [
    "from math import sin, radians\n",
    "value = input('Enter an angle in degrees >')\n",
    "print('The sin of ' + value + ' degrees is ' + str(sin(radians(int(value)))))"
   ]
  },
  {
   "cell_type": "markdown",
   "metadata": {},
   "source": [
    "## Lexical Analysis (review)\n",
    "\n",
    "For each token in the character sequence below, type the token and its token kind in one answer field separated by a single space. Enter the tokens in the order that they would be created by the Python interpreter.\n",
    "\n",
    "If you encounter a character that does not match the lexical rules or tables for any of these token kinds, type that single character followed by a space and then type **UNKNOWN** as its token kind. Start tokenizing again after this single character.\n",
    "\n",
    "Given this statement:\n",
    "\n",
    "```\n",
    "type('Tom'*jerry, break .0 continue/=)\n",
    "```\n",
    "you must choose from these token kinds:\n",
    "\n",
    "*identifier, delimiter, operator, keyword, literal string, literal integer, literal float, or UNKNOWN*\n",
    "\n",
    "**1. What is the 1st token and its token kind?**<br>\n",
    "**Answer:** `type identifier`\n",
    "\n",
    "**2. What is the 2nd token and token kind?**<br>\n",
    "**Answer:** `( delimiter`\n",
    "\n",
    "**3. What is the 3rd token and token kind?**<br>\n",
    "**Answer:** `'Tom' literal string`\n",
    "\n",
    "**4. What is the 4th token and token kind?**<br>\n",
    "**Answer:** `* operator`\n",
    "\n",
    "**5. What is the 5th token and token kind?**<br>\n",
    "**Answer:** `jerry identifier`\n",
    "\n",
    "**6. What is the 6th token and its token kind?**<br>\n",
    "**Answer:** `, delimiter`\n",
    "\n",
    "**7. What is the 7th token and token kind?**<br>\n",
    "**Answer:** `break keyword`\n",
    "\n",
    "**8. What is the 8th token and token kind?**<br>\n",
    "**Answer:** `.0 literal float`\n",
    "\n",
    "**9. What is the 9th token and token kind?**<br>\n",
    "**Answer:** `continue keyword`\n",
    "\n",
    "**10. What is the 10th token and token kind?**<br>\n",
    "**Answer:** `/= delimiter`\n",
    "\n",
    "**11. What is the 11th token and token kind?**<br>\n",
    "**Answer:** `) delimiter`"
   ]
  },
  {
   "cell_type": "markdown",
   "metadata": {},
   "source": [
    "## Syntax Analysis (multi-argument function call)\n",
    "\n",
    "The following information is used in the next questions. This Python statement has valid syntax.\n",
    "\n",
    "```\n",
    "print('Cat', str, int())\n",
    "```\n",
    "When you start using a syntax diagram, type a left angle bracket and the two letter abbreviation for the syntax diagram. Every syntax diagram that is started must be completed at one of its accepting states, after all the syntax diagrams it has started for its non-terminals are completed. When an accepting state in a syntax diagram is matched, type the abbreviated name of the syntax diagram, followed by a right angle bracket, followed by an `@` character and the two letter abbreviation of the accepting state to indicate that the syntax diagram is complete at that accepting state.\n",
    "\n",
    "**1. What is the first syntax diagram that is started?**<br>\n",
    "**Answer:** `<st`\n",
    "\n",
    "**2. What is the next syntax diagram that is started or completed?**<br>\n",
    "**Answer:** `<es`\n",
    "\n",
    "**3. What is the next syntax diagram that is started or completed?**<br>\n",
    "**Answer:** `<ex`\n",
    "\n",
    "**4. What is the next syntax diagram that is started or completed?**<br>\n",
    "**Answer:** `<fc`\n",
    "\n",
    "**5. What is the next syntax diagram that is started or completed?**<br>\n",
    "**Answer:** `<al`\n",
    "\n",
    "**6. What is the next syntax diagram that is started or completed?**<br>\n",
    "**Answer:** `<ex`\n",
    "\n",
    "**7. What is the next syntax diagram that is started or completed?**<br>\n",
    "**Answer:** `ex>@li`\n",
    "\n",
    "**8. What is the next syntax diagram that is started or completed?**<br>\n",
    "**Answer:** `<ex`\n",
    "\n",
    "**9. What is the next syntax diagram that is started or completed?**<br>\n",
    "**Answer:** `ex>@id`\n",
    "\n",
    "**10. What is the next syntax diagram that is started or completed?**<br>\n",
    "**Answer:** `<ex`\n",
    "\n",
    "**11. What is the next syntax diagram that is started or completed?**<br>\n",
    "**Answer:** `<fc`\n",
    "\n",
    "**12. What is the next syntax diagram that is started or completed?**<br>\n",
    "**Answer:** `fc>@rp`\n",
    "\n",
    "**13. What is the next syntax diagram that is started or completed?**<br>\n",
    "**Answer:** `ex>@fc`\n",
    "\n",
    "**14. What is the next syntax diagram that is started or completed?**<br>\n",
    "**Answer:** `al>@ex`\n",
    "\n",
    "**15. What is the next syntax diagram that is started or completed?**<br>\n",
    "**Answer:** `fc>@rp`\n",
    "\n",
    "**16. What is the next syntax diagram that is started or completed?**<br>\n",
    "**Answer:** `ex>@fc`\n",
    "\n",
    "**17. What is the next syntax diagram that is started or completed?**<br>\n",
    "**Answer:** `es>@ex`\n",
    "\n",
    "**18. What is the next syntax diagram that is started or completed?**<br>\n",
    "**Answer:** `st>@es`\n",
    "\n",
    "The complete answer is below:\n",
    "\n",
    "```\n",
    "<st                # trying to match print('Cat', str, int())\n",
    "  <es              # trying to match print('Cat', str, int())\n",
    "    <ex            # trying to match print('Cat', str, int())\n",
    "      <fc          # trying to match print('Cat', str, int())\n",
    "        <al        # trying to match 'Cat', str, int()\n",
    "          <ex      # trying to match 'Cat'\n",
    "          ex>@li   # matches 'Cat'\n",
    "          <ex      # trying to match 'Cat'\n",
    "          ex>@id   # matches str\n",
    "          <ex      # trying to match int()\n",
    "            <fc    # trying to match int()\n",
    "            fc>@rp # matches int()\n",
    "          ex>@fc   # matches int()\n",
    "        al>@ex     # matches 'Cat', str, int()\n",
    "      fc>@rp       # matches print('Cat', str, int())\n",
    "    ex>@fc         # matches print('Cat', str, int())\n",
    "  es>@ex           # matches print('Cat', str, int())\n",
    "st>@es             # matches print('Cat', str, int())\n",
    "```"
   ]
  },
  {
   "cell_type": "markdown",
   "metadata": {},
   "source": [
    "## Semantic Analysis (multi-argument function call)\n",
    "\n",
    "The interpreter evaluatesthis statement which has valid semantics:\n",
    "\n",
    "```\n",
    "my_age = pow(5, int('2'))\n",
    "```\n",
    "Note that the following instructions apply to subsequent questions.\n",
    "\n",
    "When the interpreter starts applying a semantic rule that uses other semantic rules, type a left angle bracket and the two letter abbreviation for the rule. For example, if the function call rule is started, type `<fc`. When a previously started semantic rule is completed, type its two letter abbreviation followed by a right angle bracket. For example when the function call rule is completed, type `fc>`. When a semantic rule that does not use any other semantic rules is applied, type a left angle bracket, the two letter abbreviation for the rule and a right angle bracket. For example, if the identifier rule is applied, type `<id>`.\n",
    "\n",
    "**1. What is the first semantic rule that is started?**<br>\n",
    "**Answer:** `<as`\n",
    "\n",
    "**2. What is the next semantic rule that is started, applied or completed?**<br>\n",
    "**Answer:** `<fc`\n",
    "\n",
    "**3. What is the next semantic rule that is started, applied or completed?**<br>\n",
    "**Answer:** `<id>`\n",
    "\n",
    "**4. What is the next semantic rule that is started, applied or completed?**<br>\n",
    "**Answer:** `<al`\n",
    "\n",
    "**5. What is the next semantic rule that is started, applied or completed?**<br>\n",
    "**Answer:** `<li>`\n",
    "\n",
    "**6. What is the next semantic rule that is started, applied or completed?**<br>\n",
    "**Answer:** `<fc`\n",
    "\n",
    "**7. What is the next semantic rule that is started, applied or completed?**<br>\n",
    "**Answer:** `<id>`\n",
    "\n",
    "**8. What is the next semantic rule that is started, applied or completed?**<br>\n",
    "**Answer:** `<al`\n",
    "\n",
    "**9. What is the next semantic rule that is started, applied or completed?**<br>\n",
    "**Answer:** `<li>`\n",
    "\n",
    "**10. What is the next semantic rule that is started, applied or completed?**<br>\n",
    "**Answer:** `al>`\n",
    "\n",
    "**11. What is the next semantic rule that is started, applied or completed?**<br>\n",
    "**Answer:** `fc>`\n",
    "\n",
    "**12. What is the next semantic rule that is started, applied or completed?**<br>\n",
    "**Answer:** `al>`\n",
    "\n",
    "**13. What is the next semantic rule that is started, applied or completed?**<br>\n",
    "**Answer:** `fc>`\n",
    "\n",
    "**14. What is the next semantic rule that is started, applied or completed?**<br>\n",
    "**Answer:** `as>`\n",
    "\n",
    "The complete answer is as follows:\n",
    "\n",
    "```\n",
    "<as            # assignment statement: my_age = pow(5, int('2'))\n",
    "  <fc          # function call: pow(5, int('2'))\n",
    "    <id>       # evaluated pow to obtain function pow\n",
    "    <al        # argument list: 5, int('2')\n",
    "      <li>     # evaluated 5\n",
    "      <fc      # function call int('2')\n",
    "        <id>   # evaluated int to get function int\n",
    "        <al    # argument list of the function\n",
    "          <li> # evaluated '2'\n",
    "        al>    # evaluated argument list\n",
    "      fc>      # evaluated int('2')\n",
    "    al>        # evaluated 5, int('2')\n",
    "  fc>          # evaluated pow(5, int('2'))\n",
    "as>            # evaluated my_age = pow(5, int('2'))\n",
    "```"
   ]
  },
  {
   "cell_type": "markdown",
   "metadata": {},
   "source": [
    "## Evaluation (multi-argument function call)\n",
    "\n",
    "For questions 1 through 6, you will be given a program and user input:\n",
    "\n",
    "If the program runs without errors, type what the program displays into the answer field.\n",
    "Or, if there is a syntax error, only type `syntax error` followed by a space, the word line, another space, and then the line number where the syntax error occurs. For example: `syntax error line 4`.\n",
    "\n",
    "Or, if there is a semantic error, type what the program displays before the semantic error and then type `semantic error` followed by a space, the word line, another space, and then the line number where the semantic error occurs. For example: `semantic error line 4`.\n",
    "\n",
    "If the program displays multiple lines, put the the vertical bar character `|` between the output lines with no extra spaces on either side of the bar. For example, if the program displays hello on the first line and bye on the second line, the correct answer would be `hello|bye` (there are no spaces on either side of the vertical bar). If the program displays hello on the first line and then a semantic error occurs on line 4, the correct answer would be `hello|semantic error line 4`.\n",
    "\n",
    "**1. Given this Python program**\n",
    "\n",
    "```\n",
    "rhyme1 = 'Twinkle, twinkle'\n",
    "rhyme2 = input('Finish the line >')\n",
    "print(len(rhyme1), len(rhyme2))\n",
    "print(len(rhyme1) + len(rhyme2))\n",
    "```\n",
    "**What is the outcome when the user types:** `little star`<br>\n",
    "**Answer:** `16 11|27`"
   ]
  },
  {
   "cell_type": "code",
   "execution_count": 35,
   "metadata": {},
   "outputs": [
    {
     "name": "stdout",
     "output_type": "stream",
     "text": [
      "Finish the line >little star\n",
      "16 11\n",
      "27\n"
     ]
    }
   ],
   "source": [
    "rhyme1 = 'Twinkle, twinkle'\n",
    "rhyme2 = input('Finish the line >')\n",
    "print(len(rhyme1), len(rhyme2))\n",
    "print(len(rhyme1) + len(rhyme2))"
   ]
  },
  {
   "cell_type": "markdown",
   "metadata": {},
   "source": [
    "**2. Given this Python program**\n",
    "\n",
    "```\n",
    "rhyme1 = 'Little Bo-Peep has lost her sheep'\n",
    "rhyme2 = 'Mary had a little lamb'\n",
    "rhyme1_len = len(rhyme1)\n",
    "rhyme2_len = len(rhyme2)\n",
    "combined_len = rhyme1_len + rhyme2_len\n",
    "print(rhyme1_len, rhyme2_len combined_len)\n",
    "```\n",
    "**What is the output?**<br>\n",
    "**Answer:** `syntax error line 6`"
   ]
  },
  {
   "cell_type": "code",
   "execution_count": 36,
   "metadata": {},
   "outputs": [
    {
     "ename": "SyntaxError",
     "evalue": "invalid syntax (<ipython-input-36-e885bbbd1c8f>, line 6)",
     "output_type": "error",
     "traceback": [
      "\u001b[0;36m  File \u001b[0;32m\"<ipython-input-36-e885bbbd1c8f>\"\u001b[0;36m, line \u001b[0;32m6\u001b[0m\n\u001b[0;31m    print(rhyme1_len, rhyme2_len combined_len)\u001b[0m\n\u001b[0m                                            ^\u001b[0m\n\u001b[0;31mSyntaxError\u001b[0m\u001b[0;31m:\u001b[0m invalid syntax\n"
     ]
    }
   ],
   "source": [
    "rhyme1 = 'Little Bo-Peep has lost her sheep'\n",
    "rhyme2 = 'Mary had a little lamb'\n",
    "rhyme1_len = len(rhyme1)\n",
    "rhyme2_len = len(rhyme2)\n",
    "combined_len = rhyme1_len + rhyme2_len\n",
    "print(rhyme1_len, rhyme2_len combined_len)"
   ]
  },
  {
   "cell_type": "markdown",
   "metadata": {},
   "source": [
    "**3. Given this Python program**\n",
    "\n",
    "```\n",
    "rhyme1 = 'Itsy bitsy spider'\n",
    "print(rhyme1)\n",
    "rhyme2 = int(input('How long was that line >'))\n",
    "print(type(rhyme1), type(rhyme2))\n",
    "print(rhyme2 - rhyme1)\n",
    "```\n",
    "**What is the outcome when the user types:** `17`\n",
    "\n",
    "*Note*: If you evaluate `type(17)` in a shell to see the human readable form that the interpreter uses to display the type of an object, you will see: `<class 'int'>`. To simplify the typing of answers in this question, please use this abbreviated form for displaying a type object for evaluation questions in this course: `<int>`. The type of a float would be `<float>` and the type of a function would be `<function>`.\n",
    "\n",
    "**Answer:** `Itsy bitsy spider|<str> <int>|semantic error line 5`"
   ]
  },
  {
   "cell_type": "code",
   "execution_count": 37,
   "metadata": {},
   "outputs": [
    {
     "name": "stdout",
     "output_type": "stream",
     "text": [
      "Itsy bitsy spider\n",
      "How long was that line >17\n",
      "<class 'str'> <class 'int'>\n"
     ]
    },
    {
     "ename": "TypeError",
     "evalue": "unsupported operand type(s) for -: 'int' and 'str'",
     "output_type": "error",
     "traceback": [
      "\u001b[0;31m---------------------------------------------------------------------------\u001b[0m",
      "\u001b[0;31mTypeError\u001b[0m                                 Traceback (most recent call last)",
      "\u001b[0;32m<ipython-input-37-9e0b2223d02c>\u001b[0m in \u001b[0;36m<module>\u001b[0;34m\u001b[0m\n\u001b[1;32m      3\u001b[0m \u001b[0mrhyme2\u001b[0m \u001b[0;34m=\u001b[0m \u001b[0mint\u001b[0m\u001b[0;34m(\u001b[0m\u001b[0minput\u001b[0m\u001b[0;34m(\u001b[0m\u001b[0;34m'How long was that line >'\u001b[0m\u001b[0;34m)\u001b[0m\u001b[0;34m)\u001b[0m\u001b[0;34m\u001b[0m\u001b[0;34m\u001b[0m\u001b[0m\n\u001b[1;32m      4\u001b[0m \u001b[0mprint\u001b[0m\u001b[0;34m(\u001b[0m\u001b[0mtype\u001b[0m\u001b[0;34m(\u001b[0m\u001b[0mrhyme1\u001b[0m\u001b[0;34m)\u001b[0m\u001b[0;34m,\u001b[0m \u001b[0mtype\u001b[0m\u001b[0;34m(\u001b[0m\u001b[0mrhyme2\u001b[0m\u001b[0;34m)\u001b[0m\u001b[0;34m)\u001b[0m\u001b[0;34m\u001b[0m\u001b[0;34m\u001b[0m\u001b[0m\n\u001b[0;32m----> 5\u001b[0;31m \u001b[0mprint\u001b[0m\u001b[0;34m(\u001b[0m\u001b[0mrhyme2\u001b[0m \u001b[0;34m-\u001b[0m \u001b[0mrhyme1\u001b[0m\u001b[0;34m)\u001b[0m\u001b[0;34m\u001b[0m\u001b[0;34m\u001b[0m\u001b[0m\n\u001b[0m",
      "\u001b[0;31mTypeError\u001b[0m: unsupported operand type(s) for -: 'int' and 'str'"
     ]
    }
   ],
   "source": [
    "rhyme1 = 'Itsy bitsy spider'\n",
    "print(rhyme1)\n",
    "rhyme2 = int(input('How long was that line >'))\n",
    "print(type(rhyme1), type(rhyme2))\n",
    "print(rhyme2 - rhyme1)"
   ]
  },
  {
   "cell_type": "markdown",
   "metadata": {},
   "source": [
    "**4. Given this Python program:**\n",
    "\n",
    "```\n",
    "rhyme1 = 'She sells seashells'\n",
    "rhyme2 = 'by the seashore'\n",
    "print(len(rhyme1), len(rhyme2), len(rhyme1) + len(rhyme2))\n",
    "```\n",
    "**What is the output?**<br>\n",
    "**Answer:** `19 15 34`"
   ]
  },
  {
   "cell_type": "code",
   "execution_count": 38,
   "metadata": {},
   "outputs": [
    {
     "name": "stdout",
     "output_type": "stream",
     "text": [
      "19 15 34\n"
     ]
    }
   ],
   "source": [
    "rhyme1 = 'She sells seashells'\n",
    "rhyme2 = 'by the seashore'\n",
    "print(len(rhyme1), len(rhyme2), len(rhyme1) + len(rhyme2))"
   ]
  },
  {
   "cell_type": "markdown",
   "metadata": {},
   "source": [
    "**5. Given this Python program that uses the [randint function](https://docs.python.org/3/library/random.html#random.randint):**\n",
    "\n",
    "```\n",
    "from random import randint\n",
    "rhyme = 'The wheels on the bus'\n",
    "print(rhyme)\n",
    "guess = int(input('how long is the rhyme >'))\n",
    "length = len(rhyme)\n",
    "answer = randint(guess, length)\n",
    "print(answer)\n",
    "```\n",
    "**What is the output when the user inputs:** `21`<br>\n",
    "**Answer:** `The wheels on the bus|21`"
   ]
  },
  {
   "cell_type": "code",
   "execution_count": 39,
   "metadata": {},
   "outputs": [
    {
     "name": "stdout",
     "output_type": "stream",
     "text": [
      "The wheels on the bus\n",
      "how long is the rhyme >21\n",
      "21\n"
     ]
    }
   ],
   "source": [
    "from random import randint\n",
    "rhyme = 'The wheels on the bus'\n",
    "print(rhyme)\n",
    "guess = int(input('how long is the rhyme >'))\n",
    "length = len(rhyme)\n",
    "answer = randint(guess, length)\n",
    "print(answer)"
   ]
  },
  {
   "cell_type": "markdown",
   "metadata": {},
   "source": [
    "**6. Given this Python program that uses the [built-in dir function](https://docs.python.org/3/library/functions.html#dir):**\n",
    "\n",
    "```\n",
    "rhyme1 = 'Star light, star bright'\n",
    "rhyme2 = 'The first star I see tonight'\n",
    "print(type(len), type(1.0))\n",
    "print(len(rhyme1), len(rhyme2), dir(rhyme1, rhyme2))\n",
    "```\n",
    "**What is the output?**\n",
    "\n",
    "*Note*: If you evaluate `type(17)` in a shell to see the human readable form that the interpreter uses to display the type of an object, you will see: `<class 'int'>`. To simplify the typing of answers in this question, please use this abbreviated form for displaying a type object for evaluation questions in this course: `<int>`. The type of a float would be `<float>` and the type of a function would be `<function>`.\n",
    "\n",
    "**Answer:** `<function> <float>|semantic error line 4`"
   ]
  },
  {
   "cell_type": "code",
   "execution_count": 40,
   "metadata": {},
   "outputs": [
    {
     "name": "stdout",
     "output_type": "stream",
     "text": [
      "<class 'builtin_function_or_method'> <class 'float'>\n"
     ]
    },
    {
     "ename": "TypeError",
     "evalue": "dir expected at most 1 arguments, got 2",
     "output_type": "error",
     "traceback": [
      "\u001b[0;31m---------------------------------------------------------------------------\u001b[0m",
      "\u001b[0;31mTypeError\u001b[0m                                 Traceback (most recent call last)",
      "\u001b[0;32m<ipython-input-40-efaf816bd2e4>\u001b[0m in \u001b[0;36m<module>\u001b[0;34m\u001b[0m\n\u001b[1;32m      2\u001b[0m \u001b[0mrhyme2\u001b[0m \u001b[0;34m=\u001b[0m \u001b[0;34m'The first star I see tonight'\u001b[0m\u001b[0;34m\u001b[0m\u001b[0;34m\u001b[0m\u001b[0m\n\u001b[1;32m      3\u001b[0m \u001b[0mprint\u001b[0m\u001b[0;34m(\u001b[0m\u001b[0mtype\u001b[0m\u001b[0;34m(\u001b[0m\u001b[0mlen\u001b[0m\u001b[0;34m)\u001b[0m\u001b[0;34m,\u001b[0m \u001b[0mtype\u001b[0m\u001b[0;34m(\u001b[0m\u001b[0;36m1.0\u001b[0m\u001b[0;34m)\u001b[0m\u001b[0;34m)\u001b[0m\u001b[0;34m\u001b[0m\u001b[0;34m\u001b[0m\u001b[0m\n\u001b[0;32m----> 4\u001b[0;31m \u001b[0mprint\u001b[0m\u001b[0;34m(\u001b[0m\u001b[0mlen\u001b[0m\u001b[0;34m(\u001b[0m\u001b[0mrhyme1\u001b[0m\u001b[0;34m)\u001b[0m\u001b[0;34m,\u001b[0m \u001b[0mlen\u001b[0m\u001b[0;34m(\u001b[0m\u001b[0mrhyme2\u001b[0m\u001b[0;34m)\u001b[0m\u001b[0;34m,\u001b[0m \u001b[0mdir\u001b[0m\u001b[0;34m(\u001b[0m\u001b[0mrhyme1\u001b[0m\u001b[0;34m,\u001b[0m \u001b[0mrhyme2\u001b[0m\u001b[0;34m)\u001b[0m\u001b[0;34m)\u001b[0m\u001b[0;34m\u001b[0m\u001b[0;34m\u001b[0m\u001b[0m\n\u001b[0m",
      "\u001b[0;31mTypeError\u001b[0m: dir expected at most 1 arguments, got 2"
     ]
    }
   ],
   "source": [
    "rhyme1 = 'Star light, star bright'\n",
    "rhyme2 = 'The first star I see tonight'\n",
    "print(type(len), type(1.0))\n",
    "print(len(rhyme1), len(rhyme2), dir(rhyme1, rhyme2))"
   ]
  },
  {
   "cell_type": "markdown",
   "metadata": {},
   "source": [
    "**7. Given this Python program that uses the [built-in function pow](https://docs.python.org/3/library/functions.html#pow):**\n",
    "\n",
    "```\n",
    "a = 2\n",
    "b = 2\n",
    "a = pow(a,b)\n",
    "b = pow(b,a)\n",
    "c = a + b\n",
    "```\n",
    "**What is the identifier `c` bound to after all statements in the program have been evaluated?**<br>\n",
    "**Answer:** `20`"
   ]
  },
  {
   "cell_type": "code",
   "execution_count": 41,
   "metadata": {},
   "outputs": [
    {
     "name": "stdout",
     "output_type": "stream",
     "text": [
      "20\n"
     ]
    }
   ],
   "source": [
    "a = 2\n",
    "b = 2\n",
    "a = pow(a,b)\n",
    "b = pow(b,a)\n",
    "c = a + b\n",
    "print(c)"
   ]
  },
  {
   "cell_type": "markdown",
   "metadata": {},
   "source": [
    "## Programming (multi-argument function call)\n",
    "\n",
    "Write a Python program that asks the user to input two numbers and finds the max of those number when they are raised to the power of each other.\n",
    "\n",
    "Display three numbers in your answer, the first number raised to the power of the second, the second number raised to the power of the first, and then the maximum of these two computed values, each on one line.\n",
    "\n",
    "For example, here is a sample program run:\n",
    "\n",
    "```\n",
    "Enter an integer >2\n",
    "Enter an integer >3\n",
    "2 to the power of 3 is 8\n",
    "3 to the power of 2 is 9\n",
    "the max of 8 and 9 is 9\n",
    "```\n",
    "*Tip*: You can use a multi-argument function call to the `print` function to output a sequence of objects on a single line separated by blanks. This is often easer than using the `+` operator to concatenate several strings together and then printing the single string. It is especially easier to use a multi-argument print function call when some of the objects you want to print are not string objects since you don't need to call the `str()` function to convert these objects to strings. The `print` function call does the conversion to strings for you."
   ]
  },
  {
   "cell_type": "code",
   "execution_count": 44,
   "metadata": {},
   "outputs": [
    {
     "name": "stdout",
     "output_type": "stream",
     "text": [
      "Enter an integer >2\n",
      "Enter an integer >3\n",
      "2 to the power of 3 is 8\n",
      "3 to the power of 2 is 9\n",
      "the max of 8 and 9 is 9\n"
     ]
    }
   ],
   "source": [
    "value1 = int(input('Enter an integer >'))\n",
    "value2 = int(input('Enter an integer >'))\n",
    "pow1 = pow(value1, value2)\n",
    "pow2 = pow(value2, value1)\n",
    "print(value1, 'to the power of', value2, 'is', pow1)\n",
    "print(value2, 'to the power of', value1, 'is', pow2)\n",
    "print('the max of', pow1, 'and', pow2, 'is', max(pow1, pow2))"
   ]
  },
  {
   "cell_type": "markdown",
   "metadata": {},
   "source": [
    "## Lexical Analysis (review)\n",
    "\n",
    "The next questions use the following information. For each token in the character sequence below, type the token and its token kind in one answer field separated by a single space. Enter the tokens in the order that they would be created by the Python interpreter.\n",
    "\n",
    "If you encounter a character that does not match the lexical rules or tables for any of these token kinds, type that single character followed by a space and then type **UNKNOWN** as its token kind. Start tokenizing again after this single character.\n",
    "\n",
    "Given this statement,\n",
    "\n",
    "```\n",
    "27.yield(len.int('11.8')\n",
    "```\n",
    "you must choose from these token kinds:\n",
    "\n",
    "*identifier, delimiter, operator, keyword, literal string, literal integer, literal float, or UNKNOWN*\n",
    "\n",
    "**1. What is the 1st token and its token kind?**<br>\n",
    "**Answer:** `27. literal float`\n",
    "\n",
    "**2. What is the 2nd token and its token kind?**<br>\n",
    "**Answer:** `yield keyword`\n",
    "\n",
    "**3. What is the 3rd token and its token kind?**<br>\n",
    "**Answer:** `( delimiter`\n",
    "\n",
    "**4. What is the 4th token and its token kind?**<br>\n",
    "**Answer:** `len identifier`\n",
    "\n",
    "**5. What is the 5th token and its token kind?**<br>\n",
    "**Answer:** `. delimiter`\n",
    "\n",
    "**6. What is the 6th token and its token kind?**<br>\n",
    "**Answer:** `int identifier`\n",
    "\n",
    "**7. What is the 7th token and its token kind?**<br>\n",
    "**Answer:** `( delimiter`\n",
    "\n",
    "**8. What is the 8th token and its token kind?**<br>\n",
    "**Answer:** `'11.8' literal string`\n",
    "\n",
    "**9. What is the 9th token and its token kind?**<br>\n",
    "**Answer:** `) delimiter`"
   ]
  },
  {
   "cell_type": "markdown",
   "metadata": {},
   "source": [
    "## Syntax Analysis (method call and attribute reference)\n",
    "\n",
    "The next questions use the following syntax diagrams.\n",
    "\n",
    "<img src=\"https://raw.githubusercontent.com/rogergranada/MOOCs/master/Coursera/University%20of%20Alberta/Problem%20Solving%2C%20Python%20Programming%2C%20and%20Video%20Games/Week%2004/images/syntax_diagrams.svg\" width=\"100%\"/>\n",
    "\n",
    "This Python statement has valid syntax.\n",
    "\n",
    "```\n",
    "'bananabread'.upper()\n",
    "```\n",
    "When you start using a syntax diagram, type a left angle bracket and the two letter abbreviation for the syntax diagram. Every syntax diagram that is started must be completed at one of its accepting states, after all the syntax diagrams it has started for its non-terminals are completed. When an accepting state in a syntax diagram is matched, type the abbreviated name of the syntax diagram, followed by a right angle bracket, followed by an `@` character and the two letter abbreviation of the accepting state to indicate that the syntax diagram is complete at that accepting state. Note that this applies to all of the following questions.\n",
    "\n",
    "**1. What is the first syntax diagram that is started?**<br>\n",
    "**Answer:** `<st`\n",
    "\n",
    "**2. What is the next syntax diagram that is started or completed?**<br>\n",
    "**Answer:** `<es`\n",
    "\n",
    "**3. What is the next syntax diagram that is started or completed?**<br>\n",
    "**Answer:** `<ex`\n",
    "\n",
    "**4. What is the next syntax diagram that is started or completed?**<br>\n",
    "**Answer:** `<fc`\n",
    "\n",
    "**5. What is the next syntax diagram that is started or completed?**<br>\n",
    "**Answer:** `<ex`\n",
    "\n",
    "**6. What is the next syntax diagram that is started or completed?**<br>\n",
    "**Answer:** `<ar`\n",
    "\n",
    "**7. What is the next syntax diagram that is started or completed?**<br>\n",
    "**Answer:** `<ex`\n",
    "\n",
    "**8. What is the next syntax diagram that is started or completed?**<br>\n",
    "**Answer:** `ex>@li`\n",
    "\n",
    "**9. What is the next syntax diagram that is started or completed?**<br>\n",
    "**Answer:** `ar>@id`\n",
    "\n",
    "**10. What is the next syntax diagram that is started or completed?**<br>\n",
    "**Answer:** `ex>@ar`\n",
    "\n",
    "**11. What is the next syntax diagram that is started or completed?**<br>\n",
    "**Answer:** `fc>@rp`\n",
    "\n",
    "**12. What is the next syntax diagram that is started or completed?**<br>\n",
    "**Answer:** `ex>@fc`\n",
    "\n",
    "**13. What is the next syntax diagram that is started or completed?**<br>\n",
    "**Answer:** `es>@ex`\n",
    "\n",
    "**14. What is the next syntax diagram that is started or completed?**<br>\n",
    "**Answer:** `st>@es`\n",
    "\n",
    "The complete answer is below.\n",
    "\n",
    "```\n",
    "<st                # trying to match 'bananabread'.upper()\n",
    "  <es              # trying to match 'bananabread'.upper()\n",
    "    <ex            # trying to match 'bananabread'.upper()\n",
    "      <fc          # trying to match 'bananabread'.upper()\n",
    "        <ex        # trying to match 'bananabread'.upper\n",
    "          <ar      # trying to match 'bananabread'.upper\n",
    "            <ex    # trying to match 'bananabread'\n",
    "            ex>@li # matches 'bananabread'\n",
    "          ar>@id   # matches 'bananabread'.upper\n",
    "        ex>@ar     # matches 'bananabread'.upper\n",
    "      fc>@rp       # matches 'bananabread'.upper()\n",
    "    ex>@fc         # matches 'bananabread'.upper()\n",
    "  es>@ex           # matches 'bananabread'.upper()\n",
    "st>@es             # matches 'bananabread'.upper()\n",
    "```\n",
    "\n",
    "<img src=\"https://raw.githubusercontent.com/rogergranada/MOOCs/master/Coursera/University%20of%20Alberta/Problem%20Solving%2C%20Python%20Programming%2C%20and%20Video%20Games/Week%2004/images/quiz_method.svg\" width=\"80%\"/>"
   ]
  },
  {
   "cell_type": "markdown",
   "metadata": {},
   "source": [
    "## Semantic Analysis (method call and attribute reference)\n",
    "\n",
    "The interpreter evaluates these statements, which have valid semantics:\n",
    "\n",
    "```\n",
    "ice_cream = 'vanilla'\n",
    "ice_cream.upper()\n",
    "```\n",
    "Note that the following instructions apply to subsequent questions.\n",
    "\n",
    "When the interpreter starts applying a semantic rule that uses other semantic rules, type a left angle bracket and the two letter abbreviation for the rule. For example, if the function call rule is started, type `<fc`. When a previously started semantic rule is completed, type its two letter abbreviation followed by a right angle bracket. For example when the function call rule is completed, type `fc>`. When a semantic rule that does not use any other semantic rules is applied, type a left angle bracket, the two letter abbreviation for the rule and a right angle bracket. For example, if the identifier rule is applied, type `<id>`.\n",
    "\n",
    "**1. What is the first semantic rule that is started?**<br>\n",
    "**Answer:** `<as`\n",
    "\n",
    "**2. What is the next semantic rule that is started, applied or completed?**<br>\n",
    "**Answer:** `<li>`\n",
    "\n",
    "**3. What is the next semantic rule that is started, applied or completed?**<br>\n",
    "**Answer:** `as>`\n",
    "\n",
    "**4. What is the next semantic rule that is started, applied or completed?**<br>\n",
    "**Answer:** `<fc`\n",
    "\n",
    "**5. What is the next semantic rule that is started, applied or completed?**<br>\n",
    "**Answer:** `<ar`\n",
    "\n",
    "**6. What is the next semantic rule that is started, applied or completed?**<br>\n",
    "**Answer:** `<id>`\n",
    "\n",
    "**7. What is the next semantic rule that is started, applied or completed?**<br>\n",
    "**Answer:** `ar>`\n",
    "\n",
    "**8. What is the next semantic rule that is started, applied or completed?**<br>\n",
    "**Answer:** `fc>`\n",
    "\n",
    "The complete answer is as follows:\n",
    "\n",
    "```\n",
    "<as      # assignment statement: ice_cream = 'vanilla'\n",
    "  <li>   # evaluate 'vanilla'\n",
    "as>      # evaluated assignement: ice_cream = 'vanilla'\n",
    "<fc      # function call <ice_cream.upper>()\n",
    "  <ar    # attribute reference ice_cream.upper\n",
    "    <id> # evaluate upper\n",
    "  ar>    # evaluated ice_cream.upper\n",
    "fc>      # evaluated function call ice_cream.upper()\n",
    "```"
   ]
  },
  {
   "cell_type": "markdown",
   "metadata": {},
   "source": [
    "## Evaluation (method call and attribute reference)\n",
    "\n",
    "For questions 1 through 6, you will be given a program and user input:\n",
    "\n",
    "If the program runs without errors, type what the program displays into the answer field.\n",
    "Or, if there is a syntax error, only type `syntax error` followed by a space, the word line, another space, and then the line number where the syntax error occurs. For example: `syntax error line 4`.\n",
    "\n",
    "Or, if there is a semantic error, type what the program displays before the semantic error and then type `semantic error` followed by a space, the word line, another space, and then the line number where the semantic error occurs. For example: `semantic error line 4`.\n",
    "\n",
    "If the program displays multiple lines, put the the vertical bar character `|` between the output lines with no extra spaces on either side of the bar. For example, if the program displays `hello` on the first line and `bye` on the second line, the correct answer would be `hello|bye` (there are no spaces on either side of the vertical bar). If the program displays hello on the first line and then a semantic error occurs on line 4, the correct answer would be `hello|semantic error line 4`.\n",
    "\n",
    "**1. Given this Python program:**\n",
    "\n",
    "```\n",
    "print('syntax and semantics'..upper())\n",
    "```\n",
    "**What is the outcome?**<br>\n",
    "**Answer:** `syntax error line 1`"
   ]
  },
  {
   "cell_type": "code",
   "execution_count": 45,
   "metadata": {},
   "outputs": [
    {
     "ename": "SyntaxError",
     "evalue": "invalid syntax (<ipython-input-45-2789c6e238ea>, line 1)",
     "output_type": "error",
     "traceback": [
      "\u001b[0;36m  File \u001b[0;32m\"<ipython-input-45-2789c6e238ea>\"\u001b[0;36m, line \u001b[0;32m1\u001b[0m\n\u001b[0;31m    print('syntax and semantics'..upper())\u001b[0m\n\u001b[0m                                 ^\u001b[0m\n\u001b[0;31mSyntaxError\u001b[0m\u001b[0;31m:\u001b[0m invalid syntax\n"
     ]
    }
   ],
   "source": [
    "print('syntax and semantics'..upper())"
   ]
  },
  {
   "cell_type": "markdown",
   "metadata": {},
   "source": [
    "**2. Given this Python program:**\n",
    "\n",
    "```\n",
    "print('hello goodbye'.upper().isupper())\n",
    "```\n",
    "**What is the outcome?**<br>\n",
    "**Answer:** `True`"
   ]
  },
  {
   "cell_type": "code",
   "execution_count": 46,
   "metadata": {},
   "outputs": [
    {
     "name": "stdout",
     "output_type": "stream",
     "text": [
      "True\n"
     ]
    }
   ],
   "source": [
    "print('hello goodbye'.upper().isupper())"
   ]
  },
  {
   "cell_type": "markdown",
   "metadata": {},
   "source": [
    "**3. Given this Python program:**\n",
    "\n",
    "```\n",
    "print('hello goodbye'.upper().find('G'))\n",
    "```\n",
    "**What is the outcome?**<br>\n",
    "**Answer:** `6`"
   ]
  },
  {
   "cell_type": "code",
   "execution_count": 47,
   "metadata": {},
   "outputs": [
    {
     "name": "stdout",
     "output_type": "stream",
     "text": [
      "6\n"
     ]
    }
   ],
   "source": [
    "print('hello goodbye'.upper().find('G'))"
   ]
  },
  {
   "cell_type": "markdown",
   "metadata": {},
   "source": [
    "**4. Given this Python program:**\n",
    "\n",
    "```\n",
    "print(len('hello goodbye').upper())\n",
    "```\n",
    "**What is the outcome?**<br>\n",
    "**Answer:** `semantic error line 1`"
   ]
  },
  {
   "cell_type": "code",
   "execution_count": 48,
   "metadata": {},
   "outputs": [
    {
     "ename": "AttributeError",
     "evalue": "'int' object has no attribute 'upper'",
     "output_type": "error",
     "traceback": [
      "\u001b[0;31m---------------------------------------------------------------------------\u001b[0m",
      "\u001b[0;31mAttributeError\u001b[0m                            Traceback (most recent call last)",
      "\u001b[0;32m<ipython-input-48-7f7fe2457272>\u001b[0m in \u001b[0;36m<module>\u001b[0;34m\u001b[0m\n\u001b[0;32m----> 1\u001b[0;31m \u001b[0mprint\u001b[0m\u001b[0;34m(\u001b[0m\u001b[0mlen\u001b[0m\u001b[0;34m(\u001b[0m\u001b[0;34m'hello goodbye'\u001b[0m\u001b[0;34m)\u001b[0m\u001b[0;34m.\u001b[0m\u001b[0mupper\u001b[0m\u001b[0;34m(\u001b[0m\u001b[0;34m)\u001b[0m\u001b[0;34m)\u001b[0m\u001b[0;34m\u001b[0m\u001b[0;34m\u001b[0m\u001b[0m\n\u001b[0m",
      "\u001b[0;31mAttributeError\u001b[0m: 'int' object has no attribute 'upper'"
     ]
    }
   ],
   "source": [
    "print(len('hello goodbye').upper())"
   ]
  },
  {
   "cell_type": "markdown",
   "metadata": {},
   "source": [
    "**5. Given this Python program:**\n",
    "\n",
    "```\n",
    "print('hello'.upper.lower())\n",
    "```\n",
    "**What is the outcome?**<br>\n",
    "**Answer:** `semantic error line 1`"
   ]
  },
  {
   "cell_type": "code",
   "execution_count": 49,
   "metadata": {},
   "outputs": [
    {
     "ename": "AttributeError",
     "evalue": "'builtin_function_or_method' object has no attribute 'lower'",
     "output_type": "error",
     "traceback": [
      "\u001b[0;31m---------------------------------------------------------------------------\u001b[0m",
      "\u001b[0;31mAttributeError\u001b[0m                            Traceback (most recent call last)",
      "\u001b[0;32m<ipython-input-49-36bea6c74e7c>\u001b[0m in \u001b[0;36m<module>\u001b[0;34m\u001b[0m\n\u001b[0;32m----> 1\u001b[0;31m \u001b[0mprint\u001b[0m\u001b[0;34m(\u001b[0m\u001b[0;34m'hello'\u001b[0m\u001b[0;34m.\u001b[0m\u001b[0mupper\u001b[0m\u001b[0;34m.\u001b[0m\u001b[0mlower\u001b[0m\u001b[0;34m(\u001b[0m\u001b[0;34m)\u001b[0m\u001b[0;34m)\u001b[0m\u001b[0;34m\u001b[0m\u001b[0;34m\u001b[0m\u001b[0m\n\u001b[0m",
      "\u001b[0;31mAttributeError\u001b[0m: 'builtin_function_or_method' object has no attribute 'lower'"
     ]
    }
   ],
   "source": [
    "print('hello'.upper.lower())"
   ]
  },
  {
   "cell_type": "markdown",
   "metadata": {},
   "source": [
    "**6. Given this Python program:**\n",
    "\n",
    "```\n",
    "x = 'purple'\n",
    "y = x.isupper\n",
    "z = type(y)\n",
    "```\n",
    "**What is the identifier** z **bound to after all statements in the program have been evaluated?**\n",
    "\n",
    "*Note*: If you evaluate `type(17)` in a shell to see the human readable form that the interpreter uses to display the type of an object, you will see: `<class 'int'>`.\n",
    "\n",
    "To simplify the typing of answers in this question, please use this abbreviated form for displaying a type object for evaluation questions in this course: `<int>`.\n",
    "\n",
    "The type of a float would be `<float>` and the type of a function would be `<function>`.<br>\n",
    "**Answer:** `<function>`"
   ]
  },
  {
   "cell_type": "code",
   "execution_count": 50,
   "metadata": {},
   "outputs": [
    {
     "name": "stdout",
     "output_type": "stream",
     "text": [
      "<class 'builtin_function_or_method'>\n"
     ]
    }
   ],
   "source": [
    "x = 'purple'\n",
    "y = x.isupper\n",
    "z = type(y)\n",
    "print(z)"
   ]
  },
  {
   "cell_type": "markdown",
   "metadata": {},
   "source": [
    "## Programming (method call and attribute reference)\n",
    "\n",
    "Write a Python program that asks the user to input a string and a sub-string and outputs the number of occurrences of the sub-string in the string.\n",
    "\n",
    "For example, here is a sample program run:\n",
    "\n",
    "```\n",
    "Enter a string >banana\n",
    "Enter a substring >na\n",
    "the substring \"na\" appears 2 times in \"banana\"\n",
    "```\n",
    "Python has a string method that performs this computation. It is a different method than the method called `find`. String methods are listed in Section 4.7 of the Python Standard Library documentation (Text Sequence Type - `str`). Ignore the optional arguments (enclosed in \\[brackets\\]) when you use the appropriate string method."
   ]
  },
  {
   "cell_type": "code",
   "execution_count": 56,
   "metadata": {},
   "outputs": [
    {
     "name": "stdout",
     "output_type": "stream",
     "text": [
      "Enter a string >Alberta Canada\n",
      "Enter a substring >a\n",
      "the substring \"a\" appears 4 times in \"Alberta Canada\"\n"
     ]
    }
   ],
   "source": [
    "word = input('Enter a string >')\n",
    "substring = input('Enter a substring >')\n",
    "nbtimes = word.count(substring)\n",
    "print('the substring \"'+substring+'\" appears', nbtimes, 'times in \"'+word+'\"')"
   ]
  },
  {
   "cell_type": "markdown",
   "metadata": {},
   "source": [
    "## Program Hacking Version 2\n",
    "\n",
    "**Create the program Hacking Version 2 following the sequence of steps illustred below.**\n",
    "\n",
    "<img src=\"https://raw.githubusercontent.com/rogergranada/MOOCs/master/Coursera/University%20of%20Alberta/Problem%20Solving%2C%20Python%20Programming%2C%20and%20Video%20Games/Week%2004/images/hacking_2_game.gif\" width=\"50%\"/>"
   ]
  },
  {
   "cell_type": "code",
   "execution_count": 62,
   "metadata": {},
   "outputs": [
    {
     "name": "stdout",
     "output_type": "stream",
     "text": [
      "/home/roger/Workspace/rogergranada/MOOCs/Coursera/University of Alberta/Problem Solving, Python Programming, and Video Games/Week 4\n"
     ]
    }
   ],
   "source": [
    "print(dir_path)"
   ]
  },
  {
   "cell_type": "code",
   "execution_count": 63,
   "metadata": {},
   "outputs": [
    {
     "name": "stdout",
     "output_type": "stream",
     "text": [
      "pygame 1.9.6\n",
      "Hello from the pygame community. https://www.pygame.org/contribute.html\n"
     ]
    }
   ],
   "source": [
    "import os \n",
    "import sys\n",
    "dir_path = os.path.dirname(os.path.realpath('__file__'))\n",
    "sys.path.insert(0, dir_path)\n",
    "\n",
    "# Program Hacking2.py\n",
    "\n",
    "# Code for Hacking2.py\n",
    "\n",
    "# Hacking Version 1\n",
    "# This is a text-based password guessing game that displays a\n",
    "# list of potential computer passwords. The player is allowed\n",
    "# 1 attempt to guess the password. The game indicates that the\n",
    "# player failed to guess the password correctly.\n",
    "\n",
    "from uagame import Window\n",
    "from time import sleep\n",
    "\n",
    "# create window\n",
    "window = Window('Hacking', 600, 500)\n",
    "window.set_font_name('couriernew')\n",
    "window.set_font_size(18)\n",
    "window.set_font_color('green')\n",
    "window.set_bg_color('black')\n",
    "\n",
    "# display header\n",
    "line_y = 0\n",
    "string_height = window.get_font_height()\n",
    "window.draw_string('DEBUG MODE', 0, 0)\n",
    "window.update()\n",
    "sleep(0.3)\n",
    "line_y = line_y + string_height\n",
    "\n",
    "window.draw_string('1 ATTEMPT(S) LEFT', 0, line_y)\n",
    "window.update()\n",
    "sleep(0.3)\n",
    "line_y = line_y + string_height\n",
    "\n",
    "window.draw_string('', 0, line_y)\n",
    "window.update()\n",
    "sleep(0.3)\n",
    "line_y = line_y + string_height\n",
    "\n",
    "# display password list\n",
    "window.draw_string('PROVIDE', 0, line_y)\n",
    "window.update()\n",
    "sleep(0.3)\n",
    "line_y = line_y + string_height\n",
    "\n",
    "window.draw_string('SETTING', 0, line_y)\n",
    "window.update()\n",
    "sleep(0.3)\n",
    "line_y = line_y + string_height\n",
    "\n",
    "window.draw_string('CANTINA', 0, line_y)\n",
    "window.update()\n",
    "sleep(0.3)\n",
    "line_y = line_y + string_height\n",
    "\n",
    "window.draw_string('CUTTING', 0, line_y)\n",
    "window.update()\n",
    "sleep(0.3)\n",
    "line_y = line_y + string_height\n",
    "\n",
    "window.draw_string('HUNTERS', 0, line_y)\n",
    "window.update()\n",
    "sleep(0.3)\n",
    "line_y = line_y + string_height\n",
    "\n",
    "window.draw_string('SURVIVE', 0, line_y)\n",
    "window.update()\n",
    "sleep(0.3)\n",
    "line_y = line_y + string_height\n",
    "\n",
    "window.draw_string('HEARING', 0, line_y)\n",
    "window.update()\n",
    "sleep(0.3)\n",
    "line_y = line_y + string_height\n",
    "\n",
    "window.draw_string('HUNTING', 0, line_y)\n",
    "window.update()\n",
    "sleep(0.3)\n",
    "line_y = line_y + string_height\n",
    "\n",
    "window.draw_string('REALIZE', 0, line_y)\n",
    "window.update()\n",
    "sleep(0.3)\n",
    "line_y = line_y + string_height\n",
    "\n",
    "window.draw_string('NOTHING', 0, line_y)\n",
    "window.update()\n",
    "sleep(0.3)\n",
    "line_y = line_y + string_height\n",
    "\n",
    "window.draw_string('OVERLAP', 0, line_y)\n",
    "window.update()\n",
    "sleep(0.3)\n",
    "line_y = line_y + string_height\n",
    "\n",
    "window.draw_string('FINDING', 0, line_y)\n",
    "window.update()\n",
    "sleep(0.3)\n",
    "line_y = line_y + string_height\n",
    "\n",
    "window.draw_string('PUTTING', 0, line_y)\n",
    "window.update()\n",
    "sleep(0.3)\n",
    "line_y = line_y + string_height\n",
    "\n",
    "window.draw_string('', 0, line_y)\n",
    "window.update()\n",
    "sleep(0.3)\n",
    "line_y = line_y + string_height\n",
    "\n",
    "# prompt for guess\n",
    "guess = window.input_string('ENTER PASSWORD >', 0, line_y)\n",
    "\n",
    "# end game\n",
    "\n",
    "# clear window\n",
    "window.clear()\n",
    "\n",
    "#   display failure outcome\n",
    "#     display guess\n",
    "#       compute x coordinate\n",
    "x_space = window.get_width() - window.get_string_width(guess)\n",
    "line_x = x_space // 2\n",
    "\n",
    "#       compute y coordinate\n",
    "outcome_height = 7 * string_height\n",
    "y_space = window.get_height() - outcome_height\n",
    "line_y = y_space // 2\n",
    "\n",
    "window.draw_string(guess, line_x, line_y)\n",
    "window.update()\n",
    "sleep(0.3)\n",
    "line_y = line_y + string_height\n",
    "\n",
    "#     display blank line\n",
    "window.draw_string('', 0, line_y)\n",
    "window.update()\n",
    "sleep(0.3)\n",
    "line_y = line_y + string_height\n",
    "\n",
    "#     display failure line 2\n",
    "line = 'LOGIN FAILURE - TERMINAL LOCKED'\n",
    "x_space = window.get_width() - window.get_string_width(line)\n",
    "line_x = x_space // 2\n",
    "window.draw_string(line, line_x, line_y)\n",
    "window.update()\n",
    "sleep(0.3)\n",
    "line_y = line_y + string_height\n",
    "\n",
    "#     display blank line\n",
    "window.draw_string('', 0, line_y)\n",
    "window.update()\n",
    "sleep(0.3)\n",
    "line_y = line_y + string_height\n",
    "\n",
    "#     display failure line 3\n",
    "line = 'PLEASE CONTACT AN ADMINISTRATOR'\n",
    "x_space = window.get_width() - window.get_string_width(line)\n",
    "line_x = x_space // 2\n",
    "window.draw_string(line, line_x, line_y)\n",
    "window.update()\n",
    "sleep(0.3)\n",
    "line_y = line_y + string_height\n",
    "\n",
    "#     display blank line\n",
    "window.draw_string('', 0, line_y)\n",
    "window.update()\n",
    "sleep(0.3)\n",
    "line_y = line_y + string_height\n",
    "\n",
    "# prompt for end\n",
    "line = 'PRESS ENTER TO EXIT'\n",
    "x_space = window.get_width() - window.get_string_width(line)\n",
    "line_x = x_space // 2\n",
    "window.input_string(line, line_x, line_y)\n",
    "line_y = line_y + string_height\n",
    "\n",
    "# close window\n",
    "window.close()"
   ]
  },
  {
   "cell_type": "markdown",
   "metadata": {},
   "source": [
    "## Program Hacking Version 2\n",
    "\n",
    "**Select all of the functional test blocks that your code passes. To pass a test block, the answer must be \"yes\" to all questions in that block.**\n",
    "\n",
    "&#9745; #1 Start the program<br>\n",
    "- Does the game open a window?\n",
    "- Does it have title Hacking?\n",
    "- Does it have aspect ratio 6:5?\n",
    "- Does it have a black background?\n",
    "\n",
    "&#9745; #2 Does the game display a header?<br>\n",
    "- Does it consist of two content lines followed by a blank line?\n",
    "- Does the first content line indicate debug mode?\n",
    "- Does the second content line indicate 4 attempts left?\n",
    "- Is it in the top left corner of the window?\n",
    "- Does it use small font size?\n",
    "- Is it green on black?\n",
    "- Does it have a 0.3 second pause after displaying each line?\n",
    "\n",
    "&#9745; #3 Does the game display a password list?<br>\n",
    "- Does it consist of 13 content lines followed by a blank line?\n",
    "- Does each content line contain one password?\n",
    "- Is it directly below the header?\n",
    "- Does it use small font size?\n",
    "- Is it green on black?\n",
    "- Does it have a 0.3 second pause after displaying each line?\n",
    "\n",
    "&#9745; #4 Does the game prompt for a guess?<br>\n",
    "- Does it indicate the player should enter a password?\n",
    "- Is it directly below the password list?\n",
    "- Does it use small font size?\n",
    "- It is green on black?\n",
    "- Does the game wait for the enter key to be pressed?\n",
    "\n",
    "&#9745; #5 Enter the correct password, HUNTING, and press the enter key<br>\n",
    "- Does the game clear the window?\n",
    "\n",
    "&#9745; #6 Does the game display a failure outcome?<br>\n",
    "- Does it contain four content lines separated by three blank lines?\n",
    "- Is the first content line the guess?\n",
    "- Do the second and third content lines indicate failure?\n",
    "- Does the fourth content line prompt to press enter for exit?\n",
    "- Is it in the center of the window?\n",
    "- Does it use small font size?\n",
    "- Is it green on black?\n",
    "- Does it have a 0.3 second pause after displaying each line?\n",
    "- Does the game wait for the enter key to be pressed?\n",
    "\n",
    "&#9745; #7 Press the enter key to end the program<br>\n",
    "- Does the game close the window?\n",
    "\n",
    "&#9745; #8 Does the program end?\n",
    "\n",
    "&#9745; #9 Restart the program<br>\n",
    "- Enter the incorrect password, SETTING, and press the enter key\n",
    "- Does the game clear the window?\n",
    "\n",
    "&#9745; #10 Does the game display a failure outcome?<br>\n",
    "- Does it contain four content lines separated by three blank lines?\n",
    "- Is the first content line the guess?\n",
    "- Do the second and third content lines indicate failure?\n",
    "- Does the fourth content line prompt to press enter for exit?\n",
    "- Is it in the center of the window?\n",
    "- Does it use small font size?\n",
    "- Is it green on black?\n",
    "- Does it have a 0.3 second pause after displaying each line?\n",
    "- Does the game wait for the enter key to be pressed?\n",
    "\n",
    "&#9745; #11 Press the enter key to end the program<br>\n",
    "- Does the game close the window?\n",
    "\n",
    "&#9745; #11 Does the program end?"
   ]
  },
  {
   "cell_type": "markdown",
   "metadata": {},
   "source": [
    "## Reflect on language concepts used in Hacking Version 2\n",
    "\n",
    "In the next questions, the code from [Hacking2.py](Hacking2.py) should be used.\n",
    "\n",
    "**1. In the code for Hacking Version 2, what is the name of one imported module?**<br>\n",
    "**Answer:** `uagame`\n",
    "\n",
    "**2. In this code for Hacking Version 2, what is the name of one function that was used, which is not a method?**<br>\n",
    "**Answer:** `sleep`\n",
    "\n",
    "**3. In this code for Hacking Version 2, what is the line number of one assignment statement that binds the identifier guess?**<br>\n",
    "**Answer:** `110`\n",
    "\n",
    "**4. In this code for Hacking Version 2, what is the line number of one import statement?**<br>\n",
    "**Answer:** `7`\n",
    "\n",
    "**5. Given this code:**\n",
    "\n",
    "```\n",
    "from time import sleep\n",
    "sleep(2)\n",
    "```\n",
    "**What is the type of the object that sleep(2) evaluates to?**<br>\n",
    "**Answer:** `NoneType`\n",
    "\n",
    "**6. Given this code:**\n",
    "\n",
    "```\n",
    "from uagame import Window\n",
    "window = Window('hello', 300, 200)\n",
    "guess = window.input_string('Enter a word >', 0, 0)\n",
    "window.close()\n",
    "```\n",
    "**What is the type of the object that window.input_string('Enter a word >', 0, 0) evaluates to?**<br>\n",
    "**Answer:** `str`\n",
    "\n",
    "**7. Write a program that uses the `uagame` module to open a `300` by `200` pixel window with `title`, `hello`. Prompt the user to enter a string using the prompt string `'Enter string >'`. The prompt must be in the top left corner of the window. Then, display the input string in the bottom right hand corner of the window. This program must work for any reasonable font size, so your program must use the `Window` methods named: `get_width`, `get_string_width`, `get_height`, and `get_font_height` to compute the `display_string` coordinates for displaying the string in the bottom right corner. The program should pause for 2 seconds after the string appears in the window and then the window should close. Your program must not input or display any other information.**"
   ]
  },
  {
   "cell_type": "code",
   "execution_count": 1,
   "metadata": {},
   "outputs": [
    {
     "name": "stdout",
     "output_type": "stream",
     "text": [
      "pygame 1.9.6\n",
      "Hello from the pygame community. https://www.pygame.org/contribute.html\n"
     ]
    }
   ],
   "source": [
    "from uagame import Window\n",
    "from time import sleep\n",
    "\n",
    "# create window\n",
    "window = Window('hello', 300, 200)\n",
    "string_height = window.get_font_height()\n",
    "\n",
    "# prompt user\n",
    "input_string = window.input_string('Enter string >', 0, string_height)\n",
    "\n",
    "# set text in the right corner\n",
    "x_space = window.get_width() - window.get_string_width(input_string)\n",
    "y_space = window.get_height() - window.get_font_height()\n",
    "\n",
    "# draw text\n",
    "window.draw_string(input_string, x_space, y_space)\n",
    "window.update()\n",
    "sleep(2.0)\n",
    "\n",
    "# close window\n",
    "window.close()"
   ]
  },
  {
   "cell_type": "markdown",
   "metadata": {},
   "source": [
    "**8.If the Game Creation Process is used to create one game version, what is the correct order to complete the following tasks:**\n",
    "\n",
    "1. Write the code\n",
    "2. Describe the game version\n",
    "3. Test the code\n",
    "4. Create a test plan\n",
    "5. Identify solution issues\n",
    "6. Write an algorithm\n",
    "7. Play the game version\n",
    "8. Debug the code\n",
    "9. Observe the game version\n",
    "10. Review the code\n",
    "\n",
    "Your answer should be a sequence of task numbers in the order that they should be performed, separated by single spaces. For example, if the first task should be *\"Create a test plan\"*, the second task should be *\"Debug the code\"*, and the third task should be *\"Describe the game version\"*, then your answer should contain 10 numbers, but it should start with: `4 8 2`\n",
    "\n",
    "Only use each number once, even though tasks such as *\"Write the code\"* may be repeated several times during development of a single version.<br>\n",
    "**Answer:** `9 7 2 4 6 1 3 8 10 5`"
   ]
  }
 ],
 "metadata": {
  "kernelspec": {
   "display_name": "Python 3",
   "language": "python",
   "name": "python3"
  },
  "language_info": {
   "codemirror_mode": {
    "name": "ipython",
    "version": 3
   },
   "file_extension": ".py",
   "mimetype": "text/x-python",
   "name": "python",
   "nbconvert_exporter": "python",
   "pygments_lexer": "ipython3",
   "version": "3.6.10"
  }
 },
 "nbformat": 4,
 "nbformat_minor": 2
}
