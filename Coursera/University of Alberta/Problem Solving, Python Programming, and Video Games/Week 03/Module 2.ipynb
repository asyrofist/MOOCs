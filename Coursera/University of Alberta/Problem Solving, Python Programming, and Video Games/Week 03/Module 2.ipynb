{
 "cells": [
  {
   "cell_type": "markdown",
   "metadata": {},
   "source": [
    "# Program Hacking Version 1"
   ]
  },
  {
   "cell_type": "markdown",
   "metadata": {},
   "source": [
    "In Module 2, you will discover how lexics, syntax, and semantics can be used to understand and describe programming languages. You will use these concepts to understand your first Python statement (expression statement), first three Python expressions (literal, identifier, function call), and first five Python types (int, str, float, function, NoneType). You will use these Python constructs to write, test, and debug Hacking Version 1, a text-based game version. You will then reflect on your game version by using a third problem-solving technique called abstraction, including the specific technique of solution generalization, to solve similar problems."
   ]
  },
  {
   "cell_type": "markdown",
   "metadata": {},
   "source": [
    "## Python Interpreter\n",
    "\n",
    "Python interpreter is responsable by interpreting the character sequence as one line of a Python statement. The first step of interpretation is called **lexical analysis**, where a character sequence is translated into a sequence of basic units called tokens. A token is a sequence of characters that has meaning as a basic language unit. Python has five different kinds of tokens: *delimiter*, *literal*, *identifier*, *operator*, and *keyword*, as illustred in the image below.\n",
    "\n",
    "<img src=\"https://cdn.rawgit.com/rogergranada/MOOCs/master/Coursera/University%20of%20Alberta/Problem%20Solving%2C%20Python%20Programming%2C%20and%20Video%20Games/Week%2003/images/python_interpreter.svg\" width=\"50%\"/>\n",
    "\n",
    "*Delimiters* are analogous to punctuation in natural language (e.g., `)` and `(`) are delimiter tokens in Python. *Literals* and *Identifiers* are analogous to different parts of speech in natural language. For example, a literal string in a programming language is analogous to a noun in natural language, since a literal string also refers to a specific object. An *Identifier* is analogous to a pronoun in natural language, since you'll discover that the same identifier can refer to different objects in different parts of a program. For example, you have seen that the identifier `len` refers to the length function object in the `len('hello')` expression. However, it is possible to use the same identifier len elsewhere in a program to refer to a different object.\n",
    "\n",
    "If the interpreter encounters an error when it is creating tokens from characters, it's called a **lexical error**. However, Python interpreter also reports lexical errors as a kind of **syntax error**. For example, observe what happens when a `!` is added to the `len()` function:"
   ]
  },
  {
   "cell_type": "code",
   "execution_count": 12,
   "metadata": {},
   "outputs": [
    {
     "ename": "SyntaxError",
     "evalue": "invalid syntax (<ipython-input-12-c14d80a54eb0>, line 1)",
     "output_type": "error",
     "traceback": [
      "\u001b[0;36m  File \u001b[0;32m\"<ipython-input-12-c14d80a54eb0>\"\u001b[0;36m, line \u001b[0;32m1\u001b[0m\n\u001b[0;31m    len(!)\u001b[0m\n\u001b[0m        ^\u001b[0m\n\u001b[0;31mSyntaxError\u001b[0m\u001b[0;31m:\u001b[0m invalid syntax\n"
     ]
    }
   ],
   "source": [
    "len(!)"
   ]
  },
  {
   "cell_type": "markdown",
   "metadata": {},
   "source": [
    "Python interpreter reports a syntax error, even if it is a lexical error since `!` is not a valid literal token.\n",
    "\n",
    "The second step of interpretation is called *syntax analysis*, where tokens are combined into Python statements. Syntax defines the format or structure of sentences and statements. Syntax diagrams define a grammar that represents the valid format when Python interpreter is combining tokens into statements. \n",
    "\n",
    "The third step of interpretation is called **semantic analysis**, where the interpreter assigns meaning to syntactically valid statements. Semantics defines the meaning of statements. A set of simple semantic rules can define the meaning of all syntactically correct statements. In Python, a great care must be taken to express statements correctly. For example, identation plays an important role for Python programming. Thus, you cannot insert two statements such as `len()` with different identation."
   ]
  },
  {
   "cell_type": "code",
   "execution_count": 14,
   "metadata": {},
   "outputs": [
    {
     "ename": "IndentationError",
     "evalue": "unexpected indent (<ipython-input-14-f519ccb983ec>, line 2)",
     "output_type": "error",
     "traceback": [
      "\u001b[0;36m  File \u001b[0;32m\"<ipython-input-14-f519ccb983ec>\"\u001b[0;36m, line \u001b[0;32m2\u001b[0m\n\u001b[0;31m    len('hello')\u001b[0m\n\u001b[0m    ^\u001b[0m\n\u001b[0;31mIndentationError\u001b[0m\u001b[0;31m:\u001b[0m unexpected indent\n"
     ]
    }
   ],
   "source": [
    "len('hello')\n",
    "  len('hello')"
   ]
  },
  {
   "cell_type": "markdown",
   "metadata": {},
   "source": [
    "## Python Lexical Analysis\n",
    "\n",
    "A token is constructed from one or more characters where each character can be a *letter*, a *digit*, a *symbol*, a *special character*, or *whitespace* as illustred below. *Whitespace* is a space, a `[TAB]`, or a page break character also called a form feed. Python has five different kinds of tokens, *identifier* tokens, *delimiter* tokens, *literal* tokens, *operator* tokens, and *keyword* tokens. Each kind of token is either described by a simplified lexical rule or defined by a lexical table. \n",
    "\n",
    "<img src=\"https://cdn.rawgit.com/rogergranada/MOOCs/master/Coursera/University%20of%20Alberta/Problem%20Solving%2C%20Python%20Programming%2C%20and%20Video%20Games/Week%2003/images/python_lexical_analysis.svg\" width=\"60%\"/>\n",
    "\n",
    "An *identifier* is a name we use in Python code to refer to an object in memory. For example, `len` refers to a function object that computes the length of a sequence. Python recognizes *identifier* tokens using a simplified lexical rule. \"Starts with a letter or underscore, and is followed by zero or more letters, underscores or digits\". *Identifiers* are case-sensitive, so \"R2D2\" with uppercase letters is a different identifier than \"r2d2\" with lowercase letters.\n",
    "\n",
    "A *delimiter* is used to separate other tokens the same way that punctuation is used in natural language. We use a lexical table to define the Python delimiter tokens. Each delimiter consist of one, two, or three symbolic characters, while other delimiters like comma and star equal appear alone, as presented in the table below.\n",
    "\n",
    "| R1 | R2  | R3 | R4  | R5  | R6  |  \n",
    "| -- | --- | -- | --- | --- | --- | \n",
    "| (  | )   | [  | ]   | {   | }   | \n",
    "| ,  | :   | .  | ;   | @   | =   |\n",
    "| += | -=  | *= | /=  | //= | %=  |\n",
    "| &= | \\|= | ^= | >>= | <<= | **= |\n",
    "\n",
    "There are several categories of *literal* tokens, such as *literal string*, *literal integer* and *literal float*. The simplified rule for *literal string* is, \"starts with a quote followed by zero or more non quote characters, and ends with a quote\". It is a token that we use in python code to refer to an object in memory that represents a sequence of characters. Python uses quote characters to distinguish a literal string token from an identifier. A *literal float* represents a non-negative rational number, where the simplest rule is \"one, dot, one or more digits, and no other characters\". A *literal integer* represents non-negative whole numbers, where its rule is \"one or more digits\". It is important to note that when creating a **token**, create the longest token possible."
   ]
  },
  {
   "cell_type": "markdown",
   "metadata": {},
   "source": [
    "## Python Syntax Analysis\n",
    "\n",
    "Syntax prescribes the format of each statement, *i.e.*, it specifies the order of the tokens in that statement. We use syntax diagrams to define which tokens are in a statement and what order they are in. We consider here three kinds of expressions: *literals*, *identifiers*, and *function calls*, as illustred in the image below. A syntax diagram contains states and transitions, where the start state is drawn as a circle and a terminal state is a state that represents a single token from a set of tokens, such as one delimiter token from the set of all delimiter tokens. A terminal state is drawn as a rounded rectangle and matches one token. Literal is a terminal state, which represents one token from any literal category, including *string*, *integer*, and *float*. *Identifier* is also a terminal state that represents one identifier token. A state that does not represent a single token from a set of tokens is called a *non-terminal state*, which is drawn as a rectangle and must be expanded using its own syntax diagram. A *function call* is a non-terminal state. A state that has a double border is called an *accepting state*. *Literal*, *identifier*, and *function call* are accepting states. Finally, the arrows are called transitions and by connecting states that transitions to find paths through the diagram. \n",
    "\n",
    "<img src=\"https://cdn.rawgit.com/rogergranada/MOOCs/master/Coursera/University%20of%20Alberta/Problem%20Solving%2C%20Python%20Programming%2C%20and%20Video%20Games/Week%2003/images/python_syntax_analysis.svg\" width=\"50%\"/>\n",
    "\n",
    "Below, there is an simplified example of a syntax diagram for function call that has either one argument expression or no argument. Begin at its start state, there is only one possible transition to an identifier token. \n",
    "\n",
    "<img src=\"https://cdn.rawgit.com/rogergranada/MOOCs/master/Coursera/University%20of%20Alberta/Problem%20Solving%2C%20Python%20Programming%2C%20and%20Video%20Games/Week%2003/images/function_call.svg\" width=\"50%\"/>\n",
    "\n",
    "The next token left paren should match the left paren state. The next token follows to the token right paren or the transition to the expression non-terminal state. In case of having an argument, we expand this state using the expression syntax diagram. The definition of expression is a recursive definition since an expression can be a function call, which itself contains an expression. There are three transitions from the start state for expression. One leads to the *literal* terminal state, one leads to the *identifier* terminal state, and one leads to the *function call* non-terminal state. Consider we match the *literal string*, we return to the path in the function call diagram to finally match the right paren. "
   ]
  },
  {
   "cell_type": "markdown",
   "metadata": {},
   "source": [
    "## Python Objects\n",
    "\n",
    "The Python interpreter creates objects to represent data in computer memory. Each object has an **identity**, a **type**, and a **value**. \n",
    "\n",
    "### Identity\n",
    "\n",
    "An object's **identity** is an integer which is guaranteed to be unique and imutable for this object during its lifetime - it is determined when the object is created. Think of an object's identity as it's location in computer memory. We can obtain an object's identity by applying the built in ID function to it. For example, we can see the identity of 27 using:"
   ]
  },
  {
   "cell_type": "code",
   "execution_count": 16,
   "metadata": {},
   "outputs": [
    {
     "data": {
      "text/plain": [
       "11095136"
      ]
     },
     "execution_count": 16,
     "metadata": {},
     "output_type": "execute_result"
    }
   ],
   "source": [
    "id(27)"
   ]
  },
  {
   "cell_type": "markdown",
   "metadata": {},
   "source": [
    "### Type\n",
    "\n",
    "An object's **type** determines its format or shape in memory and how it is interpreted during computations. Once we create an object of a particular type, its type is immutable. We cannot change its type since changing its shape would disrupt adjacent objects in memory. For example, we can see the type of the object \"hello\" using:"
   ]
  },
  {
   "cell_type": "code",
   "execution_count": 17,
   "metadata": {},
   "outputs": [
    {
     "data": {
      "text/plain": [
       "str"
      ]
     },
     "execution_count": 17,
     "metadata": {},
     "output_type": "execute_result"
    }
   ],
   "source": [
    "type('hello')"
   ]
  },
  {
   "cell_type": "markdown",
   "metadata": {},
   "source": [
    "### Value\n",
    "\n",
    "The **value** of the object is represented by a sequence of bits. It is important to note that Python does not use fixed length binary sequences to represent different types. For example, other programming languages represent integers with a fixed number of bits, such as 32 or 64, which limits the size of an integer to 2 billion with 32 bits, or 9 billion billion with 64 bits. In Python, we can represent a large number as a single object of type `int`, such as the number of atoms in the universe, which is between 10 to the power of 78 and 10 to the power of 82."
   ]
  },
  {
   "cell_type": "code",
   "execution_count": 20,
   "metadata": {},
   "outputs": [
    {
     "name": "stdout",
     "output_type": "stream",
     "text": [
      "10000000000000000000000000000000000000000000000000000000000000000000000000000000000\n",
      "<class 'int'>\n"
     ]
    }
   ],
   "source": [
    "atoms = 10**82\n",
    "print(atoms)\n",
    "print(type(atoms))"
   ]
  },
  {
   "cell_type": "markdown",
   "metadata": {},
   "source": [
    "The particular bit sequence used for memory representation of object values varies between different Python implementations. Therefore, Python does not have a built in value function in the standard library to display the bit representation of an object."
   ]
  },
  {
   "cell_type": "markdown",
   "metadata": {},
   "source": [
    "## Python Semantics of Literals and Identifiers\n",
    "\n",
    "In Python, a *literal* represents an object by describing it. It contains all of the information necessary to create an object. A *literal* is not an object, it just represents that object in the expression. Once the *literal* is used to create an object in memory, it is no longer necessary and can be removed, *i.e.*, only the object is needed. \n",
    "\n",
    "Each Python interpreter has its own strategy for reusing objects created for literals, and the strategy depends on the literal. For example, this interpreter reuses the integer objects for all literal integers between -5 and 256, but creates new objects each time any other literal integer is used."
   ]
  },
  {
   "cell_type": "code",
   "execution_count": 31,
   "metadata": {},
   "outputs": [
    {
     "name": "stdout",
     "output_type": "stream",
     "text": [
      "ID for 256: 11102464\n",
      "ID for 256: 11102464\n",
      "ID for 257: 139870576632240\n",
      "ID for 257: 139870576632432\n"
     ]
    }
   ],
   "source": [
    "print('ID for 256:', id(256))\n",
    "print('ID for 256:', id(256))\n",
    "print('ID for 257:', id(257))\n",
    "print('ID for 257:', id(257))"
   ]
  },
  {
   "cell_type": "markdown",
   "metadata": {},
   "source": [
    "In addition to *literals*, Python uses *identifiers* to represent objects in an expression. An *identifier* represents an object in an expression by referencing that object. We say that an identifier is bound to an object, and use an arrow to denote the binding as illustred in the image below. For example, the *identifier* `len` (number below the `len` function in memory) represents a function object. An identifier is a persistent representation of an object, while all of the expressions in a shell or program are evaluated. A literal is only a temporary representation, until the object it represents is created.\n",
    "\n",
    "<img src=\"https://cdn.rawgit.com/rogergranada/MOOCs/master/Coursera/University%20of%20Alberta/Problem%20Solving%2C%20Python%20Programming%2C%20and%20Video%20Games/Week%2003/images/namespace.svg\" width=\"40%\"/>\n",
    "\n",
    "Python uses a *namespace* to allow identifiers to persist during evaluation. A *namespace* associates each name that appears in a Python expression with the object that it is bound to. Thus, the `len` identifier is associated or bound to a function object. The step that connects a name in a Python expression to its object in memory is called dereferencing. \n",
    "\n",
    "When we run a Python program, the interpreter creates a namespace and pre-binds many identifiers before evaluating our code. For example, the interpreter creates a function object that computes the length of a sequence, adds the name `len` to the namespace, and binds this name to the function object. The interpreter pre-binds the names of all the built in functions. The interpreter also pre-binds the name of each built in type to a type object, and pre-binds many other identifiers as well. We can see the pre-binded names in *namespace* by running:"
   ]
  },
  {
   "cell_type": "code",
   "execution_count": 36,
   "metadata": {},
   "outputs": [
    {
     "name": "stdout",
     "output_type": "stream",
     "text": [
      "['ArithmeticError', 'AssertionError', 'AttributeError', 'BaseException', 'BlockingIOError', 'BrokenPipeError', 'BufferError', 'BytesWarning', 'ChildProcessError', 'ConnectionAbortedError', 'ConnectionError', 'ConnectionRefusedError', 'ConnectionResetError', 'DeprecationWarning', 'EOFError', 'Ellipsis', 'EnvironmentError', 'Exception', 'False', 'FileExistsError', 'FileNotFoundError', 'FloatingPointError', 'FutureWarning', 'GeneratorExit', 'IOError', 'ImportError', 'ImportWarning', 'IndentationError', 'IndexError', 'InterruptedError', 'IsADirectoryError', 'KeyError', 'KeyboardInterrupt', 'LookupError', 'MemoryError', 'ModuleNotFoundError', 'NameError', 'None', 'NotADirectoryError', 'NotImplemented', 'NotImplementedError', 'OSError', 'OverflowError', 'PendingDeprecationWarning', 'PermissionError', 'ProcessLookupError', 'RecursionError', 'ReferenceError', 'ResourceWarning', 'RuntimeError', 'RuntimeWarning', 'StopAsyncIteration', 'StopIteration', 'SyntaxError', 'SyntaxWarning', 'SystemError', 'SystemExit', 'TabError', 'TimeoutError', 'True', 'TypeError', 'UnboundLocalError', 'UnicodeDecodeError', 'UnicodeEncodeError', 'UnicodeError', 'UnicodeTranslateError', 'UnicodeWarning', 'UserWarning', 'ValueError', 'Warning', 'ZeroDivisionError', '__IPYTHON__', '__build_class__', '__debug__', '__doc__', '__import__', '__loader__', '__name__', '__package__', '__spec__', 'abs', 'all', 'any', 'ascii', 'bin', 'bool', 'bytearray', 'bytes', 'callable', 'chr', 'classmethod', 'compile', 'complex', 'copyright', 'credits', 'delattr', 'dict', 'dir', 'display', 'divmod', 'enumerate', 'eval', 'exec', 'filter', 'float', 'format', 'frozenset', 'get_ipython', 'getattr', 'globals', 'hasattr', 'hash', 'help', 'hex', 'id', 'input', 'int', 'isinstance', 'issubclass', 'iter', 'len', 'license', 'list', 'locals', 'map', 'max', 'memoryview', 'min', 'next', 'object', 'oct', 'open', 'ord', 'pow', 'print', 'property', 'range', 'repr', 'reversed', 'round', 'set', 'setattr', 'slice', 'sorted', 'staticmethod', 'str', 'sum', 'super', 'tuple', 'type', 'vars', 'zip']\n"
     ]
    }
   ],
   "source": [
    "print(dir(__builtins__))"
   ]
  },
  {
   "cell_type": "markdown",
   "metadata": {},
   "source": [
    "Hence, the semantics of an identifier expression works as: if the identifier is in the *namespace*, dereference it to get the result object, otherwise report an error. For example, if we evaluate an expression containing the identifier `len`, the interpreter finds `len` in the *namespace* and dereferences it to obtain the function object."
   ]
  },
  {
   "cell_type": "markdown",
   "metadata": {},
   "source": [
    "## Python Semantics of Function Calls\n",
    "\n",
    "The semantics of a *function call* is composed of four steps descirbed below. \n",
    "\n",
    "1. Evaluate the identifier to obtain a function object\n",
    "2. If there is an expression, evaluate it to obtain an argument object\n",
    "3. If there is an argument object, pass it into the function\n",
    "4. Evaluate the function code to obtain a result object\n",
    "\n",
    "Consider the *function call* `len('hello')`. Before the interpreter evaluate the semantic rules, the *identifier* `len` is prebound to the builtin `len` function object as illustred in the image below. Now, the Python interpreter applies the semantic rule for *function call* expressions by evaluating the identifier `len` (step 1). The semantic rule for an identifier expression looks for `len` in the *namespace* and checks whether it is prebound to a built in function. It finds it and dereferences `len` to obtain the length function object. The next step, the Interpreter evaluates the expression ''hello'' (step 2). The semantic rule for *literals* evaluates this expression by creating a new string object. In step 3, we pass this argument object into the length function. Finally, the interpreter evaluates the code in the length function (step 4) and returns the integer `5` object. This five object is displayed in the shell. \n",
    "\n",
    "<img src=\"https://cdn.rawgit.com/rogergranada/MOOCs/master/Coursera/University%20of%20Alberta/Problem%20Solving%2C%20Python%20Programming%2C%20and%20Video%20Games/Week%2003/images/namespace_len.svg\" width=\"30%\"/>"
   ]
  },
  {
   "cell_type": "markdown",
   "metadata": {},
   "source": [
    "## Python Program Interpretation\n",
    "\n",
    "Initially, the Python interpreter uses lexical analysis to create tokens for the entire program. It then checks the syntax of each statement in order from the first statement to the last statement. Finally, it uses semantic analysis to evaluate each statement in order. Python allows us to invoke the interpreter on a program that is stored in a file using the command `python`. \n",
    "\n",
    "To explicitly display an object when a program is evaluated, you need to use the built-in function `print` that displays its argument object and then moves the cursor to the next line. The print function returns a unique object whose type is `NoneType`. This object is returned by any function that does not return a useful object. When I evaluate type of `print`, the Python interpreter displays the following:"
   ]
  },
  {
   "cell_type": "code",
   "execution_count": 39,
   "metadata": {},
   "outputs": [
    {
     "name": "stdout",
     "output_type": "stream",
     "text": [
      "hello\n"
     ]
    },
    {
     "data": {
      "text/plain": [
       "NoneType"
      ]
     },
     "execution_count": 39,
     "metadata": {},
     "output_type": "execute_result"
    }
   ],
   "source": [
    "type(print('hello'))"
   ]
  },
  {
   "cell_type": "markdown",
   "metadata": {},
   "source": [
    "In order to get the information from the user, you can use the built-in function `input` to translate user key presses into an object of type `str`. If a prompt argument is present, it is written to the shell without a trailing newline. If the argument is left out, nothing is displayed, as below:"
   ]
  },
  {
   "cell_type": "code",
   "execution_count": 41,
   "metadata": {},
   "outputs": [
    {
     "name": "stdout",
     "output_type": "stream",
     "text": [
      "Input text: hello\n",
      "hello\n"
     ]
    }
   ],
   "source": [
    "print(input('Input text: '))"
   ]
  },
  {
   "cell_type": "markdown",
   "metadata": {},
   "source": [
    "## Program Hacking Version 1\n",
    "\n",
    "After generating the algorithm, the next subtask in create version is create program. Writing code is a refinement since it is more precise than the algorithm. The three subtask of creating a program are **write code**, **test code**, and **debug code** as illustrated in the diagram below. *Writing code* is the process of translating your algorithm into a programming language. Each step of the algorithm will become one or more sequential statements in some programming language. \n",
    "\n",
    "<img src=\"https://cdn.rawgit.com/rogergranada/MOOCs/master/Coursera/University%20of%20Alberta/Problem%20Solving%2C%20Python%20Programming%2C%20and%20Video%20Games/Week%2003/images/create_game_3.svg\" width=\"80%\"/>\n",
    "\n",
    "Once you have some code written, you need to test it. *Testing* is running your code to determine which errors exist in the program. You test code by running it and determining what errors have occurred. You will make many errors when you write a Python program. *Debugging* is the process of discovering exactly what part of the code cause the error and deciding how to fix it. Debugging is discovering which program statements cause the errors and analyzing how to fix those statements. "
   ]
  },
  {
   "cell_type": "markdown",
   "metadata": {},
   "source": [
    "## The Reflection Process\n",
    "\n",
    "*Reflection* is an important step in the game creation process, since learning a new skill usually involves a narrow focus on a specific situation. It is necessary to generalize the skills so it can be applied to new situations. Solution generalization replaces a solution to a specific problem with a solution that solves a group of related problems, including that specific problem. It is one form of a new problem-solving technique called *abstraction*. You must learn to generalize the code statements you write by changing the functions, literals, and other objects you use to solve different problems. \n",
    "\n",
    "*Reflection* has three subtasks: **review code**, **reflection activity**, and **identify solution issues** as illustred in the image below. In **review code**, you should inspect your program statements one at a time and the order that they are run to gain a deeper understanding of the program you wrote. Your goal is to understand how the statements work together to implement the game - you can use the *debugger* (`%debug`)to trace the way that the Python interpreter runs a program. *Tracing* shows the sequential statement by statement evaluation, that the Python interpreter does by default.\n",
    "\n",
    "<img src=\"https://cdn.rawgit.com/rogergranada/MOOCs/master/Coursera/University%20of%20Alberta/Problem%20Solving%2C%20Python%20Programming%2C%20and%20Video%20Games/Week%2003/images/create_game_4.svg\" width=\"80%\" align=\"center\"/>\n",
    "\n",
    "*Code quality* is enforced using software quality tests. These tests are applied in conjunction with the functional tests that you have already created and used. Functional tests demonstrate that the code works as intended. The software quality tests ensure that you have made good coding choices and used best programming practices. For this version of the game, you will only use one software quality tests. To check your comments, you must test two kinds of comments: **program comments** and **block comments**. A *program comment* is a summary of what your program does. It must be included at the start of your program. A *block comment* appears on one line above each group of statements that comprise a logical task. It must provide a short explanation of the code that follows it.\n",
    "\n",
    "1. **Comments**<br>\n",
    "<ensp>1.1. Program comments<br>\n",
    "<ensp>&nbsp;&nbsp;&nbsp;&nbsp;1.1.1. Is there one at the start of the program?<br>\n",
    "<ensp>&nbsp;&nbsp;&nbsp;&nbsp;1.1.2. Does it indicate what the program does?<br>\n",
    "<ensp>1.2 Block comment (comment on its own line)<br>\n",
    "<ensp>&nbsp;&nbsp;&nbsp;&nbsp;1.2.1 Is there one at the start of each group of statements that completes a logical task?\n",
    "    \n",
    "Finally, in *identify solution issues*, we discover parts of our solution that can be improved. For example, one improvement for hacking version 1 is instead of using multiple print function calls for each password or header, we can combine all of the texts we want to print in one single string as below:"
   ]
  },
  {
   "cell_type": "code",
   "execution_count": 59,
   "metadata": {},
   "outputs": [
    {
     "name": "stdout",
     "output_type": "stream",
     "text": [
      "DEBUG MODE\n",
      "1 ATTEMPT(S) LEFT\n",
      "\n"
     ]
    }
   ],
   "source": [
    "# Instead of using:\n",
    "print('DEBUG MODE')\n",
    "print('1 ATTEMPT(S) LEFT')\n",
    "print('')"
   ]
  },
  {
   "cell_type": "code",
   "execution_count": 60,
   "metadata": {},
   "outputs": [
    {
     "name": "stdout",
     "output_type": "stream",
     "text": [
      "DEBUG MODE\n",
      "1 ATTEMPT(S) LEFT\n",
      "\n"
     ]
    }
   ],
   "source": [
    "# We can use:\n",
    "print('DEBUG MODE\\n1 ATTEMPT(S) LEFT\\n')"
   ]
  },
  {
   "cell_type": "markdown",
   "metadata": {},
   "source": [
    "---\n",
    "\n",
    "## Quiz"
   ]
  },
  {
   "cell_type": "markdown",
   "metadata": {},
   "source": [
    "**1. Apply the built-in function bin to the literal integer 5 in a Python shell. What does the Python shell display as the human-readable form of the result object?**\n",
    "\n",
    "**Answer:** ` `"
   ]
  },
  {
   "cell_type": "code",
   "execution_count": 3,
   "metadata": {},
   "outputs": [
    {
     "data": {
      "text/plain": [
       "'0b101'"
      ]
     },
     "execution_count": 3,
     "metadata": {},
     "output_type": "execute_result"
    }
   ],
   "source": [
    "bin(5)"
   ]
  },
  {
   "cell_type": "markdown",
   "metadata": {},
   "source": [
    "**2. Look at the first two sentences of the documentation for the Python 3.x built-in binary function named `bin` \n",
    "at python.org. What do you think will happen if you enter `bin('hello')` in a Python shell and press enter?**\n",
    "\n",
    "&#9744; bin('hello') will be displayed.<br>\n",
    "&#9744; 5 will be displayed.<br>\n",
    "&#9744; '0b101' will be displayed.<br>\n",
    "&#9744; 'obhello' will be displayed.<br>\n",
    "&#9744; A type error will be reported.\n",
    "\n",
    "**3. Which of these expressions are Python literal strings?**\n",
    "\n",
    "&#9744; 'while\"<br>\n",
    "&#9744; in<br>\n",
    "&#9744; Hat<br>\n",
    "&#9744; \"Apple\"<br>\n",
    "&#9744; for<br>\n",
    "&#9744; 'Cat'<br>\n",
    "&#9744; 'The'"
   ]
  },
  {
   "cell_type": "markdown",
   "metadata": {},
   "source": [
    "**4. Here are some words that form a simple subset of English.**\n",
    "\n",
    "| Noun     | Verb  | Preposition | Article |\n",
    "| -------- | ----- | ----------- | ------- |\n",
    "| Scooby   | went  |     in      |   the   |\n",
    "| Garfield | slept |     to      |   a     |\n",
    "| Mickey   | drove |     on      |         |\n",
    "| Bugs     | ate   |             |         |\n",
    "| store    |       |             |         |\n",
    "| van      |       |             |         |\n",
    "| beach    |       |             |         |\n",
    "| chair    |       |             |         |\n",
    "\n",
    "**Here is a grammar for this simple subset of English. There is no punctuation in this language.** \n",
    "\n",
    "<img src=\"https://cdn.rawgit.com/rogergranada/MOOCs/master/Coursera/University%20of%20Alberta/Problem%20Solving%2C%20Python%20Programming%2C%20and%20Video%20Games/Week%2003/images/quiz_question_4.svg\" width=\"70%\"/>\n",
    "\n",
    "**Select the appropriate result of trying to interpret this sequence of tokens as a valid statement in this language.**\n",
    "\n",
    "$$\\text{Scooby slept in a van}$$\n",
    "\n",
    "&#9744; Lexical error<br>\n",
    "&#9744; Syntax error<br>\n",
    "&#9744; Semantic error<br>\n",
    "&#9744; Valid lexically, syntactically and semantically\n",
    "\n",
    "**5. Select the appropriate result of trying to interpret this sequence of tokens as a syntactically valid statement in this language.**\n",
    "\n",
    "$$\\text{Mickey jumped on a chair}$$\n",
    "\n",
    "&#9744; Lexical error<br>\n",
    "&#9744; Syntax error<br>\n",
    "&#9744; Semantic error<br>\n",
    "&#9744; Valid lexically, syntactically and semantically\n",
    "\n",
    "\n",
    "**6. Select the appropriate result of trying to interpret this sequence of tokens as a syntactically valid statement in this language.**\n",
    "\n",
    "$$\\text{In a van slept Garfield}$$\n",
    "\n",
    "&#9744; Lexical error<br>\n",
    "&#9744; Syntax error<br>\n",
    "&#9744; Semantic error<br>\n",
    "&#9744; Valid lexically, syntactically and semantically\n",
    "\n",
    "**7. Select the appropriate result of trying to interpret this sequence of tokens as a syntactically valid statement in this language.**\n",
    "\n",
    "$$\\text{chair slept in a beach}$$\n",
    "\n",
    "&#9744; Lexical error<br>\n",
    "&#9744; Syntax error<br>\n",
    "&#9744; Semantic error<br>\n",
    "&#9744; Valid lexically, syntactically and semantically"
   ]
  },
  {
   "cell_type": "markdown",
   "metadata": {},
   "source": [
    "---\n",
    "**Consider the following lexical rules for identifier, literal and delimiter for this quiz and a sample quiz question.**\n",
    "\n",
    "**Identifier**: starts with a letter or underscore, and is followed by zero or more letters, underscores, or digits.<br>\n",
    "**Literal string**: starts with a quote, followed by zero or more non-quote characters, and ends with a quote.<br>\n",
    "**Literal integer**: one or more digits.<br>\n",
    "**Literal float**: one dot, one or more digits and no other characters.<br>\n",
    "**Longest token rule**: when creating a token, create the longest token possible.<br>\n",
    "**Whitespace rule**: for whitespace not at the start of a line: if whitespace is inside a literal string it is part of the literal string; otherwise, it ends the current token and no token is created for it.\n",
    "\n",
    "**Lexical table for delimiter** R(number) is only the header of the table.\n",
    "\n",
    "| R1 | R2  | R3 | R4  | R5  | R6  |  \n",
    "| -- | --- | -- | --- | --- | --- | \n",
    "| (  | )   | [  | ]   | {   | }   | \n",
    "| ,  | :   | .  | ;   | @   | =   |\n",
    "| += | -=  | *= | /=  | //= | %=  |\n",
    "| &= | \\|= | ^= | >>= | <<= | **= |\n",
    "\n",
    "For each token in the character sequence below, type the token and its token kind in one answer field separated by a single space. Enter the tokens in the order that they would be created by the Python interpreter. If you encounter a character that does not match the lexical rules or tables for any of these token kinds, type that single character followed by a space and then type UNKNOWN as its token kind. Start tokenizing again after this single character.\n",
    "\n",
    "---\n",
    "\n",
    "For the next questions, consider the given statement:\n",
    "\n",
    "```\n",
    "print(2.0,3/43, 'hi')\n",
    "```\n",
    "\n",
    "where you must choose from these token kinds:\n",
    "\n",
    "*identifier, delimiter, literal string, literal integer,literal float or UNKNOWN*\n",
    "\n",
    "**8. What is the 1st token and token kind?**\n",
    "\n",
    "**Answer:** ` `\n",
    "\n",
    "**9. What is the 2nd token and its token kind?**\n",
    "\n",
    "**Answer:** ` `\n",
    "\n",
    "**10. What is the 3rd token and token kind?**\n",
    "\n",
    "**Answer:** ` `\n",
    "\n",
    "**11. What is the 4th token and its token kind?**\n",
    "\n",
    "**Answer:** ` `\n",
    "\n",
    "**12. What is the 5th token and token kind?**\n",
    "\n",
    "**Answer:** ` `\n",
    "\n",
    "**13. What is the 6th token and its token kind?**\n",
    "\n",
    "**Answer:** ` `\n",
    "\n",
    "**14. What is the 7th token and token kind?**\n",
    "\n",
    "**Answer:** ` `\n",
    "\n",
    "**15. What is the 8th token and its token kind?**\n",
    "\n",
    "**Answer:** ` `\n",
    "\n",
    "**16. What is the 9th token and token kind?**\n",
    "\n",
    "**Answer:** ` `\n",
    "\n",
    "**17. What is the 10th token and its token kind?**\n",
    "\n",
    "**Answer:** ` `"
   ]
  },
  {
   "cell_type": "markdown",
   "metadata": {},
   "source": [
    "The next problems consider the following diagrams and abbreviations.\n",
    "\n",
    "<img src=\"https://cdn.rawgit.com/rogergranada/MOOCs/master/Coursera/University%20of%20Alberta/Problem%20Solving%2C%20Python%20Programming%2C%20and%20Video%20Games/Week%2003/images/call_statements.svg\" width=\"100%\"/>\n",
    "\n",
    "If a syntax diagram is started, a left angle bracket indicates that it has started and its two letter abbreviation indicates which rule. When a syntax diagram is completed, this is indicated by its two letter abbreviation, followed by a right angle bracket. However, every syntax diagram completes at an accepting state so the @ character and the two letter abbreviation for the accepting state are appended. \n",
    "\n",
    "Consider the following example of a valid syntax:\n",
    "\n",
    "```\n",
    "print('hello')\n",
    "```\n",
    "\n",
    "This example generates the following syntax diagram, where the content after `#` is a comment.\n",
    "\n",
    "```\n",
    "<es          # trying to match print('hello')\n",
    "  <ex        # trying to match print('hello')\n",
    "    <fc      # trying to match print('hello')\n",
    "      <ex    # trying to match 'hello'\n",
    "      ex>@li # matches 'hello'\n",
    "    fc>@rp   # matches print('hello')\n",
    "  ex>@fc     # matches print('hello')\n",
    "es>@ex       # matches print('hello')\n",
    "```\n",
    "---\n",
    "\n",
    "For the next questions, consider that this Python statement has valid syntax.\n",
    "\n",
    "```\n",
    "print(print)\n",
    "```\n",
    "\n",
    "**18. What is the first syntax diagram that is started?**\n",
    "\n",
    "**Answer:** ` `\n",
    "\n",
    "**19. What is the next syntax diagram that is started or completed?**\n",
    "\n",
    "**Answer:** ` `\n",
    "\n",
    "**20. What is the next syntax diagram that is started or completed?**\n",
    "\n",
    "**Answer:** ` `\n",
    "\n",
    "**21. What is the next syntax diagram that is started or completed?**\n",
    "\n",
    "**Answer:** ` `\n",
    "\n",
    "**22. What is the next syntax diagram that is started or completed?**\n",
    "\n",
    "**Answer:** ` `\n",
    "\n",
    "**23. What is the next syntax diagram that is started or completed?**\n",
    "\n",
    "**Answer:** ` `\n",
    "\n",
    "**24. What is the next syntax diagram that is started or completed?**\n",
    "\n",
    "**Answer:** ` `\n",
    "\n",
    "**25. What is the next syntax diagram that is started or completed?**\n",
    "\n",
    "**Answer:** ` `"
   ]
  },
  {
   "cell_type": "markdown",
   "metadata": {},
   "source": [
    "---\n",
    "For the next questions, use the Python shell to determine the type of the object. The result of the type function is always displayed in the format:\n",
    "\n",
    "``` \n",
    "<class '?'>\n",
    "```\n",
    "\n",
    "where `?` is replaced by the type name of the argument object. So use whatever is in place of `?` as your answer.\n",
    "\n",
    "**26. Use the Python shell to determine the type of this object:** `45`\n",
    "\n",
    "**Answer:** ` `\n",
    "\n",
    "**27. Use the Python shell to determine the type of this object:** `'45'`\n",
    "\n",
    "**Answer:** ` `\n",
    "\n",
    "**28. Use the Python shell to determine the type of this object:** `len`\n",
    "\n",
    "**Answer:** ` `\n",
    "\n",
    "**29. Is the identity of `45` the same as the identity of `'45'`? If you don't know the answer, use the id function in a Python shell to obtain the answer.**\n",
    "\n",
    "&#9744; Yes<br>\n",
    "&#9744; No"
   ]
  },
  {
   "cell_type": "code",
   "execution_count": 21,
   "metadata": {},
   "outputs": [
    {
     "name": "stdout",
     "output_type": "stream",
     "text": [
      "26: <class 'int'>\n",
      "27: <class 'str'>\n",
      "28: <class 'builtin_function_or_method'>\n",
      "29: 11095712 139870576680608\n"
     ]
    }
   ],
   "source": [
    "# Answers\n",
    "print('26:', type(45))\n",
    "print('27:', type('45'))\n",
    "print('28:', type(len))\n",
    "print('29:', id(45), id('45'))"
   ]
  },
  {
   "cell_type": "code",
   "execution_count": 22,
   "metadata": {},
   "outputs": [
    {
     "data": {
      "text/plain": [
       "139871020141808"
      ]
     },
     "execution_count": 22,
     "metadata": {},
     "output_type": "execute_result"
    }
   ],
   "source": [
    "#&#9744;\n",
    "id(len)"
   ]
  },
  {
   "cell_type": "code",
   "execution_count": 30,
   "metadata": {},
   "outputs": [
    {
     "data": {
      "text/plain": [
       "139870576632240"
      ]
     },
     "execution_count": 30,
     "metadata": {},
     "output_type": "execute_result"
    }
   ],
   "source": [
    "id(-6)"
   ]
  },
  {
   "cell_type": "markdown",
   "metadata": {},
   "source": [
    "---\n",
    "In order to answer the next questions you should consider the following rules:\n",
    "\n",
    "1. `+`: evaluate the identifier to obtain a function object (denotes a step that uses another semantic rule)\n",
    "2. `^`: if there is an expression, evaluate it to obtain an argument object (denotes a step that may use another semantic rule)\n",
    "3. if there is an argument object, pass it into the function\n",
    "4. evaluate the function code to obtain a result object\n",
    "\n",
    "Consider `id` as *identifier* and `li` as *literal*. If the *identifier* is in the *namespace*, dereference it to get the result object, otherwise report an error. \n",
    "\n",
    "For example, perform the semantic analysis of the valid Python statement below:\n",
    "\n",
    "```\n",
    "print('hello')\n",
    "```\n",
    "\n",
    "When the interpreter starts applying a semantic rule that uses other semantic rules, type a left angle bracket and the two letter abbreviation for the rule. For example, if the function call rule is started, type `<fc`.\n",
    "\n",
    "When a previously started semantic rule is completed, type its two letter abbreviation followed by a right angle bracket. For example when the function call rule is completed, type `fc>`.\n",
    "\n",
    "When a semantic rule that does not use any other semantic rules is applied, type a left angle bracket, the two letter abbreviation for the rule and a right angle bracket. For example, if the identifier rule is applied, type `<id>`.\n",
    "\n",
    "The semantic analysis results in the expressions below, where everything after `#` represents the comment of the line.\n",
    "\n",
    "```\n",
    "<fc    # starting print('hello')\n",
    "  <id> # evaluated print\n",
    "  <li> # evaluated 'hello'\n",
    "fc>    # evaluated print('hello')\n",
    "```\n",
    "---"
   ]
  },
  {
   "cell_type": "markdown",
   "metadata": {},
   "source": [
    "The next questions use the following information:\n",
    "\n",
    "After *identifier* `name` is bound to the string object Mary, the interpreter evaluates this statement which has valid semantics:\n",
    "\n",
    "```\n",
    "len(name)\n",
    "```\n",
    "\n",
    "**30. What is the first semantic rule that is started?**\n",
    "\n",
    "**Answer:** ` `\n",
    "\n",
    "**31. What is the next semantic rule that is started, applied or completed?**\n",
    "\n",
    "**Answer:** ` `\n",
    "\n",
    "**32. What is the next semantic rule that is started, applied or completed?**\n",
    "\n",
    "**Answer:** ` `\n",
    "\n",
    "**33. What is the next semantic rule that is started, applied or completed?**\n",
    "\n",
    "**Answer:** ` `\n"
   ]
  },
  {
   "cell_type": "markdown",
   "metadata": {},
   "source": [
    "---\n",
    "For the next questions, you will be given a program and user input:\n",
    "\n",
    "If the program runs without errors, type what the program displays into the answer field. Or, if there is a syntax error, only type **syntax error** followed by a space, the word line, another space, and then the line number where the syntax error occurs. For example: `syntax error line 4`\n",
    "\n",
    "Or, if there is a **semantic error**, type what the program displays before the semantic error and then type semantic error followed by a space, the word line, another space, and then the line number where the semantic error occurs. For example: `semantic error line 4`\n",
    "\n",
    "If the program displays multiple lines, put the the vertical bar character `|` between the output lines with no extra spaces on either side of the bar. For example, if the program displays `hello` on the first line and `bye` on the second line, the correct answer would be `hello|bye` (there are no spaces on either side of the vertical bar). If the program displays `hello` on the first line and then a **semantic error** occurs on line 4, the correct answer would be `hello|semantic error line 4`.\n",
    "\n",
    "Do not include any `input` function call prompt strings or user input as part of your output. \n",
    "\n",
    "---\n",
    "\n",
    "**34. Given this Python program:**\n",
    "\n",
    "```\n",
    "input('Enter a number >')\n",
    "print('Nice number')\n",
    "```\n",
    "\n",
    "**What is the outcome if the user inputs:** `43`\n",
    "\n",
    "**Answer:** ` `\n",
    "\n",
    "**35. Given this Python program:**\n",
    "\n",
    "```\n",
    "print('hello')\n",
    "print(input('Enter a number >')\n",
    "print('goodbye')\n",
    "```\n",
    "\n",
    "**What is the outcome if the user inputs:** `7`\n",
    "\n",
    "**Answer:** ` `\n",
    "\n",
    "**36. Given this Python program:**\n",
    "\n",
    "```\n",
    "print('hello')\n",
    "print(abs(input('Enter a number >')))\n",
    "```\n",
    "\n",
    "**What is the outcome if the user inputs:** `16`\n",
    "\n",
    "**Answer:** ` `\n",
    "\n",
    "**37. Given this Python program:**\n",
    "\n",
    "```\n",
    "print(abs(int(input('Enter a number >'))))\n",
    "print(abs(-15))\n",
    "```\n",
    "\n",
    "**What is the outcome if the user inputs:** `-17`\n",
    "\n",
    "**Answer:** ` `"
   ]
  },
  {
   "cell_type": "code",
   "execution_count": 42,
   "metadata": {},
   "outputs": [
    {
     "name": "stdout",
     "output_type": "stream",
     "text": [
      "Enter a number >43\n",
      "Nice number\n"
     ]
    }
   ],
   "source": [
    "# Question 34\n",
    "input('Enter a number >')\n",
    "print('Nice number')"
   ]
  },
  {
   "cell_type": "code",
   "execution_count": 51,
   "metadata": {},
   "outputs": [
    {
     "ename": "SyntaxError",
     "evalue": "invalid syntax (<ipython-input-51-d0e5e36b8287>, line 3)",
     "output_type": "error",
     "traceback": [
      "\u001b[0;36m  File \u001b[0;32m\"<ipython-input-51-d0e5e36b8287>\"\u001b[0;36m, line \u001b[0;32m3\u001b[0m\n\u001b[0;31m    print('goodbye')\u001b[0m\n\u001b[0m        ^\u001b[0m\n\u001b[0;31mSyntaxError\u001b[0m\u001b[0;31m:\u001b[0m invalid syntax\n"
     ]
    }
   ],
   "source": [
    "# Question 35\n",
    "print('hello')\n",
    "print(input('Enter a number >')\n",
    "print('goodbye')"
   ]
  },
  {
   "cell_type": "code",
   "execution_count": 53,
   "metadata": {},
   "outputs": [
    {
     "name": "stdout",
     "output_type": "stream",
     "text": [
      "hello\n",
      "Enter a number >16\n"
     ]
    },
    {
     "ename": "TypeError",
     "evalue": "bad operand type for abs(): 'str'",
     "output_type": "error",
     "traceback": [
      "\u001b[0;31m---------------------------------------------------------------------------\u001b[0m",
      "\u001b[0;31mTypeError\u001b[0m                                 Traceback (most recent call last)",
      "\u001b[0;32m<ipython-input-53-5b7cd328b4ae>\u001b[0m in \u001b[0;36m<module>\u001b[0;34m\u001b[0m\n\u001b[1;32m      1\u001b[0m \u001b[0mprint\u001b[0m\u001b[0;34m(\u001b[0m\u001b[0;34m'hello'\u001b[0m\u001b[0;34m)\u001b[0m\u001b[0;34m\u001b[0m\u001b[0;34m\u001b[0m\u001b[0m\n\u001b[0;32m----> 2\u001b[0;31m \u001b[0mprint\u001b[0m\u001b[0;34m(\u001b[0m\u001b[0mabs\u001b[0m\u001b[0;34m(\u001b[0m\u001b[0minput\u001b[0m\u001b[0;34m(\u001b[0m\u001b[0;34m'Enter a number >'\u001b[0m\u001b[0;34m)\u001b[0m\u001b[0;34m)\u001b[0m\u001b[0;34m)\u001b[0m\u001b[0;34m\u001b[0m\u001b[0;34m\u001b[0m\u001b[0m\n\u001b[0m",
      "\u001b[0;31mTypeError\u001b[0m: bad operand type for abs(): 'str'"
     ]
    }
   ],
   "source": [
    "print('hello')\n",
    "print(abs(input('Enter a number >')))"
   ]
  },
  {
   "cell_type": "code",
   "execution_count": 52,
   "metadata": {},
   "outputs": [
    {
     "name": "stdout",
     "output_type": "stream",
     "text": [
      "Enter a number >-17\n",
      "17\n",
      "15\n"
     ]
    }
   ],
   "source": [
    "# Question 36\n",
    "print(abs(int(input('Enter a number >'))))\n",
    "print(abs(-15))"
   ]
  },
  {
   "cell_type": "markdown",
   "metadata": {},
   "source": [
    "**38. Write a program that prompts the user to enter an integer and displays that integer. The program should then prompt the user to enter the integer again and display its binary representation.**\n",
    "\n",
    "For example, here are some sample program runs:\n",
    "\n",
    "```\n",
    "Enter an integer >45\n",
    "45\n",
    "Enter it again >45\n",
    "0b101101\n",
    "```\n",
    "\n",
    "<br>\n",
    "\n",
    "```\n",
    "Enter an integer >-62\n",
    "-62\n",
    "Enter it again >-62\n",
    "-0b111110\n",
    "```\n",
    "\n",
    "You can use the built-in functions named: `input`, `int`, `bin` and `print` to help you solve this problem. Look at the documentation for the builtin-in functions at [python.org](python.org).\n",
    "\n",
    "tip:\n",
    "\n",
    "Recall that you can apply a function to the result of a function as many times as you like, for example, to print the rounded value of a floating point number that is input as a string, you can use this expression:\n",
    "\n",
    "```\n",
    "print(round(float(input('Enter a decimal number >')))\n",
    "```\n",
    "\n",
    "**input** returns a string<br>\n",
    "**float** returns a floating point number for the string<br>\n",
    "**round** returns the integer obtained by rounding the floating point number<br>\n",
    "**print** displays the integer\n",
    "\n",
    "You should enter a program that contains this one example line and experiment with it before you write the program for this quiz. Experiment by removing one or more of the function calls to see how these functions work (or generate semantic errors), depending on the types of their argument objects.\n",
    "\n",
    "When you enter your program and run it, the input for one test case will be entered automatically. When your program is tested, we will always enter valid integers. To be graded correctly, make sure your prompt string(s) matches the prompt string(s) from the question. For example, there should be a space between the word integer and the `>` sign."
   ]
  },
  {
   "cell_type": "code",
   "execution_count": 54,
   "metadata": {},
   "outputs": [
    {
     "name": "stdout",
     "output_type": "stream",
     "text": [
      "Enter an integer >45\n",
      "45\n",
      "Enter it again >45\n",
      "0b101101\n"
     ]
    }
   ],
   "source": [
    "# Enter an integer >45\n",
    "# 45\n",
    "# Enter it again >45\n",
    "# 0b101101\n",
    "print(int(input('Enter an integer >')))\n",
    "print(bin(int(input('Enter it again >'))))"
   ]
  },
  {
   "cell_type": "markdown",
   "metadata": {},
   "source": [
    "**39. Create the program Hacking Version 1 following the sequence of steps illustred below.**\n",
    "\n",
    "<img src=\"https://cdn.rawgit.com/rogergranada/MOOCs/master/Coursera/University%20of%20Alberta/Problem%20Solving%2C%20Python%20Programming%2C%20and%20Video%20Games/Week%2002/images/hacking_1.gif\" width=\"50%\"/>"
   ]
  },
  {
   "cell_type": "code",
   "execution_count": 56,
   "metadata": {},
   "outputs": [
    {
     "name": "stdout",
     "output_type": "stream",
     "text": [
      "DEBUG MODE\n",
      "1 ATTEMPT(S) LEFT\n",
      "\n",
      "PROVIDE\n",
      "SETTING\n",
      "CANTINA\n",
      "CUTTING\n",
      "HUNTERS\n",
      "SURVIVE\n",
      "HEARING\n",
      "HUNTING\n",
      "REALIZE\n",
      "NOTHING\n",
      "OVERLAP\n",
      "FINDING\n",
      "PUTTING\n",
      "\n",
      "Enter password >HUNTING\n",
      "\n",
      "LOGIN FAILURE - TERMINAL LOCKED\n",
      "\n",
      "PLEASE CONTACT AN ADMINISTRATOR\n",
      "\n",
      "PRESS ENTER TO EXIT\n"
     ]
    },
    {
     "data": {
      "text/plain": [
       "''"
      ]
     },
     "execution_count": 56,
     "metadata": {},
     "output_type": "execute_result"
    }
   ],
   "source": [
    "# Code for Hacking1.py\n",
    "\n",
    "# Hacking Version 1\n",
    "# This is a text-based password guessing game that displays a\n",
    "# list of potential computer passwords. The player is allowed\n",
    "# 1 attempt to guess the password. The game indicates that the\n",
    "# player failed to guess the password correctly.\n",
    "\n",
    "# display header\n",
    "print('DEBUG MODE')\n",
    "print('1 ATTEMPT(S) LEFT')\n",
    "print('')\n",
    "\n",
    "# display password list\n",
    "print('PROVIDE')\n",
    "print('SETTING')\n",
    "print('CANTINA')\n",
    "print('CUTTING')\n",
    "print('HUNTERS')\n",
    "print('SURVIVE')\n",
    "print('HEARING')\n",
    "print('HUNTING')\n",
    "print('REALIZE')\n",
    "print('NOTHING')\n",
    "print('OVERLAP')\n",
    "print('FINDING')\n",
    "print('PUTTING')\n",
    "print('')\n",
    "\n",
    "# prompt for guess\n",
    "input('Enter password >')\n",
    "\n",
    "# end game\n",
    "# display failure outcome\n",
    "print('LOGIN FAILURE - TERMINAL LOCKED')\n",
    "print('')\n",
    "print('PLEASE CONTACT AN ADMINISTRATOR')\n",
    "print('')\n",
    "\n",
    "# prompt for end\n",
    "input('PRESS ENTER TO EXIT')"
   ]
  },
  {
   "cell_type": "markdown",
   "metadata": {},
   "source": [
    "**40. Select all of the functional test blocks that your code passes. To pass a test block, the answer must be \"yes\" to all questions in that block.**\n",
    "\n",
    "\n",
    "&#9745; #1 Start the program\n",
    "\n",
    "- Does the game display a header?\n",
    "- Does it consist of two content lines followed by a blank line?\n",
    "- Does the first content line indicate debug mode?\n",
    "- Does the second content line indicate 1 attempt left?\n",
    "- Is it the top line of game output?\n",
    "\n",
    "&#9745; #2 Does the game display a password list?\n",
    "\n",
    "- Does it consist of 13 content lines followed by a blank line?\n",
    "- Does each content line contain one password?\n",
    "- Is it directly below the header?\n",
    "\n",
    "&#9745; #3 Does the game prompt for a guess?\n",
    "\n",
    "- Does it indicate the player should enter a password?\n",
    "- Is it directly below the password list?\n",
    "- Does the game wait for the enter key to be pressed?\n",
    "\n",
    "&#9745; #4 Enter the correct password, HUNTING, and press the enter key\n",
    "\n",
    "- Does the game display a failure outcome?\n",
    "- Does it contain three content lines separated by two blank lines?\n",
    "- Do the first and second content lines indicate failure?\n",
    "- Is the third content line a prompt to press enter for exit?\n",
    "- Is it directly below the prompt for guess?\n",
    "- Does the game wait for the enter key to be pressed?\n",
    "\n",
    "&#9745; #5 Press the enter key to end the program\n",
    "\n",
    "- Does the program end?\n",
    "\n",
    "&#9745; #6 Restart the program\n",
    "\n",
    "Enter the incorrect password, SETTING, and press the enter key\n",
    "\n",
    "- Does the game display a failure outcome?\n",
    "- Does it contain three content lines separated by two blank lines?\n",
    "- Do the first and second content lines indicate failure?\n",
    "- Is the third content line a prompt to press enter for exit?\n",
    "- Is it directly below the prompt for guess?\n",
    "- Does the game wait for the enter key to be pressed?\n",
    "\n",
    "&#9745; #7 Press the enter key to end the program\n",
    "\n",
    "- Does the program end?"
   ]
  },
  {
   "cell_type": "markdown",
   "metadata": {},
   "source": [
    "**41. Select all of the literal strings that are contained in this code segment.**\n",
    "\n",
    "```\n",
    "input(\"Hello!\")\n",
    "cat = 'fluffy'\n",
    "print(\"My cat's name is:\")\n",
    "print(my_cat)\n",
    "X = 2 + 3\n",
    "'Coffee'\n",
    "len['hello']\n",
    "id{123}\n",
    "```\n",
    "\n",
    "&#9744; input<br>\n",
    "&#9744; \"Hello!\"<br>\n",
    "&#9744; cat<br>\n",
    "&#9744; 'fluffy'<br>\n",
    "&#9744; print<br>\n",
    "&#9744; \"My cat's name is:\"<br>\n",
    "&#9744; my_cat<br>\n",
    "&#9744; X<br>\n",
    "&#9744; 2<br>\n",
    "&#9744; 3<br>\n",
    "&#9744; 'Coffee'<br>\n",
    "&#9744; len<br>\n",
    "&#9744; 'hello'<br>\n",
    "&#9744; id<br>\n",
    "&#9744; 123\n",
    "\n",
    "\n",
    "**42. Select all of the literal integers that are contained in this code segment.**\n",
    "\n",
    "```\n",
    "input(\"Hello!\")\n",
    "cat = 'fluffy'\n",
    "print(\"My cat's name is:\")\n",
    "print(my_cat)\n",
    "X = 2 + 3\n",
    "'Coffee'\n",
    "len['hello']\n",
    "id{123}\n",
    "```\n",
    "\n",
    "&#9744; input<br>\n",
    "&#9744; \"Hello!\"<br>\n",
    "&#9744; cat<br>\n",
    "&#9744; 'fluffy'<br>\n",
    "&#9744; print<br>\n",
    "&#9744; \"My cat's name is:\"<br>\n",
    "&#9744; my_cat<br>\n",
    "&#9744; X<br>\n",
    "&#9744; 2<br>\n",
    "&#9744; 3<br>\n",
    "&#9744; 'Coffee'<br>\n",
    "&#9744; len<br>\n",
    "&#9744; 'hello'<br>\n",
    "&#9744; id<br>\n",
    "&#9744; 123\n",
    "\n",
    "**43. Select all of the identifiers that are contained in this code segment.**\n",
    "\n",
    "```\n",
    "input(\"Hello!\")\n",
    "cat = 'fluffy'\n",
    "print(\"My cat's name is:\")\n",
    "print(my_cat)\n",
    "X = 2 + 3\n",
    "'Coffee'\n",
    "len['hello']\n",
    "id{123}\n",
    "```\n",
    "\n",
    "&#9744; input<br>\n",
    "&#9744; \"Hello!\"<br>\n",
    "&#9744; cat<br>\n",
    "&#9744; 'fluffy'<br>\n",
    "&#9744; print<br>\n",
    "&#9744; \"My cat's name is:\"<br>\n",
    "&#9744; my_cat<br>\n",
    "&#9744; X<br>\n",
    "&#9744; 2<br>\n",
    "&#9744; 3<br>\n",
    "&#9744; 'Coffee'<br>\n",
    "&#9744; len<br>\n",
    "&#9744; 'hello'<br>\n",
    "&#9744; id<br>\n",
    "&#9744; 123\n",
    "\n",
    "**44. Select the line numbers of each line that contains a function call in this code segment.**\n",
    "\n",
    "```\n",
    "input(\"Hello!\")\n",
    "cat = 'fluffy'\n",
    "print(\"My cat's name is:\")\n",
    "print(my_cat)\n",
    "X = 2 + 3\n",
    "'Coffee'\n",
    "len['hello']\n",
    "id{123}\n",
    "```\n",
    "\n",
    "&#9744; line 1 contains a function call<br>\n",
    "&#9744; line 2 contains a function call<br>\n",
    "&#9744; line 3 contains a function call<br>\n",
    "&#9744; line 4 contains a function call<br>\n",
    "&#9744; line 5 contains a function call<br>\n",
    "&#9744; line 6 contains a function call<br>\n",
    "&#9744; line 7 contains a function call<br>\n",
    "&#9744; line 8 contains a function call\n",
    "\n",
    "**45. Select all of the identifiers that are used as function names in a function call that appear in this code segment. Do not select an identifier that is used as a function name unless the code contains a call to a function with that name.**\n",
    "\n",
    "```\n",
    "input(\"Hello!\")\n",
    "cat = 'fluffy'\n",
    "print(\"My cat's name is:\")\n",
    "print(my_cat)\n",
    "X = 2 + 3\n",
    "'Coffee'\n",
    "len['hello']\n",
    "id{123}\n",
    "```\n",
    "\n",
    "&#9744; input<br>\n",
    "&#9744; \"Hello!\"<br>\n",
    "&#9744; cat<br>\n",
    "&#9744; 'fluffy'<br>\n",
    "&#9744; print<br>\n",
    "&#9744; \"My cat's name is:\"<br>\n",
    "&#9744; my_cat<br>\n",
    "&#9744; X<br>\n",
    "&#9744; 2<br>\n",
    "&#9744; 3<br>\n",
    "&#9744; 'Coffee'<br>\n",
    "&#9744; len<br>\n",
    "&#9744; 'hello'<br>\n",
    "&#9744; id<br>\n",
    "&#9744; 123\n",
    "\n",
    "**46. Select all of the function call arguments that are contained in this code segment.**\n",
    "\n",
    "```\n",
    "input(\"Hello!\")\n",
    "cat = 'fluffy'\n",
    "print(\"My cat's name is:\")\n",
    "print(my_cat)\n",
    "X = 2 + 3\n",
    "'Coffee'\n",
    "len['hello']\n",
    "id{123}\n",
    "```\n",
    "\n",
    "&#9744; input<br>\n",
    "&#9744; \"Hello!\"<br>\n",
    "&#9744; cat<br>\n",
    "&#9744; 'fluffy'<br>\n",
    "&#9744; print<br>\n",
    "&#9744; \"My cat's name is:\"<br>\n",
    "&#9744; my_cat<br>\n",
    "&#9744; X<br>\n",
    "&#9744; 2<br>\n",
    "&#9744; 3<br>\n",
    "&#9744; 'Coffee'<br>\n",
    "&#9744; len<br>\n",
    "&#9744; 'hello'<br>\n",
    "&#9744; id<br>\n",
    "&#9744; 123"
   ]
  },
  {
   "cell_type": "markdown",
   "metadata": {},
   "source": [
    "---\n",
    "You have used the Create Game Process Diagram to complete Hacking Version 1.\n",
    "\n",
    "<img src=\"https://cdn.rawgit.com/rogergranada/MOOCs/master/Coursera/University%20of%20Alberta/Problem%20Solving%2C%20Python%20Programming%2C%20and%20Video%20Games/Week%2002/images/create_game.svg\" width=\"80%\" align=\"center\"/>\n",
    "\n",
    "**47. Which is the correct order of tasks that have been completed so far, using this process? If a task has sub-tasks, don't list the task itself, just list its subtasks, since completing the sub-tasks means that the task itself is completed.**\n",
    "\n",
    "&#9744; create game, understand game, observe game, play game, understand version, create version test plan, create algorithm, observe game version, play game version, create version description, create version, create design, create program, reflect, write code, test code, debug code, review code, reflection activity\n",
    "\n",
    "&#9744; observe game, play game, observe game version, play game version, create version description, create version test plan, create algorithm, write code, test code, debug code, review code, reflection activity\n",
    "\n",
    "&#9744; observe game version, play game version, create version description, observe game, play game, create version test plan, create algorithm, write code, test code, debug code, review code, reflection activity\n",
    "\n",
    "&#9744; observe game version, play game version, create version description, create version test plan, create algorithm, observe game, play game, write code, test code, debug code, review code, reflection activity\n",
    "\n",
    "&#9744; create game, understand game, create version, observe game, play game, create design, create program, reflect, understand version, create version test plan, create algorithm, write code, test code, debug code, review code reflection activity, observe game version, play game version, create version description"
   ]
  },
  {
   "cell_type": "code",
   "execution_count": null,
   "metadata": {},
   "outputs": [],
   "source": []
  }
 ],
 "metadata": {
  "kernelspec": {
   "display_name": "Python 2",
   "language": "python",
   "name": "python2"
  },
  "language_info": {
   "codemirror_mode": {
    "name": "ipython",
    "version": 2
   },
   "file_extension": ".py",
   "mimetype": "text/x-python",
   "name": "python",
   "nbconvert_exporter": "python",
   "pygments_lexer": "ipython2",
   "version": "2.7.12"
  }
 },
 "nbformat": 4,
 "nbformat_minor": 2
}
