{
 "cells": [
  {
   "cell_type": "markdown",
   "metadata": {},
   "source": [
    "# Introduction: Test Cases\n",
    "\n",
    "A **test case** expresses requirements for a program in a way that can be checked automatically. It expresses what some objects value should be at a specific spot in the program execution. There are several reasons why it's a good habit to write test cases. \n",
    "- First, writing down test cases forces us to be more concrete about what the program should do. It's hard to correctly implement a program if you're not completely clear about what that program ought to be doing. \n",
    "- Second, test cases can give you feedback as you're writing the code. Actually, you've already experienced that with the autograders that gave you feedback in some of the active code windows. \n",
    "- Third, writing test cases is a good preview of the unit testing practice that is used on pretty much all larger software projects. When there's a lot of code and many contributors, the project really needs to know when my code is breaking some other function that was calling it. \n",
    "\n",
    "So, big projects will have tens of thousands of unit tests, and they all get run every time someone tries to contribute any change to any of the code. We have previously suggested that it's a good idea to first write down comments about what your code is supposed to do before actually writing the code. You can think of writing test cases as basically an extension of that advice. Instead of just writing a human-readable comment, you write a computer executable test case. For example, before writing the code to implement a function, you'd write a few test cases that check whether the function returns the right kind of object, whether it's returning the correct values when invoked on particular inputs. "
   ]
  },
  {
   "cell_type": "markdown",
   "metadata": {},
   "source": [
    "## The `test.testEqual()` Function\n",
    "\n",
    "We've created a special module that you can import called `test`. It's not available outside this Runestone textbook environment. In a full Python environment, you'd use a more sophisticated module, probably one called `unittest`. But this one is a little easier to use and understand. We're just going to use one function and it's called `testEqual()`. It takes two values as input, if they're equal the test passes and if they're not equal the test fails. \n",
    "\n",
    "So, let's take a look here, we're importing the test module and here we're invoking the test equal function from inside the test module. It takes two inputs, in this case, the first input is an invocation of the square function and the second input is just the number, 100. When we run it, it's going to tell us that the test passes. It passes because square of 10 is 100 and 100 equals a 100. If I were to change one of these values, then the test would fail. So, the way that we usually do this is that we make the first value we pass in something that we're checking on and the second value is what it ought to equal. \n",
    "\n",
    "Now, one thing that's important to understand about this test equal is that it's **not creating errors**. If it fails the test, the code execution will continue on. For example, I can have something else on the next line, just another print statement, when the test fails that doesn't mean that the execution will stop. So, it said that the test failed, but it still went on to execute line eight and print out the value four. "
   ]
  },
  {
   "cell_type": "markdown",
   "metadata": {},
   "source": [
    "## Return Value Tests\n",
    "\n",
    "We've already seen how to implement a test for a function. You just invoke `test.testEqual()` where their first input is an invocation of the function and the second input is the correct value, the correct output for the function. Now, we're going to consider what tests are good to implement. It's useful to distinguish between two kinds of things that a function might accomplish. One is that it might **return a value**, and the other thing is that it might **have a side effect**. By a side effect, I mean that it might change the contents of a list or change the contents of the dictionary or might also write to a file or produce some output in the output window, but we're not going to use `test.testEqual()` for checking on writing to a file or the output window, but we will use `test.testEqual()` to see if a list has been modified or a dictionary has been modified.\n",
    "\n",
    "So, I'll call the two different kinds of tests, a **return value test** or a **side effect test** depending on what it is that the function was supposed to be doing. Let's first consider return value test. So, consider a function like square, where its whole job is just to compute a new value. It gets an input, it produces an output, it's not changing the contents of any list or dictionary. So, which inputs should we give it as tests? One way to think about that is to think about the equivalence classes of inputs, because we're not going to be able to test every single possible input. So, maybe we should for something that's computing squares or some arithmetic thing, maybe one equivalence class of inputs are *positive numbers*. We ought to have an input as a positive number or an input which would be negative number. Maybe if we somehow implemented this wrong, it would work for the positive numbers, but not work for the negative numbers. So, it would be a good idea to have a test of some negative value. That if we square minus four we should get positive 16, not negative 16. It's also a good idea to think of, what other classes of inputs could we get? Maybe we could get a floating point number. Maybe it only works on integers for some reason. You also should think about sort of the boundaries between these equivalence classes. For example, what happens if we do zero? So, it's a good idea to have a test for these boundary conditions, these edge or extreme cases. It's also helpful to think about what might go wrong. \n",
    "\n",
    "It's also worth thinking about return value test for functions that have optional parameters. If a function takes an optional parameter, one of the edge cases to test for is when no parameter value is supplied during execution. So, let's consider the built-in `sorted` function. You remember that it has an optional parameter `reversed`. So, I can call sorted of `[1, 7, 4]` and not specify any value for the reverse parameter, it's optional. If I don't specify the reverse parameter at all, I should get the results not reversed. I should get `[1, 4, 7]`. If I call it with reverse equals true, then I should get the values in the opposite order `[7, 4, 1]`. Just to be complete, I might want to have one more test here, which is, what happens if I call sorted the array, but I say reverse equals false. I should get the same value that I would get if I left out that parameter entirely and just got the default value because the default value is false. \n",
    "\n",
    "In summary, you'll use a return value test when the purpose of a function is to compute an output from its inputs. You should make one test case for each of the equivalence classes of inputs and don't forget the edge or extreme cases. When you're dealing with a function that has optional parameters, some of those edge or extreme cases should include: omitting or including the optional parameters. Now, the order of creating test cases is that you're going to create several of them. When you've correctly implemented the function that you're testing, you will pass all of the tests, but you want to have what's called good coverage of those tests. They need to cover all the ways in which you might make a mistake in implementing the function. So, if there was some error in the implementation of the function, then one of your tests ought to fail. But if the function is correctly implemented, it should pass all of the test. The order of this is to pick a good set of tests, so that you'll fail if the function is not implemented correctly, but you'll pass them all when the function is implemented correctly."
   ]
  },
  {
   "cell_type": "markdown",
   "metadata": {},
   "source": [
    "## Side Effect Tests\n",
    "\n",
    "Below, we have a function that is supposed to have a **side effect** on one of its inputs. The function is called, `update_counts()`, and it takes a string of letters, and it takes a dictionary as input. It's going to do some stuff. It isn't returning any value, so it's going to return `None`. However, it's going to have a side effect, *i.e.*, `counts_d` is going to be changed. It's going to be mutated somewhere in here. \n",
    "\n",
    "If we want to check whether `update_counts()` is working correctly, we need a side effect test. To do a side effect test, you're going to set up some known initial value for an object. You're going to run the function, and then you're going to see if that object is updated correctly. In our case we're going to create a dictionary, it's got two keys `a`, and `b`. We're going to call `update_counts()`, and then we're going to check two different tests, to make sure that the counts dictionary has been updated correctly. \n",
    "\n",
    "Now, what is `update_counts()` supposed to do? Well, it's supposed to count all of the letters that appear in whatever string is passed into it like, `aaab`. In this case, we're passing in a string that has, three `a`'s and one `b`, and we're supposed to add if there are three more `a`'s, then this a should become `6`, and there's one more `b`, so the b should become `3`. That's what you see is the test. "
   ]
  },
  {
   "cell_type": "code",
   "execution_count": 9,
   "metadata": {},
   "outputs": [
    {
     "name": "stdout",
     "output_type": "stream",
     "text": [
      "Test Failed: expected 6 but got 2\n",
      "Test Failed: expected 3 but got 2\n"
     ]
    }
   ],
   "source": [
    "import test_file as test\n",
    "\n",
    "def update_counts(letters, counts_d):\n",
    "    for c in letters:\n",
    "        counts_d[c] = 1\n",
    "        if c in counts_d:\n",
    "            counts_d[c] = counts_d[c] + 1\n",
    "\n",
    "\n",
    "counts = {'a': 3, 'b': 2}\n",
    "update_counts('aaab', counts)\n",
    "test.testEqual(counts['a'], 6)\n",
    "test.testEqual(counts['b'], 3)"
   ]
  },
  {
   "cell_type": "markdown",
   "metadata": {},
   "source": [
    "We check at the end, this key `a` equal to `6`, and this key `b` equal to `3`. Let's check whether the test is actually working. Turns out is not working. There are errors in there. Before working on that, let's think about other tests that we might want to have besides just the single test that we have here, where we have the original `counts` dictionary, and then we call `update_counts`. What other initial dictionary might we want to try to pass into `update_counts`, and what other strings might we want to pass in? I have a couple of ways for you to think about how to decide which test to run for a side-effect tests like this. \n",
    "\n",
    "The first is just to think about edge cases. What if we were to start with an initial `counts` dictionary that was empty and we call update_counts, and then we check something about what it should equal at the end. "
   ]
  },
  {
   "cell_type": "code",
   "execution_count": 10,
   "metadata": {},
   "outputs": [
    {
     "name": "stdout",
     "output_type": "stream",
     "text": [
      "Test Failed: expected 3 but got 2\n",
      "Test Failed: expected 1 but got 2\n"
     ]
    }
   ],
   "source": [
    "counts = {}\n",
    "update_counts('aaab', counts)\n",
    "test.testEqual(counts['a'], 3)\n",
    "test.testEqual(counts['b'], 1)"
   ]
  },
  {
   "cell_type": "markdown",
   "metadata": {},
   "source": [
    "Another edge case would be passing in an empty string. Maybe we have the same `counts` dictionary that we had up here. Now we're going to pass in to the update_counts function an empty string. Then we would want to do tests to make sure that the counts haven't changed."
   ]
  },
  {
   "cell_type": "code",
   "execution_count": 11,
   "metadata": {},
   "outputs": [
    {
     "name": "stdout",
     "output_type": "stream",
     "text": [
      "Pass\n",
      "Pass\n"
     ]
    }
   ],
   "source": [
    "counts = {'a': 3, 'b': 2}\n",
    "update_counts('', counts)\n",
    "test.testEqual(counts['a'], 3)\n",
    "test.testEqual(counts['b'], 2)"
   ]
  },
  {
   "cell_type": "markdown",
   "metadata": {},
   "source": [
    "Some other possibilities you can imagine, maybe we can call `update_counts`, and we pass in a dictionary that has the same name as it does inside. Then we would have some tests to make sure that `counts_d` has been updated appropriately. We could pass in a character string that includes letters that are not in the dictionary as we did already up here. "
   ]
  },
  {
   "cell_type": "code",
   "execution_count": 12,
   "metadata": {},
   "outputs": [
    {
     "name": "stdout",
     "output_type": "stream",
     "text": [
      "Test Failed: expected 3 but got 2\n",
      "Test Failed: expected 1 but got 2\n",
      "Pass\n"
     ]
    }
   ],
   "source": [
    "counts_d = {'c': 1}\n",
    "update_counts('aaab', counts_d)\n",
    "test.testEqual(counts_d['a'], 3)\n",
    "test.testEqual(counts_d['b'], 1)\n",
    "test.testEqual(counts_d['c'], 1)"
   ]
  },
  {
   "cell_type": "markdown",
   "metadata": {},
   "source": [
    "That's one way to think about it. It's just sort of ask yourself what are weird edge cases? Another way to think about it is to look at what will be in your code for `update_counts` and think about exercising all the paths through that code. We're going to have a conditional.\n",
    "If `c` is in the counts dictionary, that's checking, is this character `c` new? So, we ought to have two tests, one for the possibility that a letter is in the dictionary already and another, where the letter is not in the dictionary. Or we could include both in the same test; a string that has the letter `g` in it, as well as, `a`'s and `b`'s. The other thing is in our `update_counts` there's going to be some iteration where we're going to go through all of the letters. Until we're going to have some for-loop. Edge case, for iteration, is when you iterate through something that's empty. That's why it's a good idea to have some `update_counts` where we pass in an empty string. That's going to exercise a path through this for loop where we just skip everything inside the for loop. \n",
    "\n",
    "If I run the `update_counts` we're going to find most of our tests have failed, one of them passed. If we pass in a `counts` dictionary that's initially `a` has three and `b` has two, and we `update_counts` with an empty string, we're still good, counts to `b`, is still two. It didn't get mistaken the updated. But we failed most of our other tests. \n",
    "\n",
    "Let's see what we would have to do, to correct the code here. Let's take a look at our first test. We're passing the dictionary in the second parameter, the first parameter, is the string `aaab`. Then we're expecting that a should be six, but it's actually two. It starts with a value of three and it ends with a two. You can look in the code and you can see what's going wrong here. Is that when we first encountered the letter `a`, so now the variable `c` is down to the letter `a`, we're setting the key a in the dictionary to have the value one. We used to have three, but now it's getting set to one. Sees in the counts dictionary, and then it's getting incremented to two. Each time we encounter an a, we keep resetting its count to be one. My problem is that I'm always setting `counts_d[c]` to equal one. I really should only do that in those cases where it's not already in the dictionary. This ought to be inside an else clause.\n"
   ]
  },
  {
   "cell_type": "code",
   "execution_count": 13,
   "metadata": {},
   "outputs": [
    {
     "name": "stdout",
     "output_type": "stream",
     "text": [
      "Pass\n",
      "Pass\n",
      "Pass\n",
      "Pass\n",
      "Pass\n",
      "Pass\n",
      "Pass\n",
      "Pass\n",
      "Pass\n"
     ]
    }
   ],
   "source": [
    "def update_counts(letters, counts_d):\n",
    "    for c in letters:\n",
    "        if c in counts_d:\n",
    "            counts_d[c] = counts_d[c] + 1\n",
    "        else:\n",
    "            counts_d[c] = 1\n",
    "\n",
    "\n",
    "counts = {'a': 3, 'b': 2}\n",
    "update_counts('aaab', counts)\n",
    "test.testEqual(counts['a'], 6)\n",
    "test.testEqual(counts['b'], 3)\n",
    "\n",
    "counts = {}\n",
    "update_counts('aaab', counts)\n",
    "test.testEqual(counts['a'], 3)\n",
    "test.testEqual(counts['b'], 1)\n",
    "\n",
    "counts = {'a': 3, 'b': 2}\n",
    "update_counts('', counts)\n",
    "test.testEqual(counts['a'], 3)\n",
    "test.testEqual(counts['b'], 2)\n",
    "\n",
    "counts_d = {'c': 1}\n",
    "update_counts('aaab', counts_d)\n",
    "test.testEqual(counts_d['a'], 3)\n",
    "test.testEqual(counts_d['b'], 1)\n",
    "test.testEqual(counts_d['c'], 1)"
   ]
  },
  {
   "cell_type": "markdown",
   "metadata": {},
   "source": [
    "It should be conditionally executed. Now I think we're going to pass the other tests. In fact, that's sufficient to make it past all of the tests. So, that side effect tests for you. You create a side effect test, whenever the function is supposed to make changes to a mutable object. You set up an initial value for a variable like I did, then you run the function like I did, and then you see if the object that the variables bound to has been updated correctly."
   ]
  },
  {
   "cell_type": "markdown",
   "metadata": {},
   "source": [
    "## Program Development with Test Cases\n",
    "\n",
    "Writing test cases goes hand in hand with the incremental bit at a time development process that we've encouraged you to do. Let's work through an example. We're trying to define a distance function, and we have a skeleton of it. It takes as inputs two points, an `x1`, `y1` coordinate and an `x2`, `y2` coordinate. So, you can think of this like we have a grid and we have the origin at point (0, 0). Let's say we might have a point at (1, 2), and we might have another one at (1, 1). Let's imagine we've got one at (4, 6). We want to be able to say how far apart are they. So, like between (1, 2) and (1, 1), there's a `y` distance of one. The `x` distance is zero. They have the same `x` value and the total distance between them as one. We wanted to figure out the distance between (1, 2) and (4, 6), we would figure out that the `x` distance is three and the `y` distance is four. Then if we remember our Pythagorean theorem formula, which I conveniently have for you:\n",
    "\n",
    "$$\n",
    "d = \\sqrt{(x_1 - x_2)^2 + (y_1 - y_2)^2}\n",
    "$$\n",
    "\n",
    "Now, initially, we've got a distance function that is not implemented. It takes an `x1` and a `y1`, and `x2` and a `y2`. It just returns none. I have a single test already defined. Because if we take the distance between any point and itself from (1, 2) to (1, 2), or from any point to itself, the distance ought to be zero. So, I can even start by running it. See how my first test does, and it tells me that I failed. "
   ]
  },
  {
   "cell_type": "code",
   "execution_count": 14,
   "metadata": {},
   "outputs": [
    {
     "name": "stdout",
     "output_type": "stream",
     "text": [
      "Test Failed: expected 0 but got None\n"
     ]
    }
   ],
   "source": [
    "def distance(x1, y1, x2, y2):\n",
    "    return None\n",
    "\n",
    "test.testEqual(distance(1,2, 1,2), 0)"
   ]
  },
  {
   "cell_type": "markdown",
   "metadata": {},
   "source": [
    "Because the distance between the point (1, 2) and itself should have been zero, but we actually got none. So, the first thing we could do is replace that none with a zero, and we could return 0.0. Now, if I run it, we pass that test. "
   ]
  },
  {
   "cell_type": "code",
   "execution_count": 15,
   "metadata": {},
   "outputs": [
    {
     "name": "stdout",
     "output_type": "stream",
     "text": [
      "Pass\n"
     ]
    }
   ],
   "source": [
    "def distance(x1, y1, x2, y2):\n",
    "    return 0.0\n",
    "\n",
    "test.testEqual(distance(1,2, 1,2), 0)"
   ]
  },
  {
   "cell_type": "markdown",
   "metadata": {},
   "source": [
    "Very well, we've passed the first test, but that's not all that the distance function should do. If I gave it two different points, the distance ought not to be zero. So, before actually implementing this distance function, I'm going to write some more tests, and the test will tell me after I've implemented the distance function whether I've implemented it correctly. So, what's a couple of other tests that I might want to have? Well, I might want to check whether the distance between (1, 2) and (4, 6), that's what I illustrated before, whether that actually gives you a distance of five. If I take the distance between (0, 0) and (1, 1), and ought to be the square root of two. That's two to the power 0.5. So, now if I run my test, I'm still going to pass the first one, but I failed the other two. I was supposed to get five and I actually got zero, and I was supposed to get the square root of two, 1.41, et cetera, and I actually got zero."
   ]
  },
  {
   "cell_type": "code",
   "execution_count": 16,
   "metadata": {},
   "outputs": [
    {
     "name": "stdout",
     "output_type": "stream",
     "text": [
      "Pass\n",
      "Test Failed: expected 5 but got 0.0\n",
      "Test Failed: expected 1.4142135623730951 but got 0.0\n"
     ]
    }
   ],
   "source": [
    "def distance(x1, y1, x2, y2):\n",
    "    return 0.0\n",
    "\n",
    "test.testEqual(distance(1,2, 1,2), 0)\n",
    "test.testEqual(distance(1,2, 4,6), 5)\n",
    "test.testEqual(distance(0,0, 1,1), 2**0.5)"
   ]
  },
  {
   "cell_type": "markdown",
   "metadata": {},
   "source": [
    "So then you could go and start to implement your distance function and as you implement it, you can check to make sure that you are passing all of these tests. So, I've now actually done the implementation. We look at the `x` distance and `y` distance. We're squaring each of them and then we're taking the square root. Hopefully this works, but we can test it by writing and now we've passed all of the tests. So, I've magically skipped ahead a little bit, but you get the idea that having these tests is a way to know whether the implementation you've done of the function is correct or not."
   ]
  },
  {
   "cell_type": "code",
   "execution_count": 17,
   "metadata": {},
   "outputs": [
    {
     "name": "stdout",
     "output_type": "stream",
     "text": [
      "Pass\n",
      "Pass\n",
      "Pass\n"
     ]
    }
   ],
   "source": [
    "def distance(x1, y1, x2, y2):\n",
    "    dx = x2 - x1\n",
    "    dy = y2 - y1\n",
    "    dsquared = dx**2 + dy**2\n",
    "    result = dsquared**0.5\n",
    "    return result\n",
    "\n",
    "test.testEqual(distance(1,2, 1,2), 0)\n",
    "test.testEqual(distance(1,2, 4,6), 5)\n",
    "test.testEqual(distance(0,0, 1,1), 2**0.5)"
   ]
  },
  {
   "cell_type": "markdown",
   "metadata": {},
   "source": [
    "## Testing Classes\n",
    "\n",
    "Testing a class definition involves creating instances, and invoking methods on those instances. Here's a little class that lets us define points on an XY plane. Instead of just treating him as two numbers or making a tuple, we're going to actually make an instance of a class. Each instance will represent one point with an attribute for its `x` position and another for its `y` position. "
   ]
  },
  {
   "cell_type": "code",
   "execution_count": 18,
   "metadata": {},
   "outputs": [],
   "source": [
    "class Point():\n",
    "    def __init__(self, initX, initY):\n",
    "        self.x = initX\n",
    "        self.y = initY\n",
    "\n",
    "    def distanceFromOrigin(self):\n",
    "        return ((self.x ** 2) + self.y **2) ** 0.5\n",
    "\n",
    "    def move(self, dx, dy):\n",
    "        self.x = self.x + dx\n",
    "        self.y = self.y + dy"
   ]
  },
  {
   "cell_type": "markdown",
   "metadata": {},
   "source": [
    "To test our definition of this class, we're really going to have to test the three methods that we have. We have a constructor, the `__init__` method. We've got the distance from origin, and we've got the move method. Let's start by doing the constructor, because that's really the heart of any class. \n",
    "\n",
    "How do we test if we've implemented correctly the constructor method? To figure that out, you got to remember the mechanics of classes, or basically we create a new point by invoking the class. When you call point, you will create a new instance of the `Point` class and then behind the scenes, the constructor will be called with three parameters: new instance itself that will be bound to the `self` parameter, the `x` coordinate and the `y` coordinate. Now, the purpose of the init method is to change the contents of `self`. Initially `self` has no attributes, but after we've finished executing the init, then `self` should have two attributes. It should have an `x` attribute and a `y` attribute, and they should be bound to the corresponding values three and four that have been passed in. So, to test the class constructor, we create a point and then we check whether it has its attributes correctly set. Is it `y` attribute set to four, is it `x` attribute set to three."
   ]
  },
  {
   "cell_type": "code",
   "execution_count": 20,
   "metadata": {},
   "outputs": [
    {
     "name": "stdout",
     "output_type": "stream",
     "text": [
      "Pass\n",
      "Pass\n"
     ]
    }
   ],
   "source": [
    "import test_file as test\n",
    "\n",
    "# testing the constructor (__init__ method)\n",
    "p = Point(3, 4)\n",
    "test.testEqual(p.y, 4)\n",
    "test.testEqual(p.x, 3)"
   ]
  },
  {
   "cell_type": "markdown",
   "metadata": {},
   "source": [
    "Now usually, when we're doing a side-effect test, we would have to create an object like a list or a dictionary, and then invoke a function, and then see if the list or the dictionary has appropriately changed. In this case, we didn't have to do that, because the invocation of the point class, both creates the instance and invokes the method. So, those two are combined into one step. But then afterwards, we run our tests to see whether it came out right. \n",
    "\n",
    "Now, the next method that I'm going to show you test for is the distance from origin method. You can see that that distance from origin method, what it's supposed to do is tell you how far away the point is from the origin. In this case, it's a distance of five. If we pick some other point like (2, 2), you would have a different distance. But the (3, 4) point should have a distance away of two. So, in order to do a test, this is a method that just returns a value. It doesn't change the contents of the point. So, we should be doing a return value test. So, testing the distance from origin method. This is a return value test. I still need to create a point in the first place. I could have actually just use the `p` that I defined earlier, but when I'm defining a test, I'd like to have everything that's involved in the test right there. So, I'm recreating a new point `p`, that's at position (3, 4). Then I'm checking is at a distance five away from the origin. "
   ]
  },
  {
   "cell_type": "code",
   "execution_count": 21,
   "metadata": {},
   "outputs": [
    {
     "name": "stdout",
     "output_type": "stream",
     "text": [
      "Pass\n"
     ]
    }
   ],
   "source": [
    "# testing the distance method\n",
    "p = Point(3, 4)\n",
    "test.testEqual(p.distanceFromOrigin(), 5.0)"
   ]
  },
  {
   "cell_type": "markdown",
   "metadata": {},
   "source": [
    "I should have some other tests as well. I should make some different points that are at different distances. I could check whether a point at two, zero is a distance two away from the origin. Finally, I've got this move method. Now this move method, what it's doing is taking a point, like this three, four point, and it's going to translate it. It's going to make it move some distance. So, we'll pass in to the move method, a distance to move in the `x` direction, and a distance to move in the `y` direction. So in order to test that, that is a method whose purpose is to have a side effect. It's supposed to change the point. Therefore, I need to have a side effect test. So, I'm going to create tests here that again I create my initial point and then I move it. So, I'm moving it minus two in the `x` plane and by up three in the `y`. So, I'm going to go minus two from three over to one, and plus three in the `y`. So, I should end up at (1, 7). So, in my tests I'm checking. So first, I create the point that I move it, and then I see if it's correctly been moved. If my move method is correctly implemented, the `x` value should be one and the `y` value should be seven. So in this case, we'll run our tests and we'll find out whether it's all correctly implemented. It is correctly implemented. "
   ]
  },
  {
   "cell_type": "code",
   "execution_count": 22,
   "metadata": {},
   "outputs": [
    {
     "name": "stdout",
     "output_type": "stream",
     "text": [
      "Pass\n",
      "Pass\n"
     ]
    }
   ],
   "source": [
    "# testing the move method\n",
    "p = Point(3, 4)\n",
    "p.move(-2, 3)\n",
    "test.testEqual(p.x, 1)\n",
    "test.testEqual(p.y, 7)"
   ]
  },
  {
   "cell_type": "markdown",
   "metadata": {},
   "source": [
    "If I had made some change or some of these methods weren't defined yet, then I would fail some of the tests. The purpose again of having these tests, is to check whether the implementation of the methods is correct. If the methods have been implemented correctly, you should pass all the tests. If they haven't been implemented correctly, then one or more of the test will fail. So, that's the skeleton of how to test a class definition. Basically, you need to assess for each method, whether it's purpose is to return a value or have a side effect. Testing the class constructor is special, because each test will invoke the class with some parameters, and then check whether the returned instance as its instance variables set correctly. For the other methods, you will also have to create an instance, but then you invoke them and either check whether the return value is correct or check whether the instance has had its variable to change appropriately."
   ]
  }
 ],
 "metadata": {
  "kernelspec": {
   "display_name": "Python 3",
   "language": "python",
   "name": "python3"
  },
  "language_info": {
   "codemirror_mode": {
    "name": "ipython",
    "version": 3
   },
   "file_extension": ".py",
   "mimetype": "text/x-python",
   "name": "python",
   "nbconvert_exporter": "python",
   "pygments_lexer": "ipython3",
   "version": "3.6.10"
  }
 },
 "nbformat": 4,
 "nbformat_minor": 4
}
