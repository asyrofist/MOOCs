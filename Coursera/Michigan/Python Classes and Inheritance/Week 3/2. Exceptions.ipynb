{
 "cells": [
  {
   "cell_type": "markdown",
   "metadata": {},
   "source": [
    "# Exceptions\n",
    "\n",
    "## Exception Handling Flow-of-control\n",
    "\n",
    "Remember that there are three main kinds of errors that we can get when writing Python code. \n",
    "- **Syntactic errors:** that's when Python doesn't understand how to read the instructions in your program. So, for example, if I forget a bracket or a parenthesis and I tried to run my program, then I get a syntax error saying that Python didn't understand the instructions that I gave it. \n",
    "- **Runtime errors:**: that occurs when Python understood the instructions that I gave it, but something went wrong when Python tried to run those instructions. So, for example, if I run a code to access the index greater than the size of the array, I get a runtime error or more specifically an index error because even though Python understands that I'm creating a list and assigning that list to items and then I'm assigning third to be the third item in items, because item only has two items. When I tried to fetch index two, then I get an index error which is the kind of runtime error. So, in other words, Python understood what I wanted to do, but something went wrong as Python was trying to execute my code.\n",
    "- **Semantic errors:** this is when Python successfully ran the code, it just wasn't exactly what I wanted it to do. So, for example, if I wrote a function to add two numbers and that function actually divided two numbers, Python isn't going to give me an error but I'm also not going to be happy when my code divides the numbers that I wanted to add. \n",
    "\n",
    "So, when we have a **syntactic error**, Python doesn't run our code at all. When we have a **runtime error**, Python runs our code until it encounters the runtime error. Then we have a **semantic error**, Python runs our code but it just doesn't end up being what we wanted it to be. \n",
    "\n",
    "Usually when we encounter a **runtime error**, then Python is going to stop running our code as soon as we encounter the runtime error. So, for example, the code below gives us an index error. So, let's suppose that run my code, you'll notice that the line with the \"this is not going to be reached\" message doesn't print out because this expression results in a runtime error. So, again, when you get a runtime error right here, then our program just stops running and throws in this case an index error. \n"
   ]
  },
  {
   "cell_type": "code",
   "execution_count": 2,
   "metadata": {},
   "outputs": [
    {
     "ename": "IndexError",
     "evalue": "list index out of range",
     "output_type": "error",
     "traceback": [
      "\u001b[0;31m---------------------------------------------------------------------------\u001b[0m",
      "\u001b[0;31mIndexError\u001b[0m                                Traceback (most recent call last)",
      "\u001b[0;32m<ipython-input-2-c6680164e759>\u001b[0m in \u001b[0;36m<module>\u001b[0;34m\u001b[0m\n\u001b[1;32m      1\u001b[0m \u001b[0mitems\u001b[0m \u001b[0;34m=\u001b[0m \u001b[0;34m[\u001b[0m\u001b[0;34m'a'\u001b[0m\u001b[0;34m,\u001b[0m \u001b[0;34m'b'\u001b[0m\u001b[0;34m]\u001b[0m\u001b[0;34m\u001b[0m\u001b[0;34m\u001b[0m\u001b[0m\n\u001b[0;32m----> 2\u001b[0;31m \u001b[0mthird\u001b[0m \u001b[0;34m=\u001b[0m \u001b[0mitems\u001b[0m\u001b[0;34m[\u001b[0m\u001b[0;36m2\u001b[0m\u001b[0;34m]\u001b[0m\u001b[0;34m\u001b[0m\u001b[0;34m\u001b[0m\u001b[0m\n\u001b[0m\u001b[1;32m      3\u001b[0m \u001b[0mprint\u001b[0m\u001b[0;34m(\u001b[0m\u001b[0;34m'this is not going to be reached'\u001b[0m\u001b[0;34m)\u001b[0m\u001b[0;34m\u001b[0m\u001b[0;34m\u001b[0m\u001b[0m\n",
      "\u001b[0;31mIndexError\u001b[0m: list index out of range"
     ]
    }
   ],
   "source": [
    "items = ['a', 'b']\n",
    "third = items[2]\n",
    "print('this is not going to be reached')"
   ]
  },
  {
   "cell_type": "markdown",
   "metadata": {},
   "source": [
    "If I had a print statement before this line, this is going to be printed, then this would successfully execute."
   ]
  },
  {
   "cell_type": "code",
   "execution_count": 3,
   "metadata": {},
   "outputs": [
    {
     "name": "stdout",
     "output_type": "stream",
     "text": [
      "this line is printed\n"
     ]
    },
    {
     "ename": "IndexError",
     "evalue": "list index out of range",
     "output_type": "error",
     "traceback": [
      "\u001b[0;31m---------------------------------------------------------------------------\u001b[0m",
      "\u001b[0;31mIndexError\u001b[0m                                Traceback (most recent call last)",
      "\u001b[0;32m<ipython-input-3-11ec28c12d86>\u001b[0m in \u001b[0;36m<module>\u001b[0;34m\u001b[0m\n\u001b[1;32m      1\u001b[0m \u001b[0mitems\u001b[0m \u001b[0;34m=\u001b[0m \u001b[0;34m[\u001b[0m\u001b[0;34m'a'\u001b[0m\u001b[0;34m,\u001b[0m \u001b[0;34m'b'\u001b[0m\u001b[0;34m]\u001b[0m\u001b[0;34m\u001b[0m\u001b[0;34m\u001b[0m\u001b[0m\n\u001b[1;32m      2\u001b[0m \u001b[0mprint\u001b[0m\u001b[0;34m(\u001b[0m\u001b[0;34m'this line is printed'\u001b[0m\u001b[0;34m)\u001b[0m\u001b[0;34m\u001b[0m\u001b[0;34m\u001b[0m\u001b[0m\n\u001b[0;32m----> 3\u001b[0;31m \u001b[0mthird\u001b[0m \u001b[0;34m=\u001b[0m \u001b[0mitems\u001b[0m\u001b[0;34m[\u001b[0m\u001b[0;36m2\u001b[0m\u001b[0;34m]\u001b[0m\u001b[0;34m\u001b[0m\u001b[0;34m\u001b[0m\u001b[0m\n\u001b[0m\u001b[1;32m      4\u001b[0m \u001b[0mprint\u001b[0m\u001b[0;34m(\u001b[0m\u001b[0;34m'this is not going to be reached'\u001b[0m\u001b[0;34m)\u001b[0m\u001b[0;34m\u001b[0m\u001b[0;34m\u001b[0m\u001b[0m\n",
      "\u001b[0;31mIndexError\u001b[0m: list index out of range"
     ]
    }
   ],
   "source": [
    "items = ['a', 'b']\n",
    "print('this line is printed')\n",
    "third = items[2]\n",
    "print('this is not going to be reached')"
   ]
  },
  {
   "cell_type": "markdown",
   "metadata": {},
   "source": [
    "To deal with runtime errors, we're going to learn about **Try-Except**. What Try-Except does, is it allows us to handle runtime errors and to tell Python what to do when it encounters a runtime error, so it doesn't suddenly stop running your program every time it encounters one.\n",
    "So, let's say that I wanted to run the code after assigning third. So, let's suppose that again I have a print, I want this to run statement and I want this line to print out even if I encounter a runtime error on line two. The way that I can do that is by putting that into a `Try-Except` block. So, the simplest way to write a `Try-Except` block is just by saying, `try` and then colon and then code inside of the try block, and then I can write `except`, colon, and then code that I want to run if some runtime error happens. So, let's suppose that if I get a runtime error while running the example below, let's suppose that I want to assign third to be `False`. So, I'll say:"
   ]
  },
  {
   "cell_type": "code",
   "execution_count": 4,
   "metadata": {},
   "outputs": [
    {
     "name": "stdout",
     "output_type": "stream",
     "text": [
      "I want this to run\n"
     ]
    }
   ],
   "source": [
    "items = ['a', 'b', 'c']\n",
    "\n",
    "try:\n",
    "    third = items[2]\n",
    "except:\n",
    "    third = False\n",
    "print('I want this to run')"
   ]
  },
  {
   "cell_type": "markdown",
   "metadata": {},
   "source": [
    "When I run my code, it's not going to show us a runtime error anymore, but instead I actually enabled a reach this print statement even though I get a runtime error right here. So, to see what's happening, I'm going to add a few more print statements. So, inside of this except I'm going to print `\"something went wrong\"`, and I'm going to add print `\"a\"` on `try` statement, and after assigning third I'm going to print out `\"b\"`. Okay. When I run my code, you'll notice that I have print `\"a\"`. Then when I set third equal to items two, this gives us a runtime error. As a result of this runtime error, print `\"b\"` you'll see, never executes. So, what happens is, as soon as I get a runtime error for any line in this try-block, then Python jumps right to the except block and starts running what's in the except block. So, you'll see that `\"something went wrong\"` gets executed and then here we assign `third` to be `False`, and then I want this to run, gets executed after that. "
   ]
  },
  {
   "cell_type": "code",
   "execution_count": 6,
   "metadata": {},
   "outputs": [
    {
     "name": "stdout",
     "output_type": "stream",
     "text": [
      "a\n",
      "something went wrong\n",
      "I want this to run\n"
     ]
    }
   ],
   "source": [
    "items = ['a', 'b']\n",
    "\n",
    "try:\n",
    "    print('a')\n",
    "    third = items[2]\n",
    "    print('b')\n",
    "except:\n",
    "    print('something went wrong')\n",
    "    third = False\n",
    "print('I want this to run')"
   ]
  },
  {
   "cell_type": "markdown",
   "metadata": {},
   "source": [
    "Now, let's suppose that we didn't actually have a runtime error by adding items actually to have three items. Now, if I run my code, then what happens is, I never get a runtime error when assigning third because I actually have a third item here. So, a gets printed, third gets assigned to `c`, and then `\"b\"` gets printed, and then we completely skipped the except block because nothing went wrong, and then we print out `\"I want this to run\"`. "
   ]
  },
  {
   "cell_type": "code",
   "execution_count": 7,
   "metadata": {},
   "outputs": [
    {
     "name": "stdout",
     "output_type": "stream",
     "text": [
      "a\n",
      "b\n",
      "I want this to run\n"
     ]
    }
   ],
   "source": [
    "items = ['a', 'b', 'c']\n",
    "\n",
    "try:\n",
    "    print('a')\n",
    "    third = items[2]\n",
    "    print('b')\n",
    "except:\n",
    "    print('something went wrong')\n",
    "    third = False\n",
    "print('I want this to run')"
   ]
  },
  {
   "cell_type": "markdown",
   "metadata": {},
   "source": [
    "So, in brief, what `Try-Except` does, is it says try to run the code inside of this `try` block and if something goes wrong while you're running that code rather than stopping execution of the whole program, just jump and run whatever is inside of the `except` block. If nothing goes wrong, then we just skip the `except` block entirely and run what's after the `Try-Except`."
   ]
  },
  {
   "cell_type": "markdown",
   "metadata": {},
   "source": [
    "## When to use Try/Except\n",
    "\n",
    "In some of the examples that we've gone over using `try-except`, you might have noticed that it would be possible to do that same example using `if` and `else`. So, let's suppose that we were extracting data from some dictionary `d` that we got using some Internet API. We need to handle the case where some key might be missing from `d`. So, we might write that by saying if that key is in `d`, then we extract the data properly. If that key isn't in `d`, we skip that one. Alternative way of doing that is we can say try extracting the data from `d` and then presumably, if some key isn't actually in the dictionary `d`, then we would get some run time exception. In this case, let's suppose that we get a key error and then if we get a key error, then we skip that particular item. Now, these are two ways of doing the exact same thing. One using `if` and `else`, the other using `try` and `except`. "
   ]
  },
  {
   "cell_type": "code",
   "execution_count": null,
   "metadata": {},
   "outputs": [],
   "source": [
    "if some_key in d:\n",
    "    extract_data(d)\n",
    "else:\n",
    "    skip_this_one(d)\n",
    "\n",
    "# versus\n",
    "try:\n",
    "    extract_data(d)\n",
    "except KeyError:\n",
    "    skip_this_one(d)"
   ]
  },
  {
   "cell_type": "markdown",
   "metadata": {},
   "source": [
    "When is it right to use one versus the other? The answer unfortunately really depends. So, if you have just a few kinds of errors that you're going to easily be able to anticipate, then it's probably better to use an `if` and an `else`. Because `if`/`else` is more specific to whatever kind of error you're expecting. So, in this case, I'm expecting that some key might not be in my dictionary. That's more specific than saying if I get any key error. If I can't anticipate what might not be there and I just need to handle something going wrong, so in other words, I can't anticipate what might go wrong but I know that something might go wrong, then it's better to use a `try` and `except`. \n",
    "\n",
    "In general, when using a `try-except` or deciding whether to use an `if`/`else`, it's better to be as specific as possible. So, if it's one particular key that you know is either going to be there or not there, I'd use an `if`/`else`. If I don't know what might go wrong but I know that something might go wrong, so a dictionary might be in a different format than I'm expecting, then I might use a `try-except`.\n",
    "\n",
    "There are some exceptions to that rule. So, for example, let's suppose that I need to have an `if` and then I have a whole bunch of checks. So, let's say rather than having just some key, let's say that I have 10 different keys that I might want to check if those 10 different keys are in my dictionary, then I might choose to just use a `try-except` just because it's a little more concise rather than checking on all 10 of those keys. So, really, it comes down to how much can you anticipate, how tedious is it to write out all of the conditions that you might have to handle exceptions for, and really, it comes down to more of an art rather than a science."
   ]
  },
  {
   "cell_type": "markdown",
   "metadata": {},
   "source": [
    "## Handling Different Exception Types\n",
    "\n",
    "Last time we learned that we can handle runtime errors through `try-except` box. Consider the code below for example, creates a list that has two items and then we try to get the third item which results in an index error, and as soon as we tried to get that third item which again produces an index error, then our program stops running. Thus, we never run line four which prints out this doesn't run. "
   ]
  },
  {
   "cell_type": "code",
   "execution_count": 8,
   "metadata": {},
   "outputs": [
    {
     "ename": "IndexError",
     "evalue": "list index out of range",
     "output_type": "error",
     "traceback": [
      "\u001b[0;31m---------------------------------------------------------------------------\u001b[0m",
      "\u001b[0;31mIndexError\u001b[0m                                Traceback (most recent call last)",
      "\u001b[0;32m<ipython-input-8-39bb36f00be8>\u001b[0m in \u001b[0;36m<module>\u001b[0;34m\u001b[0m\n\u001b[1;32m      1\u001b[0m \u001b[0mitems\u001b[0m \u001b[0;34m=\u001b[0m \u001b[0;34m[\u001b[0m\u001b[0;34m'a'\u001b[0m\u001b[0;34m,\u001b[0m \u001b[0;34m'b'\u001b[0m\u001b[0;34m]\u001b[0m\u001b[0;34m\u001b[0m\u001b[0;34m\u001b[0m\u001b[0m\n\u001b[1;32m      2\u001b[0m \u001b[0;34m\u001b[0m\u001b[0m\n\u001b[0;32m----> 3\u001b[0;31m \u001b[0mthird\u001b[0m \u001b[0;34m=\u001b[0m \u001b[0mitems\u001b[0m\u001b[0;34m[\u001b[0m\u001b[0;36m2\u001b[0m\u001b[0;34m]\u001b[0m\u001b[0;34m\u001b[0m\u001b[0;34m\u001b[0m\u001b[0m\n\u001b[0m\u001b[1;32m      4\u001b[0m \u001b[0mprint\u001b[0m\u001b[0;34m(\u001b[0m\u001b[0;34m\"This doesn't run\"\u001b[0m\u001b[0;34m)\u001b[0m\u001b[0;34m\u001b[0m\u001b[0;34m\u001b[0m\u001b[0m\n",
      "\u001b[0;31mIndexError\u001b[0m: list index out of range"
     ]
    }
   ],
   "source": [
    "items = ['a', 'b']\n",
    "\n",
    "third = items[2]\n",
    "print(\"This doesn't run\")"
   ]
  },
  {
   "cell_type": "markdown",
   "metadata": {},
   "source": [
    "Now, we can handle this by saying, `\"try to run this code\"`, so I'll add a `try` and then inside of my `try`-block, I have the code that I want to try running, and then if I get an exception, *i.e.*, if something goes wrong when I'm trying to run that code, then let's suppose that I assign third to be `False`. Now, I'll see that line it finally does run because I'm handling the runtime exception. So, I can print out `\"something went wrong assigning to false\"`. And you'll see that as soon as my code encounters a runtime error, then we jump to the except block. "
   ]
  },
  {
   "cell_type": "code",
   "execution_count": 10,
   "metadata": {},
   "outputs": [
    {
     "name": "stdout",
     "output_type": "stream",
     "text": [
      "something else went wrong assigning to false\n"
     ]
    }
   ],
   "source": [
    "items = ['a', 'b']\n",
    "\n",
    "try:\n",
    "    third = items[2]\n",
    "except:\n",
    "    print('something else went wrong assigning to false')\n",
    "    third = False"
   ]
  },
  {
   "cell_type": "markdown",
   "metadata": {},
   "source": [
    "Now, the way that I wrote this `try-except` block, this `except` block handles any kind of exception that might code might throw. So, for example, if I say something like `\"x equals 10 divided by zero\"`. So, normally this would give me a zero division error. But when I run my code, my code still works because as soon as I encounter line four then Python jumps to the except block. "
   ]
  },
  {
   "cell_type": "code",
   "execution_count": 12,
   "metadata": {},
   "outputs": [
    {
     "name": "stdout",
     "output_type": "stream",
     "text": [
      "something else went wrong assigning to false\n",
      "This does run!\n"
     ]
    }
   ],
   "source": [
    "items = ['a', 'b']\n",
    "\n",
    "try:\n",
    "    x = 10 / 0\n",
    "    third = items[2]\n",
    "except:\n",
    "    print('something else went wrong assigning to false')\n",
    "    third = False\n",
    "print('This does run!')"
   ]
  },
  {
   "cell_type": "markdown",
   "metadata": {},
   "source": [
    "One thing to note, if I print out `\"a\"` after assigning `x`, then this code doesn't run on print `\"a\"` because as soon as I encounter an exception by dividing ten by zero, as soon as that occurs then I jump to the except block and I skip what's in the rest of the try-block."
   ]
  },
  {
   "cell_type": "code",
   "execution_count": 13,
   "metadata": {},
   "outputs": [
    {
     "name": "stdout",
     "output_type": "stream",
     "text": [
      "something else went wrong assigning to false\n",
      "This does run!\n"
     ]
    }
   ],
   "source": [
    "items = ['a', 'b']\n",
    "\n",
    "try:\n",
    "    x = 10 / 0\n",
    "    third = items[2]\n",
    "    print('a')\n",
    "except:\n",
    "    print('something else went wrong assigning to false')\n",
    "    third = False\n",
    "print('This does run!')"
   ]
  },
  {
   "cell_type": "markdown",
   "metadata": {},
   "source": [
    "You can see the kind of exception that I would get if I put this code outside of my `try-except`. So, if I say `\"x equals 10 divided by zero\"` and run my code, then I'll see that this gives me a zero division error specifically."
   ]
  },
  {
   "cell_type": "code",
   "execution_count": 14,
   "metadata": {},
   "outputs": [
    {
     "ename": "ZeroDivisionError",
     "evalue": "division by zero",
     "output_type": "error",
     "traceback": [
      "\u001b[0;31m---------------------------------------------------------------------------\u001b[0m",
      "\u001b[0;31mZeroDivisionError\u001b[0m                         Traceback (most recent call last)",
      "\u001b[0;32m<ipython-input-14-8067be925a89>\u001b[0m in \u001b[0;36m<module>\u001b[0;34m\u001b[0m\n\u001b[1;32m      1\u001b[0m \u001b[0mitems\u001b[0m \u001b[0;34m=\u001b[0m \u001b[0;34m[\u001b[0m\u001b[0;34m'a'\u001b[0m\u001b[0;34m,\u001b[0m \u001b[0;34m'b'\u001b[0m\u001b[0;34m]\u001b[0m\u001b[0;34m\u001b[0m\u001b[0;34m\u001b[0m\u001b[0m\n\u001b[1;32m      2\u001b[0m \u001b[0;34m\u001b[0m\u001b[0m\n\u001b[0;32m----> 3\u001b[0;31m \u001b[0mx\u001b[0m \u001b[0;34m=\u001b[0m \u001b[0;36m10\u001b[0m \u001b[0;34m/\u001b[0m \u001b[0;36m0\u001b[0m\u001b[0;34m\u001b[0m\u001b[0;34m\u001b[0m\u001b[0m\n\u001b[0m\u001b[1;32m      4\u001b[0m \u001b[0;32mtry\u001b[0m\u001b[0;34m:\u001b[0m\u001b[0;34m\u001b[0m\u001b[0;34m\u001b[0m\u001b[0m\n\u001b[1;32m      5\u001b[0m     \u001b[0mthird\u001b[0m \u001b[0;34m=\u001b[0m \u001b[0mitems\u001b[0m\u001b[0;34m[\u001b[0m\u001b[0;36m2\u001b[0m\u001b[0;34m]\u001b[0m\u001b[0;34m\u001b[0m\u001b[0;34m\u001b[0m\u001b[0m\n",
      "\u001b[0;31mZeroDivisionError\u001b[0m: division by zero"
     ]
    }
   ],
   "source": [
    "items = ['a', 'b']\n",
    "\n",
    "x = 10 / 0\n",
    "try:\n",
    "    third = items[2]\n",
    "    print('a')\n",
    "except:\n",
    "    print('something else went wrong assigning to false')\n",
    "    third = False\n",
    "print('This does run!')"
   ]
  },
  {
   "cell_type": "markdown",
   "metadata": {},
   "source": [
    "The way that I wrote my `try-except` block, the `except` block is going to handle any kind of error that my `try`-block throws at it. So, this handles **zero division errors**, this handles **index out of bounds errors**, it handles any kind of runtime exception that might happen. Now, let's suppose that I wanted to be a little more specific. So, let's suppose that I wanted to do one thing if I got a **zero division error** and another thing if I got an **index error**. \n",
    "\n",
    "So, the way that I can get more specific is I can actually add a kind of exception after this statement `except`. So, the most general kind of exception that I might have is an `Exception`. An `Exception` is going to handle any kind of runtime error. So, you'll see that if I get an **index error** or a **zero division error** then I'll still execute what's in this `except` block. \n",
    "\n",
    "I can be a little bit more specific about what kind of errors that I want it to handle. So, let's suppose that I wanted to do one thing when I get a **zero division error** and another thing when I get an **index error**. The way that I can do that is I can say `except` and then I can say I want this except block to handle a **zero division error**. So, I'll say `except ZeroDivisionError`. And I'm going to print `\"you can't divide by zero\"`, and when I get an **index error**, I'll use `except IndexError` and print `\"index out of bounds\"`. \n",
    "\n",
    "Now, when I run my code I'm going to get an **index error** and you'll notice that as soon as I got this **index error** then Python jumped down to this index error `except` block and run that. "
   ]
  },
  {
   "cell_type": "code",
   "execution_count": 16,
   "metadata": {},
   "outputs": [
    {
     "name": "stdout",
     "output_type": "stream",
     "text": [
      "Index out of bounds\n",
      "This does run!\n"
     ]
    }
   ],
   "source": [
    "items = ['a', 'b']\n",
    "\n",
    "try:\n",
    "    third = items[2]\n",
    "    x = 10 / 0\n",
    "    print('a')\n",
    "except ZeroDivisionError:\n",
    "    print(\"You can't divide by zero!\")\n",
    "except IndexError:\n",
    "    print('Index out of bounds')\n",
    "\n",
    "print('This does run!')"
   ]
  },
  {
   "cell_type": "markdown",
   "metadata": {},
   "source": [
    "If I change the order of my code, so that I got a **zero division error** first and I run my code, you'll see that Python jumped to the code saying **zero division error**. "
   ]
  },
  {
   "cell_type": "code",
   "execution_count": 17,
   "metadata": {},
   "outputs": [
    {
     "name": "stdout",
     "output_type": "stream",
     "text": [
      "You can't divide by zero!\n",
      "This does run!\n"
     ]
    }
   ],
   "source": [
    "items = ['a', 'b']\n",
    "\n",
    "try:\n",
    "    x = 10 / 0\n",
    "    third = items[2]\n",
    "    print('a')\n",
    "except ZeroDivisionError:\n",
    "    print(\"You can't divide by zero!\")\n",
    "except IndexError:\n",
    "    print('Index out of bounds')\n",
    "\n",
    "print('This does run!')"
   ]
  },
  {
   "cell_type": "markdown",
   "metadata": {},
   "source": [
    "Let's suppose that I have a different kind of exception in my code. So, let's suppose that I assign the variable `myvar` to be the value of a variable that doesn't exist (*e.g.*, variable `a`). When I run my code, I'm going to get a **name error** which is a different kind of runtime error. So, I can handle that by using `except Exception` and this is going to handle any kind of error that I might have. So, if I print `\"something else went wrong\"` and run my code, you'll see that something else went wrong gets printed. "
   ]
  },
  {
   "cell_type": "code",
   "execution_count": 18,
   "metadata": {},
   "outputs": [
    {
     "name": "stdout",
     "output_type": "stream",
     "text": [
      "something else went wrong\n",
      "This does run!\n"
     ]
    }
   ],
   "source": [
    "items = ['a', 'b']\n",
    "\n",
    "try:\n",
    "    myvar = a\n",
    "    x = 10 / 0\n",
    "    third = items[2]\n",
    "    print('a')\n",
    "except ZeroDivisionError:\n",
    "    print(\"You can't divide by zero!\")\n",
    "except IndexError:\n",
    "    print('Index out of bounds')\n",
    "except Exception:\n",
    "    print('something else went wrong')\n",
    "    \n",
    "print('This does run!')"
   ]
  },
  {
   "cell_type": "markdown",
   "metadata": {},
   "source": [
    "If I wanted to specifically handle a **name error** rather than handling just the exception, I can say `except NameError` and I'm going to print `\"tried to fetch a name that did not exist\"`. Now, when I run my code you'll see that because I'm getting a name error then I jump directly down to the exception handler of **name error**."
   ]
  },
  {
   "cell_type": "code",
   "execution_count": 19,
   "metadata": {},
   "outputs": [
    {
     "name": "stdout",
     "output_type": "stream",
     "text": [
      "Tried to fetch a name that did not exist!\n",
      "This does run!\n"
     ]
    }
   ],
   "source": [
    "items = ['a', 'b']\n",
    "\n",
    "try:\n",
    "    myvar = a\n",
    "    x = 10 / 0\n",
    "    third = items[2]\n",
    "    print('a')\n",
    "except ZeroDivisionError:\n",
    "    print(\"You can't divide by zero!\")\n",
    "except IndexError:\n",
    "    print('Index out of bounds')\n",
    "except NameError:\n",
    "    print('Tried to fetch a name that did not exist!')\n",
    "except Exception:\n",
    "    print('something else went wrong')\n",
    "    \n",
    "print('This does run!')"
   ]
  },
  {
   "cell_type": "markdown",
   "metadata": {},
   "source": [
    "# Standard Exceptions\n",
    "\n",
    "| **Language Exceptions** | **Description** |\n",
    "| :---------------------- | :-------------- |\n",
    "| *StandardError*         | Base class for all built-in exceptions except *StopIteration* and *SystemExit*. |\n",
    "| *ImportError*           | Raised when an import statement fails. |\n",
    "| *SyntaxError*           | Raised when there is an error in Python syntax. |\n",
    "| *IndentationError*      | Raised when indentation is not specified properly. |\n",
    "| *NameError*             | Raised when an identifier is not found in the local or global namespace. |\n",
    "| *UnboundLocalError*     | Raised when trying to access a local variable in a function or method but no value has been assigned to it. |\n",
    "| *TypeError*             | Raised when an operation or function is attempted that is invalid for the specified data type. |\n",
    "| *LookupError*           | Base class for all lookup errors. |\n",
    "| *IndexError*            | Raised when an index is not found in a sequence. |\n",
    "| *KeyError*              | Raised when the specified key is not found in the dictionary. |\n",
    "| *ValueError*            | Raised when the built-in function for a data type has the valid type of arguments, but the arguments have invalid values specified. |\n",
    "| *RuntimeError*          | Raised when a generated error does not fall into any category. |\n",
    "| *MemoryError*           | Raised when a operation runs out of memory. |\n",
    "| *RecursionError*        | Raised when the maximum recursion depth has been exceeded. |\n",
    "| *SystemError*           | Raised when the interpreter finds an internal problem, but when this error is encountered the Python interpreter does not exit. |\n",
    "\n",
    "\n",
    "\n",
    "| **Math Exceptions**  | **Description** |\n",
    "| :------------------- | :-------------- |\n",
    "| *ArithmeticError*    | Base class for all errors that occur for numeric calculation. You know a math error occurred, but you don’t know the specific error. |\n",
    "| *OverflowError*      | Raised when a calculation exceeds maximum limit for a numeric type. |\n",
    "| *FloatingPointError* | Raised when a floating point calculation fails. |\n",
    "| *ZeroDivisonError*   | Raised when division or modulo by zero takes place for all numeric types. |\n",
    "\n",
    "\n",
    "| **I/O Exceptions**    | **Description** |\n",
    "| :-------------------- | :-------------- |\n",
    "| *FileNotFoundError*   | Raised when a file or directory is requested but doesn't exist. |\n",
    "| *IOError*             | Raised when an input/ output operation fails, such as the print statement or the open() function when trying to open a file that does not exist. Also raised for operating system-related errors. |\n",
    "| *PermissionError*     | Raised when trying to run an operation without the adequate access rights. |\n",
    "| *EOFError*            | Raised when there is no input from either the `raw_input()` or `input()` function and the end of file is reached. |\n",
    "| *KeyboardInterrupt*   | Raised when the user interrupts program execution, usually by pressing `Ctrl+C`. |\n",
    "\n",
    "\n",
    "| **Other Exceptions** | **Description** |\n",
    "| :------------------- | :-------------- |\n",
    "| *Exception*          | Base class for all exceptions. This catches most exception messages. |\n",
    "| *StopIteration*      | Raised when the `next()` method of an iterator does not point to any object. |\n",
    "| *AssertionError*     | Raised in case of failure of the Assert statement. |\n",
    "| *SystemExit*         | Raised when Python interpreter is quit by using the `sys.exit()` function. If not handled in the code, it causes the interpreter to exit. |\n",
    "| *OSError*            | Raises for operating system related errors. |\n",
    "| *EnvironmentError*   | Base class for all exceptions that occur outside the Python environment. |\n",
    "| *AttributeError*     | Raised in case of failure of an attribute reference or assignment. |\n",
    "| *NotImplementedError* | Raised when an abstract method that needs to be implemented in an inherited class is not actually implemented. |\n",
    "\n",
    "\n",
    "All exceptions are objects. The classes that define the objects are organized in a hierarchy, which is shown below. This is important because the parent class of a set of related exceptions will catch all exception messages for itself and its child exceptions. For example, an `ArithmeticError` exception will catch itself and all `FloatingPointError`, `OverflowError`, and `ZeroDivisionError` exceptions.\n",
    "\n",
    "```\n",
    "BaseException\n",
    " +-- SystemExit\n",
    " +-- KeyboardInterrupt\n",
    " +-- GeneratorExit\n",
    " +-- Exception\n",
    "      +-- StopIteration\n",
    "      +-- StopAsyncIteration\n",
    "      +-- ArithmeticError\n",
    "      |    +-- FloatingPointError\n",
    "      |    +-- OverflowError\n",
    "      |    +-- ZeroDivisionError\n",
    "      +-- AssertionError\n",
    "      +-- AttributeError\n",
    "      +-- BufferError\n",
    "      +-- EOFError\n",
    "      +-- ImportError\n",
    "      +-- LookupError\n",
    "      |    +-- IndexError\n",
    "      |    +-- KeyError\n",
    "      +-- MemoryError\n",
    "      +-- NameError\n",
    "      |    +-- UnboundLocalError\n",
    "      +-- OSError\n",
    "      |    +-- BlockingIOError\n",
    "      |    +-- ChildProcessError\n",
    "      |    +-- ConnectionError\n",
    "      |    |    +-- BrokenPipeError\n",
    "      |    |    +-- ConnectionAbortedError\n",
    "      |    |    +-- ConnectionRefusedError\n",
    "      |    |    +-- ConnectionResetError\n",
    "      |    +-- FileExistsError\n",
    "      |    +-- FileNotFoundError\n",
    "      |    +-- InterruptedError\n",
    "      |    +-- IsADirectoryError\n",
    "      |    +-- NotADirectoryError\n",
    "      |    +-- PermissionError\n",
    "      |    +-- ProcessLookupError\n",
    "      |    +-- TimeoutError\n",
    "      +-- ReferenceError\n",
    "      +-- RuntimeError\n",
    "      |    +-- NotImplementedError\n",
    "      |    +-- RecursionError\n",
    "      +-- SyntaxError\n",
    "      |    +-- IndentationError\n",
    "      |         +-- TabError\n",
    "      +-- SystemError\n",
    "      +-- TypeError\n",
    "      +-- ValueError\n",
    "      |    +-- UnicodeError\n",
    "      |         +-- UnicodeDecodeError\n",
    "      |         +-- UnicodeEncodeError\n",
    "      |         +-- UnicodeTranslateError\n",
    "      +-- Warning\n",
    "           +-- DeprecationWarning\n",
    "           +-- PendingDeprecationWarning\n",
    "           +-- RuntimeWarning\n",
    "           +-- SyntaxWarning\n",
    "           +-- UserWarning\n",
    "           +-- FutureWarning\n",
    "           +-- ImportWarning\n",
    "           +-- UnicodeWarning\n",
    "           +-- BytesWarning\n",
    "           +-- ResourceWarning\n",
    "```"
   ]
  },
  {
   "cell_type": "code",
   "execution_count": null,
   "metadata": {},
   "outputs": [],
   "source": []
  }
 ],
 "metadata": {
  "kernelspec": {
   "display_name": "Python 3",
   "language": "python",
   "name": "python3"
  },
  "language_info": {
   "codemirror_mode": {
    "name": "ipython",
    "version": 3
   },
   "file_extension": ".py",
   "mimetype": "text/x-python",
   "name": "python",
   "nbconvert_exporter": "python",
   "pygments_lexer": "ipython3",
   "version": "3.6.10"
  }
 },
 "nbformat": 4,
 "nbformat_minor": 4
}
