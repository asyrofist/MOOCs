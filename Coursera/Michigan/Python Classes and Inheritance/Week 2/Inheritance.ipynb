{
 "cells": [
  {
   "cell_type": "markdown",
   "metadata": {},
   "source": [
    "# Inheriting Variables and Methods\n",
    "\n",
    "To understand inheritance, first we do an example without it. So, I'm going to start by defining a class to represent a person. In this class every person has a name and year that they were born. Now let's suppose that I also want to have a method `getAge()` that takes this `year_born` and let's suppose that we have a current year. So I'll define `CURRENT_YEAR=2019`. So `getAge()` is going to subtract the `CURRENT_YEAR` by the year the person is born. Finally, let's suppose that we also want to override the` __str__()` method to print out the name and the age of the person."
   ]
  },
  {
   "cell_type": "code",
   "execution_count": 3,
   "metadata": {},
   "outputs": [],
   "source": [
    "CURRENT_YEAR=2019\n",
    "\n",
    "class Person():\n",
    "    def __init__(self, name, year):\n",
    "        self.name = name\n",
    "        self.year_born = year\n",
    "\n",
    "    def getAge(self):\n",
    "        return CURRENT_YEAR - self.year_born\n",
    "\n",
    "    def __str__(self):\n",
    "        return '{} ({})'.format(self.name, self.getAge())"
   ]
  },
  {
   "cell_type": "markdown",
   "metadata": {},
   "source": [
    "\n",
    "\n",
    "Okay, so now we have a class to represent a person and every person has a name and a year that they were born. So if I create a new person named `Alice Smith` that has born in `1990`. We can see that Alice Smith is the name, and 29 is the age given that the year born is 1990. "
   ]
  },
  {
   "cell_type": "code",
   "execution_count": 4,
   "metadata": {},
   "outputs": [
    {
     "name": "stdout",
     "output_type": "stream",
     "text": [
      "Alice Smith (29)\n"
     ]
    }
   ],
   "source": [
    "alice = Person('Alice Smith', 1990)\n",
    "print(alice)"
   ]
  },
  {
   "cell_type": "markdown",
   "metadata": {},
   "source": [
    "Now, suppose that I wanted to define a new class to represent a student, and what I want a student class to have is everything that a person has, plus one more thing. So I want students to have this notion of knowledge. So what I'm going to do, is I'm going to start by just copying and pasting my person class. So I can this, and then let's suppose that I want to have another instance variable, named knowledge, which I'll start out as 0. Let's suppose that I want to have this other method on a student named `study()`. Whenever a student studies, then their knowledge should go up."
   ]
  },
  {
   "cell_type": "code",
   "execution_count": 5,
   "metadata": {},
   "outputs": [],
   "source": [
    "class Student():\n",
    "    def __init__(self, name, year):\n",
    "        self.name = name\n",
    "        self.year_born = year\n",
    "        self.knowledge = 0\n",
    "\n",
    "    def getAge(self):\n",
    "        return CURRENT_YEAR - self.year_born\n",
    "\n",
    "    def study(self):\n",
    "        self.knowledge += 1\n",
    "        \n",
    "    def __str__(self):\n",
    "        return '{} ({})'.format(self.name, self.getAge())"
   ]
  },
  {
   "cell_type": "markdown",
   "metadata": {},
   "source": [
    "Now if I define Alice to be a student instead of just a person, then you can see that I still get Alice Smith, age 29. "
   ]
  },
  {
   "cell_type": "code",
   "execution_count": 6,
   "metadata": {},
   "outputs": [
    {
     "name": "stdout",
     "output_type": "stream",
     "text": [
      "Alice Smith (29)\n",
      "0\n",
      "1\n"
     ]
    }
   ],
   "source": [
    "alice = Student('Alice Smith', 1990)\n",
    "print(alice)\n",
    "print(alice.knowledge)\n",
    "alice.study()\n",
    "print(alice.knowledge)"
   ]
  },
  {
   "cell_type": "markdown",
   "metadata": {},
   "source": [
    "\n",
    "This is a fine way of defining both the person class and the stream class. However, there is a much easier in more concise way of actually doing this using something called **inheritance**. The idea of inheritance is that you can define classes that inherit from other classes. So, in other words, they take all of the instance variables, all of the methods that that other class has, and then they can add more instance variables and more methods. So, in this case, every *student* is a *person*. It's not true that necessarily every person is a student, but every student is a person. \n",
    "\n",
    "So, what I'm going to do is I'm going to say that this student class should inherit from person. So a student should have everything a person has plus more. Now, the way that I say I want a student to inherit from person is by putting parenthesis after the class declaration. And putting the class I want to inherit from inside of those parentheses. So I'll say that every student is a person. Now that I do this I can get rid of some of the repetitive parts of the student class. So, for example `getAge()`, is a little bit repetitive. I don't need it in both student and person because it is already inside of person. So I'm going to remove `getAge()` from the `Student` class. I'm going to do the same for the `__ str__()` method. Also, `self.name` and `self.year_born` is a little bit repetitive with the `Person` class. So in the constructor for the student, I'm going to say that I want to call the constructor of `Person`, passing the name and the year to the class `Person`. Now, when I do this I'm going to call this init method, or the Person constructor, on this new student. So this is going to call this method. And then this method is going to set instance variables for `name` and for `year_born` automatically. \n"
   ]
  },
  {
   "cell_type": "code",
   "execution_count": 9,
   "metadata": {},
   "outputs": [],
   "source": [
    "class Student(Person):\n",
    "    def __init__(self, name, year):\n",
    "        Person.__init__(self, name, year)\n",
    "        self.knowledge = 0\n",
    "\n",
    "    def study(self):\n",
    "        self.knowledge += 1"
   ]
  },
  {
   "cell_type": "markdown",
   "metadata": {},
   "source": [
    "Let's test this out with Alice, and be sure that our code still works. So you can see again we have our student Alice Smith born in 1990. And if I still run this code you can see that after Alice studies then Alice's knowledge is 1. The important part here is that even though Alice is a student, and even though the student class didn't directly define `__str__` or `getAge()`, I'm able to call both of these methods on alice, because alice is a Student, and Student inherits from Person, and the Person class has these methods."
   ]
  },
  {
   "cell_type": "code",
   "execution_count": 10,
   "metadata": {},
   "outputs": [
    {
     "name": "stdout",
     "output_type": "stream",
     "text": [
      "Alice Smith (29)\n",
      "0\n",
      "1\n"
     ]
    }
   ],
   "source": [
    "alice = Student('Alice Smith', 1990)\n",
    "print(alice)\n",
    "print(alice.knowledge)\n",
    "alice.study()\n",
    "print(alice.knowledge)"
   ]
  },
  {
   "cell_type": "markdown",
   "metadata": {},
   "source": [
    "## Overriding Methods\n",
    "\n",
    "We've already covered inheritance, but it's worth talking about when we actually want to inherit and how we want to inherit at times. So, in general, the way that Python uses inheritance is that let's suppose that we have a superclass, where the superclass is the class that we're inheriting from. Let's suppose that we have a subclass, which inherits from the superclass. We also have instances. Let's suppose that we have instances of the subclass. Now, whenever Python is looking for any method or instance variables, it's always first going to look inside of the instance, and it's going to ask does the instance have that thing? If it doesn't, then it's going to look inside of that instances class and it's going to ask does that instances class have that instance variable or method? If it doesn't, then it's then going to look into the superclass. In Python, that's just how superclasses work. By adding this extra layer of looking at the superclass for things that are missing in the subclass, what we do is we inherit everything that the superclass has and more. \n",
    "\n",
    "So, this gets to the question of, \"When should we actually inherit from a superclass?\" Well, you should only inherit if your subclass should have absolutely everything that the superclass has, plus more or maybe plus some small modification. So, let's go over an example of this. So, let's suppose that I want to represent books in the library, and let's suppose that we have two kinds of books. We have paper books and we have ebooks. So, the way that I would represent that in classes, is I would have one superclass for book. So, I'd say that for class book, every book is going to have a title and an author. Let's suppose that we have this `__str__` method as well, and we're going to return title by author."
   ]
  },
  {
   "cell_type": "code",
   "execution_count": 11,
   "metadata": {},
   "outputs": [],
   "source": [
    "class Book():\n",
    "    def __init__(self, title, author):\n",
    "        self.title = title\n",
    "        self.author = author\n",
    "\n",
    "    def __str__(self):\n",
    "        return '\"{}\" by {}'.format(self.title, self.author)"
   ]
  },
  {
   "cell_type": "markdown",
   "metadata": {},
   "source": [
    "Now that I have this book class, I can create a new book. Let's suppose that the title is The Odyssey by Homer. Then if I print out myBook, then I'll see that my book is The Odyssey by Homer."
   ]
  },
  {
   "cell_type": "code",
   "execution_count": 12,
   "metadata": {},
   "outputs": [
    {
     "name": "stdout",
     "output_type": "stream",
     "text": [
      "\"The Odissey\" by Homer\n"
     ]
    }
   ],
   "source": [
    "myBook = Book('The Odissey', 'Homer')\n",
    "print(myBook)"
   ]
  },
  {
   "cell_type": "markdown",
   "metadata": {},
   "source": [
    "Now let's suppose that a library can have two kinds of books. Let's suppose that it can have ebooks and paper books. So, both ebooks and paper books have everything that a book has plus more. In the case of a paper book, maybe we have a number of pages. So, I'll say class PaperBook inherits from Book. I'm going to have a constructor that takes in a title, author, and numPages. Then I'm going to call the Book constructor. Then I'm going to assign an instance variable numPages. That's a paper book. "
   ]
  },
  {
   "cell_type": "code",
   "execution_count": 18,
   "metadata": {},
   "outputs": [],
   "source": [
    "class PaperBook(Book):\n",
    "    def __init__(self, title, author, numPages):\n",
    "        Book.__init__(self, title, author)\n",
    "        self.numPages = numPages"
   ]
  },
  {
   "cell_type": "markdown",
   "metadata": {},
   "source": [
    "Now, let's suppose that an electronic book doesn't have pages, but it has a file size, like three megabytes, five megabytes. Hopefully not a gigabyte for a book, but it has some size. So, I'll say class EBook inherits from Book. So, just like a book, an e-book is going to have a title and an author. Then instead of numPages, it has size. Again, that's going to be the number of megabytes that this ebook takes up."
   ]
  },
  {
   "cell_type": "code",
   "execution_count": 19,
   "metadata": {},
   "outputs": [],
   "source": [
    "class EBook(Book):\n",
    "    def __init__(self, title, author, size):\n",
    "        Book.__init__(self, title, author)\n",
    "        self.size = size"
   ]
  },
  {
   "cell_type": "markdown",
   "metadata": {},
   "source": [
    "Now let's say that my book is an e-book with The Odyssey by Homer and let's say that it's 2 megabytes. So, if I print out my ebook, then I can see that it's still The Odyssey by Homer. If I print out my `book.size`, then I can see that it's 2 megabytes. If this is instead a paper book, so let's suppose that I also have a paper copy of this book, The Odyssey by Homer, and let's say that it has 500 pages. I can see that `myPaperBook.numPages` is 500. So, in this example, we wanted to create paper book and ebook as separate subclasses because in this case, a paper book has everything that a book has. So, in this case, a paper book has a title and an author, and so does ebook. So, ebook has everything that a book has. So, it has title and author and paper book also has this additional thing, `numPages` and e-book has this additional thing `size`."
   ]
  },
  {
   "cell_type": "code",
   "execution_count": 22,
   "metadata": {},
   "outputs": [
    {
     "name": "stdout",
     "output_type": "stream",
     "text": [
      "\"The Odissey\" by Homer\n",
      "2\n",
      "\"The Odissey\" by Homer\n",
      "500\n"
     ]
    }
   ],
   "source": [
    "ebook = EBook('The Odissey', 'Homer', 2)\n",
    "print(ebook)\n",
    "print(ebook.size)\n",
    "paperbook = PaperBook('The Odissey', 'Homer', 500)\n",
    "print(paperbook)\n",
    "print(paperbook.numPages)"
   ]
  },
  {
   "cell_type": "markdown",
   "metadata": {},
   "source": [
    "So, that's when you want to inherit. When you want to have a subclass that has everything that the superclass has, plus more. When you don't want to inherit, is when you want to contain another class within a class. So, let's go through an example. So, let's suppose that I don't want these books to exist in isolation. Let's say that I want to have a library class and libraries are going to contain books. So, what I'm going to do, is I'm going to say, that every library has some fixed number of books. I'm going to say that every library starts off with zero books. Then we can add books to our library catalog. Here, book is going to be an instance of book. So, whether it's a book, a paper book or an ebook. What we do is, we add that book to our list of books. Finally, I have a method `getNumBooks()` that is going to return the number of books that we have."
   ]
  },
  {
   "cell_type": "code",
   "execution_count": 23,
   "metadata": {},
   "outputs": [],
   "source": [
    "class Library():\n",
    "    def __init__(self):\n",
    "        self.books = []\n",
    "        \n",
    "    def addBook(self, book):\n",
    "        self.books.append(book)\n",
    "        \n",
    "    def getNumBooks(self):\n",
    "        return len(self.books)"
   ]
  },
  {
   "cell_type": "markdown",
   "metadata": {},
   "source": [
    "Let's suppose that I have the Ann Arbor District Library (AADL) and I add my previous books. Now, if I print out the number of books, then I'm going to see that my District Library has two books."
   ]
  },
  {
   "cell_type": "code",
   "execution_count": 25,
   "metadata": {},
   "outputs": [
    {
     "name": "stdout",
     "output_type": "stream",
     "text": [
      "2\n"
     ]
    }
   ],
   "source": [
    "aadl = Library()\n",
    "aadl.addBook(ebook)\n",
    "aadl.addBook(paperbook)\n",
    "print(aadl.getNumBooks())"
   ]
  },
  {
   "cell_type": "markdown",
   "metadata": {},
   "source": [
    "Okay, so the important point that I want to highlight here is that, even though there's some relationship between library and this book classes, in that a library contains a list of books, we didn't want to inherit from book or we didn't want book to inherit from library because it's not that a library has everything that a book has, it doesn't, or that a book has everything library has, it doesn't either. It's just that libraries contain books. So, rather than inheriting from books, I created a separate instance variable to actually contain this list of books that we have. So, this is an example of what's called **composition**. So, a library contains or is composed of a list of books, but rather than inheriting from the book class, then we want to have a list of books as our instance variable. "
   ]
  },
  {
   "cell_type": "markdown",
   "metadata": {},
   "source": [
    "## Invoking the Parent Class's Method\n",
    "\n",
    "Sometimes, when creating an inherited class, you want to create a method that calls the super classes method, but just does a little bit extra. Now let me explain an example. So, let's suppose that I have this `Pet` class and inside of the class I have a method `feed()`. "
   ]
  },
  {
   "cell_type": "code",
   "execution_count": 29,
   "metadata": {},
   "outputs": [],
   "source": [
    "from random import randrange\n",
    "\n",
    "class Pet():\n",
    "    boredom_decrement = 4\n",
    "    hunger_decrement = 6\n",
    "    boredom_threshold = 5\n",
    "    hunger_threshold = 10\n",
    "    sounds = ['Mrrp']\n",
    "    def __init__(self, name = \"Kitty\"):\n",
    "        self.name = name\n",
    "        self.hunger = randrange(self.hunger_threshold)\n",
    "        self.boredom = randrange(self.boredom_threshold)\n",
    "        self.sounds = self.sounds[:]  \n",
    "\n",
    "    def feed(self):\n",
    "        self.reduce_hunger()\n",
    "        \n",
    "    def reduce_hunger(self):\n",
    "        self.hunger = max(0, self.hunger - self.hunger_decrement)"
   ]
  },
  {
   "cell_type": "markdown",
   "metadata": {},
   "source": [
    "Now suppose that I wanted to create something that inherited from the `Pet` class. Let's suppose that I wanted to create a class `Dog`. So I'm just going to draw out the beginnings of that class `Dog`, and I want it to inherit from `Pet`. Now, let's suppose that whenever I fed my dog, I wanted it to both called this feed method, but then let's suppose that every dog instance also has a little extra message. So, let's suppose that a dog says \"Arf! Thanks\", whenever pet is called on that dog. So, if I did feed itself, if I just create a method `feed()` inside `Dog` and and then print out \"Arf! Thanks!\", whenever I create a new instance of dog, and then call feed on that dog, then all that happens is \"Arf! Thanks\" gets printed out. Because when I define this feed method, I am overwriting the feed method in the parent class. So, this would never get called, at least not by default, but there is a way to call it. So, the way they call the feed method for the `Pet` class in addition to printing out this little extra bit of code that I wanted to run. The way that I would do that is, I would call the parent class, and then I call the method `feed()` from the parent class."
   ]
  },
  {
   "cell_type": "code",
   "execution_count": 30,
   "metadata": {},
   "outputs": [],
   "source": [
    "class Dog(Pet):\n",
    "    sounds = ['Woof', 'Ruff']\n",
    "\n",
    "    def feed(self):\n",
    "        Pet.feed(self)\n",
    "        print(\"Arf! Thanks!\")"
   ]
  },
  {
   "cell_type": "markdown",
   "metadata": {},
   "source": [
    "So, again, the way that I'll create a feed method on a subclass, that has everything that the superclass feed method has, and more I'll call the superclass feed method by saying the name of the superclass in this case `Pet`, and then I'll say whatever method I want to call, and then I'll pass in that instance directly. So, here I have a `Dog` class, and `Dog` class inherits from `Pet`, but it has its own `feed()` method. Inside of that `feed()` method, I first call `Pet.feed()`, with whatever instance this feed method is being called on, and then I print out our \"thanks\" after the `feed()` method has been called. "
   ]
  },
  {
   "cell_type": "code",
   "execution_count": 31,
   "metadata": {},
   "outputs": [
    {
     "name": "stdout",
     "output_type": "stream",
     "text": [
      "Arf! Thanks!\n"
     ]
    }
   ],
   "source": [
    "d1 = Dog(\"Astro\")\n",
    "d1.feed()"
   ]
  },
  {
   "cell_type": "markdown",
   "metadata": {},
   "source": [
    "This also works for constructors. So, let's suppose that I have another subclass of `Pet` called `Bird`. Let's suppose that the `Bird` class has it's own constructor, but I want to call the `Pet` class constructor as well. Well, the way that I would do that, is I would call `Pet.__init__()`, and I would call it with whatever arguments I want to call. What this is going to do is it's going to call the `Pet` classes constructor, on this new instance `Bird`. So, it's going to set `name`, `hunger`, `boredom`, and `sounds`. "
   ]
  },
  {
   "cell_type": "code",
   "execution_count": null,
   "metadata": {},
   "outputs": [],
   "source": [
    "class Bird(Pet):\n",
    "    sounds = [\"chirp\"]\n",
    "    def __init__(self, name=\"Kitty\", chirp_number=2):\n",
    "        Pet.__init__(self, name)\n",
    "        self.chirp_number = chirp_number\n",
    "\n",
    "    def hi(self):\n",
    "        for i in range(self.chirp_number):\n",
    "            print(self.sounds[randrange(len(self.sounds))])\n",
    "        self.reduce_boredom()\n",
    "\n",
    "b1 = Bird('tweety', 5)\n",
    "b1.teach(\"Polly wanna cracker\")\n",
    "b1.hi()"
   ]
  },
  {
   "cell_type": "markdown",
   "metadata": {},
   "source": [
    "But, what would print out when `b1.sounds` is run? So, `b1` is an instance of `Bird`, and if I'm calling `b1.sounds`, then you'll see that's instance variable, that gets set in the `Pet` class and in the `Bird` class. By default every pet has sounds list of `['Mrrp']`. You'll see that the `Bird` class has a class variable sounds set to `['chirp']`. Thus, when I call `Pet.__init__()`, it sets `self.sounds` as a copy of `sounds`, but as `self` is an instance of `Bird`, it's going to create a copy of this list of sounds, and so `b1.sounds` ends up being `chirp`. So again, when Python is searching for `b1.sounds`, it first searches inside of the instance. This instance does it have sounds instance variable yet, and then it searches inside of that instances class, and so we find `chirp`, or a list that only contains `chirp` as the list of sounds. So, here we end up creating a copy of that."
   ]
  },
  {
   "cell_type": "code",
   "execution_count": null,
   "metadata": {},
   "outputs": [],
   "source": []
  }
 ],
 "metadata": {
  "kernelspec": {
   "display_name": "Python 3",
   "language": "python",
   "name": "python3"
  },
  "language_info": {
   "codemirror_mode": {
    "name": "ipython",
    "version": 3
   },
   "file_extension": ".py",
   "mimetype": "text/x-python",
   "name": "python",
   "nbconvert_exporter": "python",
   "pygments_lexer": "ipython3",
   "version": "3.6.10"
  }
 },
 "nbformat": 4,
 "nbformat_minor": 4
}
