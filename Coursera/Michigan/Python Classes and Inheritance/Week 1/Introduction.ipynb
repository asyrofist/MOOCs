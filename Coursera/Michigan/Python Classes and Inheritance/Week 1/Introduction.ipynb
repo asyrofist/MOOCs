{
 "cells": [
  {
   "cell_type": "markdown",
   "metadata": {},
   "source": [
    "# Introduction\n",
    "\n",
    "**Classes** are nice because they allow you to combine the methods and data that are relevant to some problem into one nice easy-to-use package. In fact, classes are so nice that some programming languages like Java, require you to use classes in order to use the language at all. Python makes classes optional, they can make your code much easier to read and write. \n",
    "\n",
    "**Class inheritance** allows you to reuse code which can make your code a lot more concise and easier to read. A **test case** is a way of specifying what a function or a class should do. If you write some test cases, and then you implement your function, if it passes the test cases, you know that the function is implemented correctly. If it doesn't pass, you know you did something wrong with the function."
   ]
  },
  {
   "cell_type": "markdown",
   "metadata": {},
   "source": [
    "# 20.1. Introduction: Classes and Objects - the Basics\n",
    "\n",
    "## 20.1.1. Object-oriented programming\n",
    "\n",
    "Python is an object-oriented programming language. That means it provides features that support object-oriented programming (OOP). **Object-oriented programming** has its roots in the 1960s, but it wasn’t until the mid 1980s that it became the main programming paradigm used in the creation of new software. It was developed as a way to handle the rapidly increasing size and complexity of software systems and to make it easier to modify these large and complex systems over time.\n",
    "\n",
    "Up to now, some of the programs we have been writing use a procedural programming paradigm. In procedural programming the focus is on writing functions or *procedures* which operate on data. In object-oriented programming the focus is on the creation of objects which contain both data and functionality together. Usually, each object definition corresponds to some object or concept in the real world and the functions that operate on that object correspond to the ways real-world objects interact."
   ]
  },
  {
   "cell_type": "markdown",
   "metadata": {},
   "source": [
    "## 20.2. Objects Revisited\n",
    "\n",
    "In Python, every value is actually an object. Whether it be a dictionary, a list, or even an integer, they are all objects. Programs manipulate those objects either by performing computation with them or by asking them to perform methods. To be more specific, we say that an object has a **state** and a collection of **methods** that it can perform. (More about methods below.) \n",
    "\n",
    "The **state of an object** represents those things that the object knows about itself. The state is stored in instance variables. For example, as we have seen with turtle objects, each turtle has a state consisting of the turtle’s position, its color, its heading and so on. Each turtle also has the ability to go forward, backward, or turn right or left. Individual turtles are different in that even though they are all turtles, they differ in the specific values of the individual state attributes (maybe they are in a different location or have a different heading)."
   ]
  },
  {
   "cell_type": "markdown",
   "metadata": {},
   "source": [
    "# User-Defined Classes\n",
    "\n",
    "Classes are a nice and convenient way to represent data because they bundle the data and associated functions or methods that we care about into one object. So let's suppose that we wanted to create Python objects to represent a point. And when I say a point what I mean is that we have $x$ and $y$, and along the scale, we might have a point. So this point, for example, might be at $x=10$, $y=2$. You might have this point, at $x=8$, $y=-3$, etc. \n",
    "\n",
    "So let's create a Python class to represent points. So the way that we create a class is we write the keyword `class`, and then we give the class a name. So I'm going to call this class `Point`. Now, what we did is we said we want to create a new class with this class keyword. Convention is that we always start class names with the capital letter, so that's why I'm calling this `Point`. Inside the class we have the body of the class. Before I fill out this class what I'm going to do is I'm going to create what are called *Instances*. \n",
    "\n",
    "A class is a kind of a factory, instances are the things that that factory produces. So in this case, the `Point` class is like a factory for creating new points. The way that I create an instance of point is I'm going to say something like `point1 = Point()`. I can say, `point2 = Point()` as well. So what I've done here is, I've created two instances, `point1` and `point2`. And now, even though this looks a lot like calling a function, because I have the name of the class, and then opening and closing parentheses. This is actually doing something slightly different than calling the function. It's instead creating an instance of this point class, where `point1` and `point2` are different instances. \n",
    "\n",
    "The first thing we can do with an instance, is we can set whats called an **Instance Variable**. An instance variable is a variable that kind of lives inside of an instance. So if I say `point1.x = 5`, and `point2.x = 10`. Then these are setting instance variables called $x$ for `point1` and `point2`. Now, if I print out `point1.x`, then I'm going to get $5$. If I print out `point2.x`, then I'm going to get $10$."
   ]
  },
  {
   "cell_type": "code",
   "execution_count": 1,
   "metadata": {},
   "outputs": [
    {
     "name": "stdout",
     "output_type": "stream",
     "text": [
      "5\n",
      "10\n"
     ]
    }
   ],
   "source": [
    "class Point():\n",
    "    pass\n",
    "\n",
    "point1 = Point()\n",
    "point2 = Point()\n",
    "\n",
    "point1.x = 5\n",
    "point2.x = 10\n",
    "\n",
    "print(point1.x)\n",
    "print(point2.x)"
   ]
  },
  {
   "cell_type": "markdown",
   "metadata": {},
   "source": [
    "I'm going to represent `point1` as an object that has its own attributes. So, `point1` has $x$ set to $5$. And, I'm going to draw point2, as an object that has $x$ set to $10$. So `point1` and `point2` have their own different values of the instance variable $x$. Now let's actually start to fill in our class point. What I'm going to do is to start by defining what's called a method. So a method is like a function except it belongs to a class. So I'm going to start by defining the method `getX`. So one difference between methods and functions, is that methods always have at least one argument, and that first argument is called `self`. So I have this method, `getX(self)`, I need to fill it in. What I'm going to return `self.x`.\n",
    "\n",
    "Now, what I'm going to do is I'm going to replace my call to print `point1.x`, to a call to print `point1.getX()`. Now, when I call `getX`, I'm going to call it with no arguments. Now, when I run my code, you can see that if I call `point1.getX()`, then I get $5$ as the return value."
   ]
  },
  {
   "cell_type": "code",
   "execution_count": 2,
   "metadata": {},
   "outputs": [
    {
     "name": "stdout",
     "output_type": "stream",
     "text": [
      "5\n"
     ]
    }
   ],
   "source": [
    "class Point():\n",
    "    def getX(self):\n",
    "        return self.x\n",
    "\n",
    "point1 = Point()\n",
    "point1.x = 5\n",
    "\n",
    "print(point1.getX())\n"
   ]
  },
  {
   "cell_type": "markdown",
   "metadata": {},
   "source": [
    "When we call this method `point1.getX()`, then one of the differences between methods and functions, remember, methods belong to a class. So whenever we call a method we have a particular actually instance that we're calling that method on. So in this case we aren't just calling `getX()`, we're saying `point1.getX()`. And so when we say `point1.getX()` what happens is that we're automatically passing in this instance `point1` as `self` when we call `getX()`. So when we say `point1.getX()`, even if we have no arguments here and what Python does is it automatically takes what's before the dot or the instance that we're calling this on and it passes it in, as the value of `self`."
   ]
  },
  {
   "cell_type": "markdown",
   "metadata": {},
   "source": [
    "## Adding Parameters to the Constructor\n",
    "\n",
    "In this piece of code, we set the instance variable for $x$ for both point one and point two. Now, even though you can do this in your pipeline code, this isn't the way that you should set instance variables. So, instead you should set instance variables in what's called a constructor.\n",
    "\n",
    "A **constructor** is a special method that's meant to initialize Python instances, including instance variables. So, the constructor is named what's called `__init__`. It's just a special method with this name. We define this method as `def __init__(self)` and just like every other method takes in `self` as its first argument. I'm going to pass in two more arguments $x$ and $y$. Now, we need to pass the values for $x$ and $y$ as soon as we create instances of point. So, here I'm going to pass in values $5$ and $10$ for `point1`, and $1$ and $2$ for `point2`. "
   ]
  },
  {
   "cell_type": "code",
   "execution_count": 3,
   "metadata": {},
   "outputs": [
    {
     "name": "stdout",
     "output_type": "stream",
     "text": [
      "5\n",
      "1\n"
     ]
    }
   ],
   "source": [
    "class Point():\n",
    "    def __init__(self, x, y):\n",
    "        self.x = x\n",
    "        self.y = y\n",
    "        \n",
    "    def getX(self):\n",
    "        return self.x\n",
    "    \n",
    "point1 = Point(5, 10)\n",
    "point2 = Point(1, 2)\n",
    "\n",
    "print(point1.getX())\n",
    "print(point2.getX())"
   ]
  },
  {
   "cell_type": "markdown",
   "metadata": {},
   "source": [
    "Rather than setting the instance variables later on, then what we're doing is we're setting the instance variables in this constructor. So, when we say `self.x` equals $x$ for `point1`, that's setting `point1.x` to be $5$ and `point1.y` to be $10$. When we do this for `point2` then we're setting `point2.x` to be $1$ and `point2.y` to be $2$."
   ]
  },
  {
   "cell_type": "markdown",
   "metadata": {},
   "source": [
    "## Adding Other Methods to a Class\n",
    "\n",
    "Let's suppose that we declared two methods inside our `Point` object. `GetX()` which returns `self.x` and `getY()` which returns `self.y`. When we declare these methods, what Python does is it has some internal representation of the class itself. As `__init__()` method, these are functions like object that lives within the class. For example, `__init__()` accepts three arguments, it accepts `self` and it accepts arguments for `x` and `y`. So, this method, the constructor `__init__()`, lives inside of the class. Then when we have `getX()`, this method also lives inside of the class. In this case it takes in one argument which is `self`. \n",
    "\n",
    "When we create a new instance of `Point`, what Python is doing, is it's asking the class to create a new instance. In every instance has a set of instance variables, in this case the instance variables are `x`, which we set to 10 and `y`, which we set to 100. When Python evaluates this statement `Point(10, 100)`, what it does is it first creates a new kind of blank instance that doesn't have any instance variables at first. The next thing that Python does is it asks, does this point class have a constructor or in other words this underscore init method? In the case of `Point` there is an `__init__` method. So, what Python does is it calls that method on this empty instance. What it's going to do is it's going to take this instance and pass it in as the value for `self` when we call the constructor. In all of this is done before we even have finished evaluating this statement. So, we take this instance in and that's the value of `self` and then in this case we're also passing in two additional arguments. We're passing in `10` for `x` and `100` for `y`. When we're passing in values for `x` and `y` these are just function arguments. When we set `self.x = x`, what that does is it sets the instance variable for this instance. So, it's setting the instance variable `x` to whatever this value `x` that we passed in it. So, in this case we passed in `10` for `x`. So, we're setting the instance variable for this instance `x` to `10`. Same thing for `y`. In this case we're setting `y to the value `100` because that was what was passed in.\n"
   ]
  },
  {
   "cell_type": "code",
   "execution_count": 4,
   "metadata": {},
   "outputs": [
    {
     "name": "stdout",
     "output_type": "stream",
     "text": [
      "10\n"
     ]
    }
   ],
   "source": [
    "class Point():\n",
    "    def __init__(self, x, y):\n",
    "        self.x = x\n",
    "        self.y = y\n",
    "        \n",
    "    def getX(self):\n",
    "        return self.x\n",
    "    \n",
    "    def getY(self):\n",
    "        return self.y\n",
    "    \n",
    "p1 = Point(10, 100)\n",
    "print(p1.getX())"
   ]
  },
  {
   "cell_type": "markdown",
   "metadata": {},
   "source": [
    "## Instance Variable Search Order\n",
    "\n",
    "The next thing that you need to understand is the search order that Python uses when searching for instance variables, class methods, and class variables. So when we say something like `print(point1.x)`, then the first thing that Python does is it asks if it is this an instance variable. So it looks at this instance `point1`. In this case, we're representing that instance with this object. It looks at this instance and asks, does this have an instance variable called `x`? In this case, it does. When it finds it in the instance, Python gives us the value of that instance variable. In this case, we're going to get 10. \n",
    "\n",
    "If we search for something that wasn't in the instance variable, so for instance, let's suppose that we say `print(point1.getX())`. Then Python first needs to evaluate, where is this method `point1.getX()`? So the first thing that it searches is `point1`. It asks, does `point1` have an instance variable called get `x`? But `point1` doesn't. So the next place that Python searches is it recognizes that `point1` is an instance variable of this class `Point`. So in the next place that Python searches is inside of the class itself. This is where Python actually finds this method `getX`. So when Python evaluates any instance variable or a class variable, it first looks inside of the instance and then it looks inside of the class. If it doesn't find it inside of the instance or inside of the class, then it's going to throw a runtime error."
   ]
  },
  {
   "cell_type": "markdown",
   "metadata": {},
   "source": [
    "## Example: Creating Instances from Data\n",
    "\n",
    "Suppose that we have some data and we want to use classes to represent that data. So, that data might come from a file, it might come from an internet source or in the case that I'm going to go through right now, it might come from something that we just hand coded. So in this case, I have a list of city names populations and state. \n",
    "\n",
    "So, I have city named Detroit with population 680,250 in state Michigan and I have an Ann Arbor population 117,070, state Michigan et cetera. So, Pittsburgh this is the population, state is PA, New York large population in New York. So, let's suppose that I have this data and let's suppose that I also zip these data together. So, zip is going to take these separate lists and create a list of tuples."
   ]
  },
  {
   "cell_type": "code",
   "execution_count": 25,
   "metadata": {},
   "outputs": [],
   "source": [
    "city_names = ['Detroit', 'Ann Arbor', 'Pittsburgh', 'New York']\n",
    "population = [680250, 117070, 430422, 1234303]\n",
    "states = ['MI', 'MI', 'PA', 'NY']\n",
    "city_tuples = list(zip(city_names, population, states))"
   ]
  },
  {
   "cell_type": "markdown",
   "metadata": {},
   "source": [
    "Suppose that I want to use classes to represent this data and I want every instance to store the city name, population and state. Then I would ask, what do I want every class to you represent? In this case it's a little bit obvious every instance should represent an individual city and every individual city it's going to have a name, population and state, and I'm going to call my class `City`. So, let's define our city class. "
   ]
  },
  {
   "cell_type": "code",
   "execution_count": 30,
   "metadata": {},
   "outputs": [
    {
     "name": "stdout",
     "output_type": "stream",
     "text": [
      "[<__main__.City object at 0x7f8aa3c81550>, <__main__.City object at 0x7f8aa3c810f0>, <__main__.City object at 0x7f8aa3c815c0>, <__main__.City object at 0x7f8aa3c815f8>]\n",
      "\n",
      "Detroit - MI (pop: 680250)\n"
     ]
    }
   ],
   "source": [
    "class City():\n",
    "    def __init__(self, n, p, s):\n",
    "        self.name = n\n",
    "        self.population = p\n",
    "        self.state = s\n",
    "\n",
    "    def __str__(self):\n",
    "        return '{} - {} (pop: {})'.format(self.name, self.state, self.population)\n",
    "\n",
    "cities = [City(n, p, s) for (n, p, s) in city_tuples]\n",
    "print(cities)\n",
    "print()\n",
    "print(cities[0])"
   ]
  },
  {
   "cell_type": "markdown",
   "metadata": {},
   "source": [
    "## Converting an Object to a String\n",
    "\n",
    "Let's suppose that we declared this class to represent a point on an `x`, `y` plane. We have a constructor that takes in argument for `x`, for `y`, and assigns two instance variables, `x` and `y`, to whatever is passed into the constructor. Now, let's suppose that we create a point at 7 and 6. If we print out, what is the value of this point? Then Python gives us back just information saying that this is a point object. "
   ]
  },
  {
   "cell_type": "code",
   "execution_count": 31,
   "metadata": {},
   "outputs": [
    {
     "name": "stdout",
     "output_type": "stream",
     "text": [
      "<__main__.Point object at 0x7f8aa3c882e8>\n"
     ]
    }
   ],
   "source": [
    "class Point():\n",
    "    def __init__(self, x, y):\n",
    "        self.x = x\n",
    "        self.y = y\n",
    "        \n",
    "point1 = Point(7, 6)\n",
    "print(point1)"
   ]
  },
  {
   "cell_type": "markdown",
   "metadata": {},
   "source": [
    "It has no information about where the point actually is. So, for example, if I had a second point at 8 and 9, and printed out p2, I have no way of telling that p and p2 are different points. "
   ]
  },
  {
   "cell_type": "code",
   "execution_count": 32,
   "metadata": {},
   "outputs": [
    {
     "name": "stdout",
     "output_type": "stream",
     "text": [
      "<__main__.Point object at 0x7f8aa3c88978>\n"
     ]
    }
   ],
   "source": [
    "point2 = Point(8, 9)\n",
    "print(point2)"
   ]
  },
  {
   "cell_type": "markdown",
   "metadata": {},
   "source": [
    "So, classes can have an optional method called the `__str__`. Just like every other method, it accepts `self` as the first argument. What this method does is it tells Python how to represent that object when you actually print it out. So, if I specify that the method should print out just point by returning the string point, now when I print out both of my point instances, you can see that I get point. "
   ]
  },
  {
   "cell_type": "code",
   "execution_count": 34,
   "metadata": {},
   "outputs": [
    {
     "name": "stdout",
     "output_type": "stream",
     "text": [
      "point\n",
      "point\n"
     ]
    }
   ],
   "source": [
    "class Point():\n",
    "    def __init__(self, x, y):\n",
    "        self.x = x\n",
    "        self.y = y\n",
    "        \n",
    "    def __str__(self):\n",
    "        return 'point'\n",
    "        \n",
    "point1 = Point(7, 6)\n",
    "print(point1)\n",
    "point2 = Point(8, 9)\n",
    "print(point2)"
   ]
  },
  {
   "cell_type": "markdown",
   "metadata": {},
   "source": [
    "Whatever gets returned by this method, is what gets printed out when we convert this point object to a string in order to print it. So, for points, we might want to have something, like point and then maybe the `x` and `y` position. So, now I can tell both of these points apart, and when I print out the instance, then I actually get something useful for a point. So, when you create a class, you often want to set the `__str__` method in order to get more readable and understandable things to print out when you actually print out any particular instance."
   ]
  },
  {
   "cell_type": "code",
   "execution_count": 35,
   "metadata": {},
   "outputs": [
    {
     "name": "stdout",
     "output_type": "stream",
     "text": [
      "Point (7, 6)\n",
      "Point (8, 9)\n"
     ]
    }
   ],
   "source": [
    "class Point():\n",
    "    def __init__(self, x, y):\n",
    "        self.x = x\n",
    "        self.y = y\n",
    "        \n",
    "    def __str__(self):\n",
    "        return 'Point ({}, {})'.format(self.x, self.y)\n",
    "        \n",
    "point1 = Point(7, 6)\n",
    "print(point1)\n",
    "point2 = Point(8, 9)\n",
    "print(point2)"
   ]
  },
  {
   "cell_type": "markdown",
   "metadata": {},
   "source": [
    "## Special (dunderscore) Methods\n",
    "\n",
    "Supposing we have our Point class from before, and we have a constructor `__init__` and `__str__` to represent how we represent any instance as a string. Now, suppose that we have two points as well, point one at (-5, 10) and point two at (15, 20). Suppose that we wanted the ability to be able to add points together. So, for example, if we take point one plus point two, then we might get something like point one, two. We might want to add points together by adding their coordinates. So, (-5+15, 10+20) would give us (10, 30). We can override a method called `__add__` that will tell Python how to actually add two points together. This new method is going to take in `self`, but it's also going to take in what we're expecting to add to `self`, which I'll call this `otherPoint`."
   ]
  },
  {
   "cell_type": "code",
   "execution_count": 36,
   "metadata": {},
   "outputs": [
    {
     "name": "stdout",
     "output_type": "stream",
     "text": [
      "Point (10, 30)\n"
     ]
    }
   ],
   "source": [
    "class Point():\n",
    "    def __init__(self, x, y):\n",
    "        self.x = x\n",
    "        self.y = y\n",
    "        \n",
    "    def __str__(self):\n",
    "        return 'Point ({}, {})'.format(self.x, self.y)\n",
    "    \n",
    "    def __add__(self, otherPoint):\n",
    "        return Point(self.x + otherPoint.x, self.y + otherPoint.y)\n",
    "        \n",
    "point1 = Point(-5, 10)\n",
    "point2 = Point(15, 20)\n",
    "print(point1 + point2)"
   ]
  },
  {
   "cell_type": "markdown",
   "metadata": {},
   "source": [
    "Beyond add, there are several other methods that we can override. So, for example, there is subtraction. If we wanted to be able to print out the value of P1 minus P2, then we could define this `__sub__` method. "
   ]
  },
  {
   "cell_type": "code",
   "execution_count": 37,
   "metadata": {},
   "outputs": [
    {
     "name": "stdout",
     "output_type": "stream",
     "text": [
      "Point (-20, -10)\n"
     ]
    }
   ],
   "source": [
    "class Point():\n",
    "    def __init__(self, x, y):\n",
    "        self.x = x\n",
    "        self.y = y\n",
    "        \n",
    "    def __str__(self):\n",
    "        return 'Point ({}, {})'.format(self.x, self.y)\n",
    "    \n",
    "    def __add__(self, otherPoint):\n",
    "        return Point(self.x + otherPoint.x, self.y + otherPoint.y)\n",
    "    \n",
    "    def __sub__(self, otherPoint):\n",
    "        return Point(self.x - otherPoint.x, self.y - otherPoint.y)\n",
    "        \n",
    "point1 = Point(-5, 10)\n",
    "point2 = Point(15, 20)\n",
    "print(point1 - point2)"
   ]
  },
  {
   "cell_type": "markdown",
   "metadata": {},
   "source": [
    "There are many other methods that we can override, but they follow the same pattern as add, sub, and they all start and end with underscores."
   ]
  },
  {
   "cell_type": "markdown",
   "metadata": {},
   "source": [
    "## Instances as Return Values\n",
    "\n",
    "You've already learned that functions and methods can return any kind of value as their return value. But one thing that's worth noting is that they can specifically return other instances. So let's suppose that we have this Point class. And this Point class has a constructor, and the constructor sets two instance variables for `x` and `y`. And we have methods `getX()` to return the `x` instance variable, `getY()` to return the `y` instance variable. \n",
    "\n",
    "Now, suppose that we wanted to define a new method here. Suppose that we wanted the ability to accept two points and return a new point that was halfway between the two. So for example, here I have point `p`, and I have point `q`, and let's say that we wanted a function that would return a new point that was halfway between point `p` and point `q`. And let's call that function `halfway`, and let's make it a method on every point. So for example, if I say `p.halfway(q)`, then this should return a new Point that is halfway between `p` and `q`. In our example, the `x` should be halfway between `3` and `5`, so the `x` should be `4`. And the `y` should be halfway between `4` and `12`, so the `y` should be `8`. "
   ]
  },
  {
   "cell_type": "code",
   "execution_count": 40,
   "metadata": {},
   "outputs": [
    {
     "name": "stdout",
     "output_type": "stream",
     "text": [
      "Point (4.0, 8.0)\n",
      "4.0\n"
     ]
    }
   ],
   "source": [
    "class Point():\n",
    "    def __init__(self, x, y):\n",
    "        self.x = x\n",
    "        self.y = y\n",
    "        \n",
    "    def __str__(self):\n",
    "        return 'Point ({}, {})'.format(self.x, self.y)\n",
    "    \n",
    "    def __add__(self, otherPoint):\n",
    "        return Point(self.x + otherPoint.x, self.y + otherPoint.y)\n",
    "    \n",
    "    def __sub__(self, otherPoint):\n",
    "        return Point(self.x - otherPoint.x, self.y - otherPoint.y)\n",
    "    \n",
    "    def halfway(self, target):\n",
    "        mx = (self.x + target.x) / 2\n",
    "        my = (self.y + target.y) / 2\n",
    "        return Point(mx, my)\n",
    "        \n",
    "p = Point(3, 4)\n",
    "q = Point(5, 12)\n",
    "midpoint = p.halfway(q)\n",
    "print(midpoint)\n",
    "print(midpoint.x)"
   ]
  },
  {
   "cell_type": "markdown",
   "metadata": {},
   "source": [
    "Note that `midpoint` is a new instance of my `Point` class. So I can do things like print out `midpoint.x`, and I'll get `4`."
   ]
  },
  {
   "cell_type": "markdown",
   "metadata": {},
   "source": [
    "## Sorting Lists of Instances\n",
    "\n",
    "Given a list of instances it's often useful to be able to sort them by some index. So for example, suppose that we have a class to represent a fruit and every fruit has a name and a price. So we might have a list of fruits, as:"
   ]
  },
  {
   "cell_type": "code",
   "execution_count": 41,
   "metadata": {},
   "outputs": [],
   "source": [
    "class Fruit():\n",
    "    def __init__(self, name, price):\n",
    "        self.name = name\n",
    "        self.price = price\n",
    "\n",
    "list_fruits = [\n",
    "    Fruit('Cherry', 10),\n",
    "    Fruit('Apple', 5),\n",
    "    Fruit('Blueberry', 20)\n",
    "]\n",
    "\n",
    "# we want to do something like\n",
    "#print(sorted(list_fruits))"
   ]
  },
  {
   "cell_type": "markdown",
   "metadata": {},
   "source": [
    "Suppose that I want to be able to sort this list of fruits by their price. Recall that the sorting method allows us to sort any list of items. So if I call print out the value of sorted list, so if I don't pass in any key into sorted, then sorted tells us that it doesn't know how to compare two fruit items. So we need to be able to tell sorted how to compare two fruit items by passing in a value for key. Now remember that `key` in `sort` is expecting a function as it's argument, so what I want to pass into key is a function that tells us what we want to sort by. So I'm going to define another method called `sort_priority` in class `Fruit`."
   ]
  },
  {
   "cell_type": "code",
   "execution_count": 48,
   "metadata": {},
   "outputs": [
    {
     "name": "stdout",
     "output_type": "stream",
     "text": [
      "[<__main__.Fruit object at 0x7f8aa3c83ac8>, <__main__.Fruit object at 0x7f8aa3c839e8>, <__main__.Fruit object at 0x7f8aa3c83a58>]\n",
      "\n",
      "Apple: 5\n",
      "Cherry: 10\n",
      "Blueberry: 20\n"
     ]
    }
   ],
   "source": [
    "class Fruit():\n",
    "    def __init__(self, name, price):\n",
    "        self.name = name\n",
    "        self.price = price\n",
    "        \n",
    "    def sort_priority(self):\n",
    "        return self.price\n",
    "\n",
    "list_fruits = [\n",
    "    Fruit('Cherry', 10),\n",
    "    Fruit('Apple', 5),\n",
    "    Fruit('Blueberry', 20)\n",
    "]\n",
    "\n",
    "print(sorted(list_fruits, key=Fruit.sort_priority))\n",
    "print()\n",
    "for f in sorted(list_fruits, key=Fruit.sort_priority):\n",
    "    print('{}: {}'.format(f.name, f.price))"
   ]
  },
  {
   "cell_type": "markdown",
   "metadata": {},
   "source": [
    "I'm going to use this `sort_priority` method to return what's important when we actually sort two fruits relative to each other. So I am going to say that I want to sort by `price`. Now, when I call sorted, I can pass the key and what the sorted function is going to do is it's going to call `sort_priority` on every fruit instance in the list and it's going to sort by whatever that returns, in this case, the price. So if I print out this value of sorted with key equals `Fruit.sort_priority`, I can see that my fruits are sorted from lowest priced, so apple at five to highest price, so cherry at 10 and then blueberry at 20. \n",
    "\n",
    "Another slightly more indirect way to do this is rather than saying key equals `Fruit.sort_priority`, we could pass in a Lambda function as our key. "
   ]
  },
  {
   "cell_type": "code",
   "execution_count": 50,
   "metadata": {},
   "outputs": [
    {
     "name": "stdout",
     "output_type": "stream",
     "text": [
      "Apple: 5\n",
      "Cherry: 10\n",
      "Blueberry: 20\n"
     ]
    }
   ],
   "source": [
    "for f in sorted(list_fruits, key=lambda x : x.sort_priority()):\n",
    "    print('{}: {}'.format(f.name, f.price))"
   ]
  },
  {
   "cell_type": "markdown",
   "metadata": {},
   "source": [
    "## Class Variables and Instance Variables\n",
    "\n",
    "We've already seen that every instance of a class can have its own instance variables. So for example, below we have a `Point` class and inside of the constructor `__init__`, we can see that every point instance has instance variables for `x` and `x` to represent the position of that particular point. One thing that I want to note is that, instances have their own variables but classes can have their own class variables. They work just like instance variables except that they belong to the class itself. So for example, here the point class has its own class variable called `printed_rep`. So I'm going to write that inside of the class point, I'll say `printed_rep` is set to a star."
   ]
  },
  {
   "cell_type": "code",
   "execution_count": 53,
   "metadata": {},
   "outputs": [
    {
     "name": "stdout",
     "output_type": "stream",
     "text": [
      "4\n",
      "3 *\n",
      "2\n",
      "1\n",
      "01234\n",
      "\n",
      "3\n",
      "2  *\n",
      "1\n",
      "0\n",
      "9\n",
      "8\n",
      "7\n",
      "6\n",
      "5\n",
      "4\n",
      "3\n",
      "2\n",
      "1\n",
      "01234567890123\n"
     ]
    }
   ],
   "source": [
    "class Point():\n",
    "    \n",
    "    printed_rep = '*'\n",
    "    \n",
    "    def __init__(self, x, y):\n",
    "        self.x = x\n",
    "        self.y = y\n",
    "\n",
    "    def graph(self):\n",
    "        rows = []\n",
    "        size = max(int(self.x), int(self.y) + 2)\n",
    "        for j in range(size-1):\n",
    "            if (j+1) == int(self.y):\n",
    "                special_row = str((j+1) % 10) + (\" \"*(int(self.x) -1 ))+ self.printed_rep\n",
    "                rows.append(special_row)\n",
    "            else:\n",
    "                rows.append(str((j+1) % 10))\n",
    "        rows.reverse()\n",
    "        x_axis = \"\"\n",
    "        for i in range(size):\n",
    "            x_axis += str(i % 10)\n",
    "        rows.append(x_axis)\n",
    "        return \"\\n\".join(rows)\n",
    "\n",
    "p1 = Point(2, 3)\n",
    "p2 = Point(3, 12)\n",
    "print(p1.graph())\n",
    "print()\n",
    "print(p2.graph())"
   ]
  },
  {
   "cell_type": "markdown",
   "metadata": {},
   "source": [
    "Whenever Python searches for anything of the form `instancename.instancevar`, e.g., `p1.graph` or `p2.graph` or `p1.printed_rep`, then the search order that the Python evaluator goes in is, it first searches inside of the instance. If it doesn't find an instance variable with the name, then it searches inside of the class. When we say `p2.graph`, Python first searches inside of `p2`, it doesn't find it there and so it searches inside of the point class where it finds it. \n",
    "\n",
    "If we had something like print `p1.z`, then python would first search inside of `p1`, it wouldn't find `z` there. It would then search inside the `Point` class, it wouldn't find `z` there either and so it would give us a run-time error. Now, the way that we define this point class, is that we have this graph method and what graph does is a kind of forms a text graph or a textual representation of a graph that contains this point. Inside of this representation of graph, I refer to `self.printed_rep`. So you'll note that here, `printed_rep` again is a class variable that's set to a `*`. If I change `printed_rep` to be let's say a lowercase `x`, then you'll see that `printed_rep` changes for both `p1` and `p2` when we actually called the graph method on both of them. So, that's an example of how classes can contain variables. So again, we have instance variables that belong to every particular instance and we have class variables which belong to a class. Here technically, there are three class variables, there's `printed_rep`, `__init__` and `graph` that all belong to the point class."
   ]
  },
  {
   "cell_type": "markdown",
   "metadata": {},
   "source": [
    "## Thinking About Classes and Instances\n",
    "\n",
    "Before you write any code for classes, there are a few questions that you should ask yourself. \n",
    "\n",
    "- First is, what kind of data do you actually want to represent with your class? Is it a list of songs? Is it a list of students? A list of cars et cetera. \n",
    "- Then, once you know that, then you should ask yourself, what does one particular instance represent of this class? So if it's a list of songs, one particular instance might represent a song. One particular instance of a list of students might represent one particular student. \n",
    "- Then from there you should ask yourself, what are the instance variables? What's unique to every instance that I might have? So if it's a list of students, it might be something like a name, a student ID. If it's a list of songs, it might be the artist, the track name, the length, et cetera. \n",
    "- Then after you know that you should also ask, what methods might you actually want? So, if every instance is a particular song, then you might have a method, for example, to paying an external API to get the lyrics for that song. If it's a student, you might want to have a method to, for example, send a message to that student. It depends again on what your instances represent. \n",
    "- Then finally, you should ask yourself, what does the printed representation of an instance look like? So if I print out a particular song, then I might want to print out the track name, and then the album name, and maybe the length. \n",
    "\n",
    "You should have answers to all of these questions before you start writing code for classes. Now, it's important to know that designing classes is really more of an art than a science. It's very common to also refactor or rewrite classes in instance variables and methods even for experts. But all of this comes more with practice."
   ]
  }
 ],
 "metadata": {
  "kernelspec": {
   "display_name": "Python 3",
   "language": "python",
   "name": "python3"
  },
  "language_info": {
   "codemirror_mode": {
    "name": "ipython",
    "version": 3
   },
   "file_extension": ".py",
   "mimetype": "text/x-python",
   "name": "python",
   "nbconvert_exporter": "python",
   "pygments_lexer": "ipython3",
   "version": "3.6.10"
  }
 },
 "nbformat": 4,
 "nbformat_minor": 4
}
